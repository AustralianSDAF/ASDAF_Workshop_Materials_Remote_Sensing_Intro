{
 "cells": [
  {
   "cell_type": "markdown",
   "metadata": {},
   "source": [
    "# Custom Raster calculations using Numba\n",
    "## ❓ Questions\n",
    "- How do I create fast custom raster calculations that have more flexibility than basic operations?\n",
    "\n",
    "\n",
    "## ❗ Objectives\n",
    "- Create a numba compiled function that operates on multiple single pixels\n",
    "- Create a numba compiled function that operates on multiple pixels at once\n"
   ]
  },
  {
   "cell_type": "markdown",
   "metadata": {},
   "source": [
    "# What is Numba?\n",
    "Python has several features that make it a great prototyping language, but it's native speed is often criticised. While this is ultimately down to the implementation, it is still an issue.  \n",
    "\n",
    "Numpy and several other libraries will wrap compiled C, C++, or Fortran code to try to have the benefits of python without giving up too much speed.  \n",
    "\n",
    "[Numba](https://numba.pydata.org/) takes a different approach:  \n",
    "When you wrap a python function with a numba compilation 'decorator', it will try to compile it using the state-of-the-art LLVM compiler. One drawback is that it will only run with a subset of python and numpy functionality - most libraries will not be able to be compiled. One of the better features of numba is that you can write loops and the compiler will automatically optimise your code to be as fast or faster than single line numpy functions.  \n",
    "\n",
    "\"\n",
    "You don't need to replace the Python interpreter, run a separate compilation step, or even have a C/C++ compiler installed. Just apply one of the Numba decorators to your Python function, and Numba does the rest. \n",
    "\""
   ]
  },
  {
   "cell_type": "markdown",
   "metadata": {},
   "source": [
    "# Example function\n",
    "Let's write an example function in numba to get the hang of it"
   ]
  },
  {
   "cell_type": "code",
   "execution_count": 28,
   "metadata": {},
   "outputs": [],
   "source": [
    "from numba import njit\n",
    "import numpy as np\n",
    "\n",
    "\n"
   ]
  },
  {
   "cell_type": "code",
   "execution_count": null,
   "metadata": {},
   "outputs": [],
   "source": []
  },
  {
   "cell_type": "code",
   "execution_count": 30,
   "metadata": {},
   "outputs": [],
   "source": [
    "# Timing the code\n"
   ]
  },
  {
   "cell_type": "markdown",
   "metadata": {},
   "source": [
    "Note that while numba can create fast custom calculations, your implementation may not always be as fast as an existing implementation due to a number of factors"
   ]
  },
  {
   "cell_type": "markdown",
   "metadata": {},
   "source": [
    "# Applying numba to remote sensing data\n",
    "Let's load back in our data and create a function to apply to it"
   ]
  },
  {
   "cell_type": "code",
   "execution_count": 31,
   "metadata": {},
   "outputs": [
    {
     "data": {
      "text/plain": [
       "{'B12': '/data/ASDAF_Workshop_Materials_Remote_Sensing_Intro/notebooks/workshop_data/S2A_MSIL2A_20230824T021351_N0509_R060_T50HMK_20230824T070459/S2A_MSIL2A_20230824T021351_N0509_R060_T50HMK_20230824T070459.SAFE/GRANULE/L2A_T50HMK_A042671_20230824T022008/IMG_DATA/R60m/T50HMK_20230824T021351_B12_60m.jp2',\n",
       " 'TCI': '/data/ASDAF_Workshop_Materials_Remote_Sensing_Intro/notebooks/workshop_data/S2A_MSIL2A_20230824T021351_N0509_R060_T50HMK_20230824T070459/S2A_MSIL2A_20230824T021351_N0509_R060_T50HMK_20230824T070459.SAFE/GRANULE/L2A_T50HMK_A042671_20230824T022008/IMG_DATA/R60m/T50HMK_20230824T021351_TCI_60m.jp2',\n",
       " 'WVP': '/data/ASDAF_Workshop_Materials_Remote_Sensing_Intro/notebooks/workshop_data/S2A_MSIL2A_20230824T021351_N0509_R060_T50HMK_20230824T070459/S2A_MSIL2A_20230824T021351_N0509_R060_T50HMK_20230824T070459.SAFE/GRANULE/L2A_T50HMK_A042671_20230824T022008/IMG_DATA/R60m/T50HMK_20230824T021351_WVP_60m.jp2',\n",
       " 'B06': '/data/ASDAF_Workshop_Materials_Remote_Sensing_Intro/notebooks/workshop_data/S2A_MSIL2A_20230824T021351_N0509_R060_T50HMK_20230824T070459/S2A_MSIL2A_20230824T021351_N0509_R060_T50HMK_20230824T070459.SAFE/GRANULE/L2A_T50HMK_A042671_20230824T022008/IMG_DATA/R60m/T50HMK_20230824T021351_B06_60m.jp2',\n",
       " 'B07': '/data/ASDAF_Workshop_Materials_Remote_Sensing_Intro/notebooks/workshop_data/S2A_MSIL2A_20230824T021351_N0509_R060_T50HMK_20230824T070459/S2A_MSIL2A_20230824T021351_N0509_R060_T50HMK_20230824T070459.SAFE/GRANULE/L2A_T50HMK_A042671_20230824T022008/IMG_DATA/R60m/T50HMK_20230824T021351_B07_60m.jp2',\n",
       " 'B09': '/data/ASDAF_Workshop_Materials_Remote_Sensing_Intro/notebooks/workshop_data/S2A_MSIL2A_20230824T021351_N0509_R060_T50HMK_20230824T070459/S2A_MSIL2A_20230824T021351_N0509_R060_T50HMK_20230824T070459.SAFE/GRANULE/L2A_T50HMK_A042671_20230824T022008/IMG_DATA/R60m/T50HMK_20230824T021351_B09_60m.jp2',\n",
       " 'B11': '/data/ASDAF_Workshop_Materials_Remote_Sensing_Intro/notebooks/workshop_data/S2A_MSIL2A_20230824T021351_N0509_R060_T50HMK_20230824T070459/S2A_MSIL2A_20230824T021351_N0509_R060_T50HMK_20230824T070459.SAFE/GRANULE/L2A_T50HMK_A042671_20230824T022008/IMG_DATA/R60m/T50HMK_20230824T021351_B11_60m.jp2',\n",
       " 'B02': '/data/ASDAF_Workshop_Materials_Remote_Sensing_Intro/notebooks/workshop_data/S2A_MSIL2A_20230824T021351_N0509_R060_T50HMK_20230824T070459/S2A_MSIL2A_20230824T021351_N0509_R060_T50HMK_20230824T070459.SAFE/GRANULE/L2A_T50HMK_A042671_20230824T022008/IMG_DATA/R60m/T50HMK_20230824T021351_B02_60m.jp2',\n",
       " 'B03': '/data/ASDAF_Workshop_Materials_Remote_Sensing_Intro/notebooks/workshop_data/S2A_MSIL2A_20230824T021351_N0509_R060_T50HMK_20230824T070459/S2A_MSIL2A_20230824T021351_N0509_R060_T50HMK_20230824T070459.SAFE/GRANULE/L2A_T50HMK_A042671_20230824T022008/IMG_DATA/R60m/T50HMK_20230824T021351_B03_60m.jp2',\n",
       " 'B8A': '/data/ASDAF_Workshop_Materials_Remote_Sensing_Intro/notebooks/workshop_data/S2A_MSIL2A_20230824T021351_N0509_R060_T50HMK_20230824T070459/S2A_MSIL2A_20230824T021351_N0509_R060_T50HMK_20230824T070459.SAFE/GRANULE/L2A_T50HMK_A042671_20230824T022008/IMG_DATA/R60m/T50HMK_20230824T021351_B8A_60m.jp2',\n",
       " 'B01': '/data/ASDAF_Workshop_Materials_Remote_Sensing_Intro/notebooks/workshop_data/S2A_MSIL2A_20230824T021351_N0509_R060_T50HMK_20230824T070459/S2A_MSIL2A_20230824T021351_N0509_R060_T50HMK_20230824T070459.SAFE/GRANULE/L2A_T50HMK_A042671_20230824T022008/IMG_DATA/R60m/T50HMK_20230824T021351_B01_60m.jp2',\n",
       " 'AOT': '/data/ASDAF_Workshop_Materials_Remote_Sensing_Intro/notebooks/workshop_data/S2A_MSIL2A_20230824T021351_N0509_R060_T50HMK_20230824T070459/S2A_MSIL2A_20230824T021351_N0509_R060_T50HMK_20230824T070459.SAFE/GRANULE/L2A_T50HMK_A042671_20230824T022008/IMG_DATA/R60m/T50HMK_20230824T021351_AOT_60m.jp2',\n",
       " 'B04': '/data/ASDAF_Workshop_Materials_Remote_Sensing_Intro/notebooks/workshop_data/S2A_MSIL2A_20230824T021351_N0509_R060_T50HMK_20230824T070459/S2A_MSIL2A_20230824T021351_N0509_R060_T50HMK_20230824T070459.SAFE/GRANULE/L2A_T50HMK_A042671_20230824T022008/IMG_DATA/R60m/T50HMK_20230824T021351_B04_60m.jp2',\n",
       " 'B05': '/data/ASDAF_Workshop_Materials_Remote_Sensing_Intro/notebooks/workshop_data/S2A_MSIL2A_20230824T021351_N0509_R060_T50HMK_20230824T070459/S2A_MSIL2A_20230824T021351_N0509_R060_T50HMK_20230824T070459.SAFE/GRANULE/L2A_T50HMK_A042671_20230824T022008/IMG_DATA/R60m/T50HMK_20230824T021351_B05_60m.jp2',\n",
       " 'SCL': '/data/ASDAF_Workshop_Materials_Remote_Sensing_Intro/notebooks/workshop_data/S2A_MSIL2A_20230824T021351_N0509_R060_T50HMK_20230824T070459/S2A_MSIL2A_20230824T021351_N0509_R060_T50HMK_20230824T070459.SAFE/GRANULE/L2A_T50HMK_A042671_20230824T022008/IMG_DATA/R60m/T50HMK_20230824T021351_SCL_60m.jp2'}"
      ]
     },
     "execution_count": 31,
     "metadata": {},
     "output_type": "execute_result"
    }
   ],
   "source": [
    "# Get the directory again\n",
    "import os\n",
    "from os.path import join\n",
    "\n",
    "product_dir_textfile = \"product_dir.txt\"\n",
    "\n",
    "with open(product_dir_textfile, 'r') as f:\n",
    "    base_product_dir = f.readline()\n",
    "\n",
    "product_dir = join(base_product_dir, 'GRANULE')\n",
    "L2_dirname = os.listdir(product_dir)[0]\n",
    "product_dir = join(product_dir, L2_dirname)\n",
    "product_dir = join(product_dir, 'IMG_DATA', 'R60m')\n",
    "\n",
    "# Get a dictionary of filenames\n",
    "image_paths = {}\n",
    "for fname in os.listdir(product_dir):\n",
    "    fpath = join(product_dir, fname)\n",
    "    file_band = fname.split('_')[2]\n",
    "    image_paths[file_band] = fpath\n",
    "\n",
    "image_paths"
   ]
  },
  {
   "cell_type": "code",
   "execution_count": 50,
   "metadata": {},
   "outputs": [],
   "source": [
    "import rioxarray\n",
    "\n",
    "red_int = rioxarray.open_rasterio(image_paths['B04'])\n",
    "nir_int = rioxarray.open_rasterio(image_paths['B8A'])"
   ]
  },
  {
   "cell_type": "code",
   "execution_count": 51,
   "metadata": {},
   "outputs": [
    {
     "data": {
      "text/plain": [
       "dtype('uint16')"
      ]
     },
     "execution_count": 51,
     "metadata": {},
     "output_type": "execute_result"
    }
   ],
   "source": [
    "# What data type is it?\n",
    "red_int.dtype"
   ]
  },
  {
   "cell_type": "markdown",
   "metadata": {},
   "source": [
    "Let's convert the unint16 data to float32. To do this we will need to take the integer and divide by 10000 to get a reflectance"
   ]
  },
  {
   "cell_type": "code",
   "execution_count": 53,
   "metadata": {},
   "outputs": [
    {
     "data": {
      "text/plain": [
       "dtype('float32')"
      ]
     },
     "execution_count": 53,
     "metadata": {},
     "output_type": "execute_result"
    }
   ],
   "source": [
    "red = red_int.astype(np.float32)/10000\n",
    "nir = ndvi_int.astype(np.float32)/10000\n",
    "red.dtype"
   ]
  },
  {
   "cell_type": "markdown",
   "metadata": {},
   "source": [
    "## NDVI\n",
    "For some more practice, let's reimplement the NDVI using numba.\n"
   ]
  },
  {
   "cell_type": "code",
   "execution_count": null,
   "metadata": {},
   "outputs": [],
   "source": []
  },
  {
   "cell_type": "markdown",
   "metadata": {},
   "source": [
    "Time this code and compare it to the previous way of creating an NDVI. Is it worth it?"
   ]
  },
  {
   "cell_type": "code",
   "execution_count": null,
   "metadata": {},
   "outputs": [],
   "source": []
  },
  {
   "cell_type": "markdown",
   "metadata": {},
   "source": [
    "# Apply a kernel\n",
    "We just applied a single pixel operation. Let's now use a more real-world use case: Applying a kernel over an image"
   ]
  },
  {
   "cell_type": "markdown",
   "metadata": {},
   "source": []
  }
 ],
 "metadata": {
  "kernelspec": {
   "display_name": "base",
   "language": "python",
   "name": "python3"
  },
  "language_info": {
   "codemirror_mode": {
    "name": "ipython",
    "version": 3
   },
   "file_extension": ".py",
   "mimetype": "text/x-python",
   "name": "python",
   "nbconvert_exporter": "python",
   "pygments_lexer": "ipython3",
   "version": "3.11.9"
  }
 },
 "nbformat": 4,
 "nbformat_minor": 2
}
