{
 "cells": [
  {
   "cell_type": "markdown",
   "execution_count": null,
   "metadata": {},
   "outputs": [],
   "source": [
    "# Colab only\n",
    "\u2757 This notebook is designed to run on google colab.   \n",
    "\ud83c\udf89 These top few cells should install the nescesary libraries needed and set you up to be able to run the rest of the notebook!\n",
    "\n",
    "You should already have a google account ready to go!\n",
    "\n",
    "To bore you with details, these cells will:\n",
    "- Install needed packages which are not already installed google-colab\n",
    "- Mount your google drive ready to be used \n",
    "\n",
    "### \ud83e\uddd9\u200d\u2640\ufe0f Wizards\n",
    "\ud83e\uddd9\u200d\u2642\ufe0f If you're a wizard, here's some info about colab you may want to know:\n",
    "- Each colab notebook runs on its own temporary linux virtual machine with its own filesystem.   \n",
    "- If your notebook is shutdown, this will delete the temporary instance - this is why you need to mount google drive\n",
    "- Colab seems to let you have about 3 notebook instances running at any time; each of these will be on their own unique VM"
   ]
  },
  {
   "cell_type": "code",
   "execution_count": null,
   "metadata": {},
   "outputs": [],
   "source": [
    "# Mounting google drive\n",
    "# Follow the prompts with default settings\n",
    "import os\n",
    "from os.path import join\n",
    "\n",
    "from google.colab import drive\n",
    "google_dir = '/content/drive'\n",
    "drive.mount(google_dir)"
   ]
  },
  {
   "cell_type": "code",
   "execution_count": null,
   "metadata": {},
   "outputs": [],
   "source": [
    "from pathlib import Path\n",
    "project_dir = Path(google_dir) / 'MyDrive' / \"ASDAF_workshop_data\"\n",
    "storage_location = project_dir / \"workshop_data\"\n",
    "\n",
    "storage_location.mkdir(exist_ok=True, parents=True)\n",
    "\n",
    "# Now list the contents to see whats in it. If this is the first time you've run this,\n",
    "# \"storage_location\" may be empty!\n",
    "!ls {project_dir}\n",
    "!ls {storage_location}"
   ]
  },
  {
   "cell_type": "code",
   "execution_count": null,
   "metadata": {},
   "outputs": [],
   "source": [
    "# Now ensure the data we need is in the correct place\n",
    "!wget --no-verbose --output-document shp_data.zip https://github.com/AustralianSDAF/ASDAF_Workshop_Materials_Remote_Sensing_Intro/releases/download/shapefile_data_v1.0/john_forrest_rough.zip  \n",
    "!unzip -o shp_data.zip -d ../shp_data\n",
    "# Now list the contents to make sure we see the 4 shapefile components (.dbf, .prj, .shp, and .shx)\n",
    "!echo \n",
    "!echo Shapefile folder contains:\n",
    "!ls -al ../shp_data\n"
   ]
  },
  {
   "cell_type": "code",
   "execution_count": null,
   "metadata": {},
   "outputs": [],
   "source": [
    "# This cell has been automatically inserted from build_scripts/colab_nb_builder.py\n",
    "# It should make this notebook google-colab compatible!\n",
    "\n!pip install -q --upgrade pip \n",
    "!pip install -q folium\n",
    "!pip install -q rioxarray\n",
    "!pip install -q geopandas\n",
    "!pip install -q earthpy\n",
    "!pip install -q numba\n",
    "!pip install -q numpy\n",
    "!pip install -q pandas\n",
    "!pip install -q matplotlib\n",
    "!pip install -q xarray\n",
    "!pip install -q tqdm\n",
    "!pip install -q pystac-client",
    "!echo All done! Test below if it works."
   ]
  },
  {
   "cell_type": "markdown",
   "metadata": {},
   "source": [
    "# Masking and Processing\n",
    "This notebook uses content from the [Geospatial Carpentries](https://carpentries-incubator.github.io/geospatial-python/)"
   ]
  },
  {
   "cell_type": "markdown",
   "metadata": {},
   "source": [
    "## \u2753 Questions\n",
    "- How can I crop my raster data to the area of interest?\n",
    "\n",
    "\n",
    "## \u2757 Objectives\n",
    "- Crop raster data with a bounding box.\n",
    "- Crop raster data with a polygon.\n",
    "- Match two raster datasets in different CRS.\n",
    "\n",
    "\n",
    "\n"
   ]
  },
  {
   "cell_type": "code",
   "execution_count": null,
   "metadata": {},
   "outputs": [],
   "source": []
  },
  {
   "cell_type": "markdown",
   "metadata": {},
   "source": [
    "# Initial setup\n",
    "Some parameters we'll need throughout the lesson.  \n",
    "> **GOOGLE COLAB**  \n",
    "> If you're on google colab, the variable in this cell will already have been set in the top-cells, so just comment it out below with a `#` like so:\n",
    "> ```py\n",
    "> # storage_location = '../workshop_data'\n",
    "> ```\n",
    "> Alternatively delete the cell, or just dont run it!\n",
    "\n",
    "If you're not on clab, run the cell by holding `Shift` then pressing `Enter`!"
   ]
  },
  {
   "cell_type": "code",
   "execution_count": null,
   "metadata": {},
   "outputs": [],
   "source": [
    "# If you're on google colab, DONT RUN THIS CELL!\n",
    "storage_location = '../workshop_data'"
   ]
  },
  {
   "cell_type": "markdown",
   "metadata": {},
   "source": [
    "# Visualisation\n",
    "\n",
    "## Finding the files\n",
    "Before we can load the data files into Python, we first need to navigate to them on our computer. \n",
    "\n",
    "For Sentinel 2 files, these come in the \"SAFE\" standard."
   ]
  },
  {
   "cell_type": "code",
   "execution_count": null,
   "metadata": {},
   "outputs": [],
   "source": [
    "# Get the directory again\n",
    "import os\n",
    "\n",
    "base_product_dir = os.path.join(storage_location, 'S2')"
   ]
  },
  {
   "cell_type": "code",
   "execution_count": null,
   "metadata": {},
   "outputs": [],
   "source": [
    "os.listdir(base_product_dir)"
   ]
  },
  {
   "cell_type": "markdown",
   "metadata": {},
   "source": [
    "# Sentinel 2 Data\n",
    "\n",
    "![Common bands](../notebook_pictures/dmidS2LS7Comparison.png)  \n",
    "*Comparison of Landsat 7 and 8 bands with Sentinel-2 (USGS Public Domain Image)*"
   ]
  },
  {
   "cell_type": "markdown",
   "metadata": {},
   "source": [
    "## What's in a raster?"
   ]
  },
  {
   "cell_type": "code",
   "execution_count": null,
   "metadata": {},
   "outputs": [],
   "source": [
    "# Get a dictionary of images\n",
    "import rioxarray\n",
    "from os.path import join\n",
    "\n",
    "images = {}\n",
    "for fname in os.listdir(base_product_dir):\n",
    "    fpath = join(base_product_dir, fname)\n",
    "    print(fname[-3:])\n",
    "    if fname[-3:] == 'txt':\n",
    "        continue\n",
    "    band = fname.split('.')[-2]\n",
    "    images[band] = rioxarray.open_rasterio(fpath)\n",
    "\n",
    "images"
   ]
  },
  {
   "cell_type": "code",
   "execution_count": null,
   "metadata": {},
   "outputs": [],
   "source": [
    "raster_s2_tci = images['visual']"
   ]
  },
  {
   "cell_type": "code",
   "execution_count": null,
   "metadata": {},
   "outputs": [],
   "source": [
    "# Check out some attributes\n",
    "raster_s2_tci"
   ]
  },
  {
   "cell_type": "code",
   "execution_count": null,
   "metadata": {},
   "outputs": [],
   "source": [
    "# save portion of an image to disk\n",
    "subset_tci = raster_s2_tci[:, 100:500, 100:500]\n",
    "subset_tci"
   ]
  },
  {
   "cell_type": "code",
   "execution_count": null,
   "metadata": {},
   "outputs": [],
   "source": [
    "# Write to disk and check it out!\n",
    "output_filename = os.path.join(storage_location, 'test.tif')\n",
    "subset_tci.rio.to_raster(output_filename)"
   ]
  },
  {
   "cell_type": "markdown",
   "metadata": {},
   "source": [
    "# Loading in vector data"
   ]
  },
  {
   "cell_type": "code",
   "execution_count": null,
   "metadata": {},
   "outputs": [],
   "source": [
    "# Load in AOI\n",
    "import geopandas as gpd\n",
    "\n",
    "# Should be the same on self-install and colab\n",
    "john_forrest_poly_fname = os.path.join(\"..\", \"shp_data\", \"john_forrest_rough.shp\")\n",
    "AOI_4326 =  gpd.read_file(john_forrest_poly_fname)"
   ]
  },
  {
   "cell_type": "code",
   "execution_count": null,
   "metadata": {},
   "outputs": [],
   "source": [
    "# Check out parameters of the polygon(s) we loaded\n",
    "AOI_4326.crs"
   ]
  },
  {
   "cell_type": "code",
   "execution_count": null,
   "metadata": {},
   "outputs": [],
   "source": [
    "# Make sure they're both in the same CRS\n",
    "# Only run this cell once!\n",
    "AOI = AOI_4326.to_crs(raster_s2_tci.rio.crs)"
   ]
  },
  {
   "cell_type": "markdown",
   "metadata": {},
   "source": [
    "# Crop raster data witha  bounding box\n",
    "The `clip_box` function allows one to crop a raster by the min/max of the x and y coordinates.   \n",
    "Note that we are cropping the original image raster now (`raster_s2_tci`), and not the roughly subset image `subset_tci`."
   ]
  },
  {
   "cell_type": "code",
   "execution_count": null,
   "metadata": {},
   "outputs": [],
   "source": [
    "raster_clip_box = raster_s2_tci.rio.clip_box(*AOI.total_bounds)"
   ]
  },
  {
   "cell_type": "code",
   "execution_count": null,
   "metadata": {},
   "outputs": [],
   "source": [
    "raster_clip_box.plot.imshow(figsize=(8,8))"
   ]
  },
  {
   "cell_type": "markdown",
   "metadata": {},
   "source": [
    "# Precise raster data cropping with polygons\n",
    "We have a cropped image around the polygon. To further analyse the image, one may want to crop the image to the exact polygon boundaries.   \n",
    "This can be done with the clip function!"
   ]
  },
  {
   "cell_type": "code",
   "execution_count": null,
   "metadata": {},
   "outputs": [],
   "source": [
    "raster_clip_JF = raster_clip_box.rio.clip(AOI['geometry'])"
   ]
  },
  {
   "cell_type": "code",
   "execution_count": null,
   "metadata": {},
   "outputs": [],
   "source": [
    "raster_clip_JF.plot.imshow(figsize=(8,8))"
   ]
  },
  {
   "cell_type": "markdown",
   "metadata": {},
   "source": [
    "## Cropping raster data using the `reproject_match()` method\n",
    "So far we have learned how to crop raster images with vector data. We can also crop a raster with another raster data.  \n",
    "To do this, we will use the `reproject_match` function. As indicated by its name, it performs reprojection and clipping in one go.  \n",
    "\n",
    "`reproject_match` is an incredibly useful function.   \n",
    "In addition to clipping and reprojecting, it will also ensure that pixels in each image match up with each other, allowing easy comparison between even disparate datasets.   \n",
    "For example, it will allow combining reprojecting Landsat 8 imagery to Sentinel 2 for comparison of metrics (reflectance, NDVI, etc)"
   ]
  },
  {
   "cell_type": "code",
   "execution_count": null,
   "metadata": {},
   "outputs": [],
   "source": [
    "# First, artificially change the data to show the utility of reproject_match\n",
    "fake_raster = raster_s2_tci.rio.reproject(\"EPSG:4326\")\n",
    "fake_raster.plot.imshow()"
   ]
  },
  {
   "cell_type": "code",
   "execution_count": null,
   "metadata": {},
   "outputs": [],
   "source": [
    "# Now lets reproject match\n",
    "fake_raster_clip = fake_raster.rio.reproject_match(raster_clip_JF)\n",
    "fake_raster_clip.plot.imshow(figsize=(8,8))"
   ]
  },
  {
   "cell_type": "markdown",
   "metadata": {},
   "source": [
    "We can also use this function to expand and image."
   ]
  },
  {
   "cell_type": "code",
   "execution_count": null,
   "metadata": {},
   "outputs": [],
   "source": [
    "# Now lets reproject match\n",
    "\n",
    "fake_reproject_match = raster_clip_JF.rio.reproject_match(fake_raster)\n",
    "fake_reproject_match.plot.imshow(figsize=(8,8))"
   ]
  },
  {
   "cell_type": "markdown",
   "metadata": {},
   "source": [
    "In one line `reproject_match` does a lot of helpful things:\n",
    "\n",
    "1. It reprojects (both with a CRS and aligning offset pixels).\n",
    "2. It matches the extent using nodata values or by clipping the data.\n",
    "3. It sets nodata values. This means we can run calculations on those two images.\n"
   ]
  },
  {
   "cell_type": "markdown",
   "metadata": {},
   "source": [
    "# \ud83d\udce2 Key Points\n",
    "\n",
    "- Use `clip_box` to crop a raster with a bounding box.\n",
    "- Use `clip` to crop a raster with a given polygon.\n",
    "- For efficiency, its usually recommended to `clip_box` then `clip`.\n",
    "- Use `reproject_match` to match two raster datasets (e.g. for comparison)."
   ]
  }
 ],
 "metadata": {
  "kernelspec": {
   "display_name": "base",
   "language": "python",
   "name": "python3"
  },
  "language_info": {
   "codemirror_mode": {
    "name": "ipython",
    "version": 3
   },
   "file_extension": ".py",
   "mimetype": "text/x-python",
   "name": "python",
   "nbconvert_exporter": "python",
   "pygments_lexer": "ipython3",
   "version": "3.11.9"
  }
 },
 "nbformat": 4,
 "nbformat_minor": 2
}