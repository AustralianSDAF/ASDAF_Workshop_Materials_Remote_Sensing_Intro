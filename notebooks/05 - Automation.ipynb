{
 "cells": [
  {
   "cell_type": "markdown",
   "metadata": {},
   "source": [
    "# Automating processing"
   ]
  },
  {
   "cell_type": "markdown",
   "metadata": {},
   "source": [
    "## ❓ Questions\n",
    "- How do I automate my data workflows?\n",
    "\n",
    "\n",
    "## ❗ Objectives\n",
    "- Create a pipeline from download to processing\n",
    "- Understand available methods of automation\n"
   ]
  },
  {
   "cell_type": "markdown",
   "metadata": {},
   "source": [
    "# Automating the entire process\n",
    "Previously we've applied single processes to our images.  \n",
    "Part of automation is encapsulating these processes into functions, and encapsualting those functions into larger processes.\n",
    "\n",
    "Let's try to put several of the lessons we've done together into functions in a script that we can call in this notebook"
   ]
  },
  {
   "cell_type": "code",
   "execution_count": null,
   "metadata": {
    "vscode": {
     "languageId": "plaintext"
    }
   },
   "outputs": [],
   "source": []
  },
  {
   "cell_type": "code",
   "execution_count": null,
   "metadata": {
    "vscode": {
     "languageId": "plaintext"
    }
   },
   "outputs": [],
   "source": []
  },
  {
   "cell_type": "code",
   "execution_count": null,
   "metadata": {
    "vscode": {
     "languageId": "plaintext"
    }
   },
   "outputs": [],
   "source": []
  },
  {
   "cell_type": "code",
   "execution_count": null,
   "metadata": {
    "vscode": {
     "languageId": "plaintext"
    }
   },
   "outputs": [],
   "source": []
  },
  {
   "cell_type": "code",
   "execution_count": null,
   "metadata": {
    "vscode": {
     "languageId": "plaintext"
    }
   },
   "outputs": [],
   "source": []
  },
  {
   "cell_type": "markdown",
   "metadata": {},
   "source": [
    "# Automatically Running a script\n",
    "The final part of the puzzle here is no longer activating the script ourself.  \n",
    "There are many ways to do this with just as many providers, including:  \n",
    "- Pawsey's Nimubs Cloud\n",
    "- ARDC\n",
    "- AWS\n",
    "- Azure\n",
    "- Your own linux machine\n",
    "\n",
    "As Nimbus seems quite popular, we'll focus on tools that can be used from nimbus, such as `cron`"
   ]
  },
  {
   "cell_type": "markdown",
   "metadata": {},
   "source": []
  }
 ],
 "metadata": {
  "language_info": {
   "name": "python"
  }
 },
 "nbformat": 4,
 "nbformat_minor": 2
}
