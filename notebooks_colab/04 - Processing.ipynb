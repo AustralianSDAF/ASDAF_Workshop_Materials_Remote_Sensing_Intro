{
 "cells": [
  {
   "cell_type": "markdown",
   "metadata": {},
   "source": [
    "# Raster Calcuations in Python"
   ]
  },
  {
   "cell_type": "markdown",
   "metadata": {},
   "source": [
    "## ❓ Questions\n",
    "- How do I perform calculations on rasters and extract pixel values for defined locations?\n",
    "\n",
    "\n",
    "## ❗ Objectives\n",
    "- Carry out operations with two rasters using Python’s built-in math operators.\n",
    "- Reclassify a continuous raster to a categorical raster.\n"
   ]
  },
  {
   "cell_type": "markdown",
   "metadata": {},
   "source": [
    "# Introduction\n",
    "---\n",
    "\n",
    "We often want to combine values of and perform calculations on rasters to create a new output raster. This notebook covers how to perform basic math operations using raster datasets. It also illustrates how to match rasters with different resolutions so that they can be used in the same calculation. As an example, we will calculate a vegetation index over one of the satellite scenes.\n",
    "\n",
    "## Normalized Difference Vegetation Index (NDVI)\n",
    "\n",
    "Suppose we are interested in monitoring vegetation fluctuations using satellite remote sensors. Scientists have defined a vegetation index to quantify the amount of green leaf vegetation using the light reflected in different wavelengths. This index, named Normalized Difference Vegetation Index (NDVI), exploits the fact that healthy green leaves strongly absorb red visible light while they mostly reflect light in the near infrared (NIR). The NDVI is computed as:\n",
    "$$\n",
    "NDVI=\\frac{NIR−Red}{NIR+Red}\n",
    "$$\n",
    "where NIR and Red label the reflectance values of the corresponding wavelengths. \n",
    "\n",
    "NDVI values range from -1 to +1: \n",
    "- Values close to one indicate high density of green leaves.\n",
    "- Poorly vegetated areas typically have NDVI values close to zero.\n",
    "- Negative NDVI values often indicate cloud and water bodies.\n",
    "\n",
    "\n",
    "![NDVI](../notebook_pictures/PONE-NDVI3.jpg)  \n",
    "> Source: Wu C-D, McNeely E, Cedeño-Laurent JG, Pan W-C, Adamkiewicz G, Dominici F, et al. (2014) Linking Student Performance in Massachusetts Elementary Schools with the “Greenness” of School Surroundings Using Remote Sensing. PLoS ONE 9(10): e108548. https://doi.org/10.1371/journal.pone.0108548\n",
    "\n",
    "\n",
    "See also: [Wikipedia Normalized difference vegetation index (Rationale)](https://en.wikipedia.org/wiki/Normalized_difference_vegetation_index#Rationale)"
   ]
  },
  {
   "cell_type": "markdown",
   "metadata": {},
   "source": [
    "# Initial setup for Google Drive\n",
    "Some parameters we'll need throughout the lesson. Please run these cells!"
   ]
  },
  {
   "cell_type": "code",
   "execution_count": null,
   "metadata": {},
   "outputs": [
    {
     "name": "stdout",
     "output_type": "stream",
     "text": [
      "Drive already mounted at /content/drive; to attempt to forcibly remount, call drive.mount(\"/content/drive\", force_remount=True).\n"
     ]
    }
   ],
   "source": [
    "import os\n",
    "from os.path import join\n",
    "\n",
    "from google.colab import drive\n",
    "google_dir = '/content/drive'\n",
    "drive.mount(google_dir)"
   ]
  },
  {
   "cell_type": "code",
   "execution_count": null,
   "metadata": {},
   "outputs": [
    {
     "data": {
      "text/plain": [
       "['Corporate-Powerpoint-Template.pptx',\n",
       " 'Show and Tell.pptx',\n",
       " 'CIC drop in session - Keegan.gdoc',\n",
       " 'Quick_meeting_slides_2021-05-09.pptx',\n",
       " 'asdaf',\n",
       " 'pipe3_20k.mp4',\n",
       " 'chl_7_bin_1_stride_4fps.mkv',\n",
       " 'WAT_Waste_City_of_canning_Project_Lessons_Learnt.xlsx',\n",
       " 'slides',\n",
       " 'WCCC_yolov4-unseen.mp4',\n",
       " 'CIC Carpentries Collaborative Google Doc.gdoc',\n",
       " 'RezBaz 22.gslides',\n",
       " 'S&T',\n",
       " 'ASDAF_BMT_UHI_JIRA_New_Project_Questionnaire.xlsx',\n",
       " 'CHL_Weekly_2018_1440p.mp4',\n",
       " 'Chlor_a_Weekly_2018_1440p.mp4',\n",
       " 'UChl_abs_Weekly_2018_1440p.mp4',\n",
       " 'solo work',\n",
       " 'Untitled form.gform',\n",
       " 'CIDS Computational Resources 2024-03-22.gslides',\n",
       " 'Colab Notebooks',\n",
       " 'CIC_Carpentries_Python-master',\n",
       " 'workshop_google',\n",
       " '202404_Intro_Rrs.gslides']"
      ]
     },
     "metadata": {},
     "output_type": "display_data"
    }
   ],
   "source": [
    "os.listdir(join(google_dir, 'MyDrive'))"
   ]
  },
  {
   "cell_type": "code",
   "execution_count": null,
   "metadata": {},
   "outputs": [],
   "source": [
    "project_dir = join(google_dir, 'MyDrive', \"workshop_google\")\n",
    "storage_location = join(project_dir, \"workshop_data\")\n",
    "\n",
    "os.makedirs(storage_location, exist_ok=True)"
   ]
  },
  {
   "cell_type": "code",
   "execution_count": null,
   "metadata": {},
   "outputs": [
    {
     "name": "stdout",
     "output_type": "stream",
     "text": [
      "data\t\t google_requirements.txt  notebook_pictures  notebooks_colab  workshop_data\n",
      "environment.yml  LICENSE\t\t  notebooks\t     README.md\n"
     ]
    }
   ],
   "source": [
    "!ls {project_dir}"
   ]
  },
  {
   "cell_type": "code",
   "execution_count": null,
   "metadata": {},
   "outputs": [
    {
     "name": "stdout",
     "output_type": "stream",
     "text": [
      "Requirement already satisfied: folium in /usr/local/lib/python3.10/dist-packages (from -r /content/drive/MyDrive/workshop_google/google_requirements.txt (line 1)) (0.14.0)\n",
      "Collecting rioxarray (from -r /content/drive/MyDrive/workshop_google/google_requirements.txt (line 2))\n",
      "  Downloading rioxarray-0.15.5-py3-none-any.whl (60 kB)\n",
      "\u001b[2K     \u001b[90m━━━━━━━━━━━━━━━━━━━━━━━━━━━━━━━━━━━━━━━━\u001b[0m \u001b[32m60.5/60.5 kB\u001b[0m \u001b[31m2.0 MB/s\u001b[0m eta \u001b[36m0:00:00\u001b[0m\n",
      "\u001b[?25hRequirement already satisfied: geopandas in /usr/local/lib/python3.10/dist-packages (from -r /content/drive/MyDrive/workshop_google/google_requirements.txt (line 3)) (0.13.2)\n",
      "Collecting earthpy (from -r /content/drive/MyDrive/workshop_google/google_requirements.txt (line 4))\n",
      "  Downloading earthpy-0.9.4-py3-none-any.whl (1.4 MB)\n",
      "\u001b[2K     \u001b[90m━━━━━━━━━━━━━━━━━━━━━━━━━━━━━━━━━━━━━━━━\u001b[0m \u001b[32m1.4/1.4 MB\u001b[0m \u001b[31m28.8 MB/s\u001b[0m eta \u001b[36m0:00:00\u001b[0m\n",
      "\u001b[?25hRequirement already satisfied: numba in /usr/local/lib/python3.10/dist-packages (from -r /content/drive/MyDrive/workshop_google/google_requirements.txt (line 5)) (0.58.1)\n",
      "Requirement already satisfied: numpy in /usr/local/lib/python3.10/dist-packages (from -r /content/drive/MyDrive/workshop_google/google_requirements.txt (line 6)) (1.25.2)\n",
      "Requirement already satisfied: pandas in /usr/local/lib/python3.10/dist-packages (from -r /content/drive/MyDrive/workshop_google/google_requirements.txt (line 7)) (2.0.3)\n",
      "Requirement already satisfied: matplotlib in /usr/local/lib/python3.10/dist-packages (from -r /content/drive/MyDrive/workshop_google/google_requirements.txt (line 8)) (3.7.1)\n",
      "Requirement already satisfied: xarray in /usr/local/lib/python3.10/dist-packages (from -r /content/drive/MyDrive/workshop_google/google_requirements.txt (line 9)) (2023.7.0)\n",
      "Requirement already satisfied: tqdm in /usr/local/lib/python3.10/dist-packages (from -r /content/drive/MyDrive/workshop_google/google_requirements.txt (line 10)) (4.66.4)\n",
      "Collecting pystac-client (from -r /content/drive/MyDrive/workshop_google/google_requirements.txt (line 11))\n",
      "  Downloading pystac_client-0.8.2-py3-none-any.whl (33 kB)\n",
      "Requirement already satisfied: branca>=0.6.0 in /usr/local/lib/python3.10/dist-packages (from folium->-r /content/drive/MyDrive/workshop_google/google_requirements.txt (line 1)) (0.7.2)\n",
      "Requirement already satisfied: jinja2>=2.9 in /usr/local/lib/python3.10/dist-packages (from folium->-r /content/drive/MyDrive/workshop_google/google_requirements.txt (line 1)) (3.1.4)\n",
      "Requirement already satisfied: requests in /usr/local/lib/python3.10/dist-packages (from folium->-r /content/drive/MyDrive/workshop_google/google_requirements.txt (line 1)) (2.31.0)\n",
      "Requirement already satisfied: packaging in /usr/local/lib/python3.10/dist-packages (from rioxarray->-r /content/drive/MyDrive/workshop_google/google_requirements.txt (line 2)) (24.1)\n",
      "Collecting rasterio>=1.3 (from rioxarray->-r /content/drive/MyDrive/workshop_google/google_requirements.txt (line 2))\n",
      "  Downloading rasterio-1.3.10-cp310-cp310-manylinux2014_x86_64.whl (21.5 MB)\n",
      "\u001b[2K     \u001b[90m━━━━━━━━━━━━━━━━━━━━━━━━━━━━━━━━━━━━━━━━\u001b[0m \u001b[32m21.5/21.5 MB\u001b[0m \u001b[31m36.4 MB/s\u001b[0m eta \u001b[36m0:00:00\u001b[0m\n",
      "\u001b[?25hRequirement already satisfied: pyproj>=3.3 in /usr/local/lib/python3.10/dist-packages (from rioxarray->-r /content/drive/MyDrive/workshop_google/google_requirements.txt (line 2)) (3.6.1)\n",
      "Requirement already satisfied: fiona>=1.8.19 in /usr/local/lib/python3.10/dist-packages (from geopandas->-r /content/drive/MyDrive/workshop_google/google_requirements.txt (line 3)) (1.9.6)\n",
      "Requirement already satisfied: shapely>=1.7.1 in /usr/local/lib/python3.10/dist-packages (from geopandas->-r /content/drive/MyDrive/workshop_google/google_requirements.txt (line 3)) (2.0.4)\n",
      "Requirement already satisfied: scikit-image in /usr/local/lib/python3.10/dist-packages (from earthpy->-r /content/drive/MyDrive/workshop_google/google_requirements.txt (line 4)) (0.19.3)\n",
      "Requirement already satisfied: llvmlite<0.42,>=0.41.0dev0 in /usr/local/lib/python3.10/dist-packages (from numba->-r /content/drive/MyDrive/workshop_google/google_requirements.txt (line 5)) (0.41.1)\n",
      "Requirement already satisfied: python-dateutil>=2.8.2 in /usr/local/lib/python3.10/dist-packages (from pandas->-r /content/drive/MyDrive/workshop_google/google_requirements.txt (line 7)) (2.8.2)\n",
      "Requirement already satisfied: pytz>=2020.1 in /usr/local/lib/python3.10/dist-packages (from pandas->-r /content/drive/MyDrive/workshop_google/google_requirements.txt (line 7)) (2023.4)\n",
      "Requirement already satisfied: tzdata>=2022.1 in /usr/local/lib/python3.10/dist-packages (from pandas->-r /content/drive/MyDrive/workshop_google/google_requirements.txt (line 7)) (2024.1)\n",
      "Requirement already satisfied: contourpy>=1.0.1 in /usr/local/lib/python3.10/dist-packages (from matplotlib->-r /content/drive/MyDrive/workshop_google/google_requirements.txt (line 8)) (1.2.1)\n",
      "Requirement already satisfied: cycler>=0.10 in /usr/local/lib/python3.10/dist-packages (from matplotlib->-r /content/drive/MyDrive/workshop_google/google_requirements.txt (line 8)) (0.12.1)\n",
      "Requirement already satisfied: fonttools>=4.22.0 in /usr/local/lib/python3.10/dist-packages (from matplotlib->-r /content/drive/MyDrive/workshop_google/google_requirements.txt (line 8)) (4.53.0)\n",
      "Requirement already satisfied: kiwisolver>=1.0.1 in /usr/local/lib/python3.10/dist-packages (from matplotlib->-r /content/drive/MyDrive/workshop_google/google_requirements.txt (line 8)) (1.4.5)\n",
      "Requirement already satisfied: pillow>=6.2.0 in /usr/local/lib/python3.10/dist-packages (from matplotlib->-r /content/drive/MyDrive/workshop_google/google_requirements.txt (line 8)) (9.4.0)\n",
      "Requirement already satisfied: pyparsing>=2.3.1 in /usr/local/lib/python3.10/dist-packages (from matplotlib->-r /content/drive/MyDrive/workshop_google/google_requirements.txt (line 8)) (3.1.2)\n",
      "Collecting pystac[validation]>=1.10.0 (from pystac-client->-r /content/drive/MyDrive/workshop_google/google_requirements.txt (line 11))\n",
      "  Downloading pystac-1.10.1-py3-none-any.whl (182 kB)\n",
      "\u001b[2K     \u001b[90m━━━━━━━━━━━━━━━━━━━━━━━━━━━━━━━━━━━━━━━━\u001b[0m \u001b[32m182.9/182.9 kB\u001b[0m \u001b[31m17.3 MB/s\u001b[0m eta \u001b[36m0:00:00\u001b[0m\n",
      "\u001b[?25hRequirement already satisfied: attrs>=19.2.0 in /usr/local/lib/python3.10/dist-packages (from fiona>=1.8.19->geopandas->-r /content/drive/MyDrive/workshop_google/google_requirements.txt (line 3)) (23.2.0)\n",
      "Requirement already satisfied: certifi in /usr/local/lib/python3.10/dist-packages (from fiona>=1.8.19->geopandas->-r /content/drive/MyDrive/workshop_google/google_requirements.txt (line 3)) (2024.6.2)\n",
      "Requirement already satisfied: click~=8.0 in /usr/local/lib/python3.10/dist-packages (from fiona>=1.8.19->geopandas->-r /content/drive/MyDrive/workshop_google/google_requirements.txt (line 3)) (8.1.7)\n",
      "Requirement already satisfied: click-plugins>=1.0 in /usr/local/lib/python3.10/dist-packages (from fiona>=1.8.19->geopandas->-r /content/drive/MyDrive/workshop_google/google_requirements.txt (line 3)) (1.1.1)\n",
      "Requirement already satisfied: cligj>=0.5 in /usr/local/lib/python3.10/dist-packages (from fiona>=1.8.19->geopandas->-r /content/drive/MyDrive/workshop_google/google_requirements.txt (line 3)) (0.7.2)\n",
      "Requirement already satisfied: six in /usr/local/lib/python3.10/dist-packages (from fiona>=1.8.19->geopandas->-r /content/drive/MyDrive/workshop_google/google_requirements.txt (line 3)) (1.16.0)\n",
      "Requirement already satisfied: MarkupSafe>=2.0 in /usr/local/lib/python3.10/dist-packages (from jinja2>=2.9->folium->-r /content/drive/MyDrive/workshop_google/google_requirements.txt (line 1)) (2.1.5)\n",
      "Requirement already satisfied: jsonschema~=4.18 in /usr/local/lib/python3.10/dist-packages (from pystac[validation]>=1.10.0->pystac-client->-r /content/drive/MyDrive/workshop_google/google_requirements.txt (line 11)) (4.19.2)\n",
      "Collecting affine (from rasterio>=1.3->rioxarray->-r /content/drive/MyDrive/workshop_google/google_requirements.txt (line 2))\n",
      "  Downloading affine-2.4.0-py3-none-any.whl (15 kB)\n",
      "Collecting snuggs>=1.4.1 (from rasterio>=1.3->rioxarray->-r /content/drive/MyDrive/workshop_google/google_requirements.txt (line 2))\n",
      "  Downloading snuggs-1.4.7-py3-none-any.whl (5.4 kB)\n",
      "Requirement already satisfied: setuptools in /usr/local/lib/python3.10/dist-packages (from rasterio>=1.3->rioxarray->-r /content/drive/MyDrive/workshop_google/google_requirements.txt (line 2)) (67.7.2)\n",
      "Requirement already satisfied: charset-normalizer<4,>=2 in /usr/local/lib/python3.10/dist-packages (from requests->folium->-r /content/drive/MyDrive/workshop_google/google_requirements.txt (line 1)) (3.3.2)\n",
      "Requirement already satisfied: idna<4,>=2.5 in /usr/local/lib/python3.10/dist-packages (from requests->folium->-r /content/drive/MyDrive/workshop_google/google_requirements.txt (line 1)) (3.7)\n",
      "Requirement already satisfied: urllib3<3,>=1.21.1 in /usr/local/lib/python3.10/dist-packages (from requests->folium->-r /content/drive/MyDrive/workshop_google/google_requirements.txt (line 1)) (2.0.7)\n",
      "Requirement already satisfied: scipy>=1.4.1 in /usr/local/lib/python3.10/dist-packages (from scikit-image->earthpy->-r /content/drive/MyDrive/workshop_google/google_requirements.txt (line 4)) (1.11.4)\n",
      "Requirement already satisfied: networkx>=2.2 in /usr/local/lib/python3.10/dist-packages (from scikit-image->earthpy->-r /content/drive/MyDrive/workshop_google/google_requirements.txt (line 4)) (3.3)\n",
      "Requirement already satisfied: imageio>=2.4.1 in /usr/local/lib/python3.10/dist-packages (from scikit-image->earthpy->-r /content/drive/MyDrive/workshop_google/google_requirements.txt (line 4)) (2.31.6)\n",
      "Requirement already satisfied: tifffile>=2019.7.26 in /usr/local/lib/python3.10/dist-packages (from scikit-image->earthpy->-r /content/drive/MyDrive/workshop_google/google_requirements.txt (line 4)) (2024.5.22)\n",
      "Requirement already satisfied: PyWavelets>=1.1.1 in /usr/local/lib/python3.10/dist-packages (from scikit-image->earthpy->-r /content/drive/MyDrive/workshop_google/google_requirements.txt (line 4)) (1.6.0)\n",
      "Requirement already satisfied: jsonschema-specifications>=2023.03.6 in /usr/local/lib/python3.10/dist-packages (from jsonschema~=4.18->pystac[validation]>=1.10.0->pystac-client->-r /content/drive/MyDrive/workshop_google/google_requirements.txt (line 11)) (2023.12.1)\n",
      "Requirement already satisfied: referencing>=0.28.4 in /usr/local/lib/python3.10/dist-packages (from jsonschema~=4.18->pystac[validation]>=1.10.0->pystac-client->-r /content/drive/MyDrive/workshop_google/google_requirements.txt (line 11)) (0.35.1)\n",
      "Requirement already satisfied: rpds-py>=0.7.1 in /usr/local/lib/python3.10/dist-packages (from jsonschema~=4.18->pystac[validation]>=1.10.0->pystac-client->-r /content/drive/MyDrive/workshop_google/google_requirements.txt (line 11)) (0.18.1)\n",
      "Installing collected packages: snuggs, affine, rasterio, pystac, rioxarray, earthpy, pystac-client\n",
      "Successfully installed affine-2.4.0 earthpy-0.9.4 pystac-1.10.1 pystac-client-0.8.2 rasterio-1.3.10 rioxarray-0.15.5 snuggs-1.4.7\n"
     ]
    }
   ],
   "source": [
    "!pip install -r {project_dir}/google_requirements.txt"
   ]
  },
  {
   "cell_type": "markdown",
   "metadata": {},
   "source": [
    "## Load and crop the Data\n",
    "\n",
    "For this notebook, we will use one of the Sentinel-2 scenes that we have already employed in the previous episodes."
   ]
  },
  {
   "cell_type": "code",
   "execution_count": null,
   "metadata": {},
   "outputs": [],
   "source": [
    "# From the previous lessons...\n",
    "import os\n",
    "from os.path import join\n",
    "\n",
    "product_dir_textfile = \"product_dir.txt\"\n",
    "\n",
    "with open(product_dir_textfile, 'r') as f:\n",
    "    base_product_dir = f.readline()\n",
    "\n",
    "product_dir = join(base_product_dir, 'GRANULE')\n",
    "L2_dirname = os.listdir(product_dir)[0]\n",
    "product_dir = join(product_dir, L2_dirname)\n",
    "product_dir = join(product_dir, 'IMG_DATA', 'R60m')\n",
    "\n",
    "# Get a dictionary of filenames\n",
    "image_paths = {}\n",
    "for fname in os.listdir(product_dir):\n",
    "    fpath = join(product_dir, fname)\n",
    "    file_band = fname.split('_')[2]\n",
    "    image_paths[file_band] = fpath\n",
    "\n",
    "image_paths"
   ]
  },
  {
   "cell_type": "code",
   "execution_count": null,
   "metadata": {},
   "outputs": [],
   "source": [
    "import rioxarray\n",
    "# Load B04 (red) and B08 or B8A (nir)\n",
    "raster_red = rioxarray.open_rasterio(image_paths['B04'], masked=True)\n",
    "raster_nir = rioxarray.open_rasterio(image_paths['B8A'], masked=True)"
   ]
  },
  {
   "cell_type": "markdown",
   "metadata": {},
   "source": [
    "Let’s also restrict our analysis to the same area defined in the previous episode by clipping the rasters using a bounding box."
   ]
  },
  {
   "cell_type": "code",
   "execution_count": null,
   "metadata": {},
   "outputs": [],
   "source": [
    "# Load in AOI\n",
    "import geopandas as gpd\n",
    "\n",
    "john_forrest_poly_fname = \"../data/john_forrest_rough.shp\"\n",
    "AOI_4326 =  gpd.read_file(john_forrest_poly_fname)\n",
    "AOI = AOI_4326.to_crs(raster_red.rio.crs)\n",
    "\n",
    "red_clip = raster_red.rio.clip_box(*AOI.total_bounds)\n",
    "nir_clip = raster_nir.rio.clip_box(*AOI.total_bounds)"
   ]
  },
  {
   "cell_type": "markdown",
   "metadata": {},
   "source": [
    "We can now plot the two rasters. Using the `robust=True` option, color values are stretched between the 2nd and 98th percentiles of the data, which results in clearer distinctions between high and low reflectances."
   ]
  },
  {
   "cell_type": "code",
   "execution_count": null,
   "metadata": {},
   "outputs": [],
   "source": [
    "red_clip.plot(robust=True)"
   ]
  },
  {
   "cell_type": "code",
   "execution_count": null,
   "metadata": {},
   "outputs": [],
   "source": [
    "nir_clip.plot(robust=True)"
   ]
  },
  {
   "cell_type": "markdown",
   "metadata": {},
   "source": [
    "# Raster Math \n",
    "We can perform raster calculations by subtracting (or adding, multiplying, etc.) two rasters. In the geospatial world, we call this “raster math”, and typically it refers to operations on rasters that have the same width and height (including nodata pixels). \n",
    "\n",
    "We can check the shapes of the two rasters in the following way."
   ]
  },
  {
   "cell_type": "code",
   "execution_count": null,
   "metadata": {},
   "outputs": [],
   "source": [
    "print(red_clip.shape, nir_clip.shape)"
   ]
  },
  {
   "cell_type": "markdown",
   "metadata": {},
   "source": [
    "Both rasters match, but to build good habits, let's `reproject_match` anyway."
   ]
  },
  {
   "cell_type": "code",
   "execution_count": null,
   "metadata": {},
   "outputs": [],
   "source": [
    "red_clip_matched = red_clip.rio.reproject_match(nir_clip)"
   ]
  },
  {
   "cell_type": "markdown",
   "metadata": {},
   "source": [
    "Let’s now compute the NDVI as a new raster using the formula presented above.   \n",
    "We’ll use `rioxarray` objects so that we can easily plot our result and keep track of the metadata."
   ]
  },
  {
   "cell_type": "code",
   "execution_count": null,
   "metadata": {},
   "outputs": [],
   "source": [
    "ndvi = (nir_clip - red_clip_matched)/ (nir_clip + red_clip_matched)\n",
    "print(ndvi)"
   ]
  },
  {
   "cell_type": "code",
   "execution_count": null,
   "metadata": {},
   "outputs": [],
   "source": [
    "ndvi.plot()"
   ]
  },
  {
   "cell_type": "code",
   "execution_count": null,
   "metadata": {},
   "outputs": [],
   "source": [
    "ndvi.plot.hist()"
   ]
  },
  {
   "cell_type": "markdown",
   "metadata": {},
   "source": [
    "Missing values can be interpolated from the values of neighbouring grid cells using the `.interpolate_na` method. We then save NDVI as a GeoTIFF file."
   ]
  },
  {
   "cell_type": "code",
   "execution_count": null,
   "metadata": {},
   "outputs": [],
   "source": [
    "ndvi_nonan = ndvi.interpolate_na(dim=\"x\")\n",
    "ndvi_nonan.rio.to_raster(join(base_product_dir, \"NDVI.tif\"))"
   ]
  },
  {
   "cell_type": "markdown",
   "metadata": {},
   "source": [
    "# Exercise: Explore NDVI Raster Values\n",
    "\n",
    "It’s often a good idea to explore the range of values in a raster dataset just like we might explore a dataset that we collected in the field. The histogram we just made is a good start but there’s more we can do to improve our understanding of the data.  \n",
    "\n",
    "1. What is the min and maximum value for the NDVI raster (ndvi) that we just created? Are there missing values?\n",
    "2. Plot a histogram with 50 bins instead of 8. What do you notice that wasn’t clear before?\n",
    "3. Plot the ndvi raster using breaks that make sense for the data. (HINT: use the `levels=[bins]` plot parameter)\n"
   ]
  },
  {
   "cell_type": "markdown",
   "metadata": {},
   "source": [
    "Note that, by default, each class includes the left but not the right bound. This is not an issue here, since the computed range of NDVI values is fully contained in the open interval (-1; 1) (see exercise above)."
   ]
  },
  {
   "cell_type": "code",
   "execution_count": null,
   "metadata": {},
   "outputs": [],
   "source": [
    "import numpy as np\n",
    "import xarray\n",
    "\n",
    "# Defines the bins for pixel values\n",
    "class_bins = (-1, 0., 0.2, 0.7, 1)\n",
    "\n",
    "# The numpy.digitize function returns an unlabeled array, in this case, a\n",
    "# classified array without any metadata. That doesn't work--we need the\n",
    "# coordinates and other spatial metadata. We can get around this using\n",
    "# xarray.apply_ufunc, which can run the function across the data array while\n",
    "# preserving metadata.\n",
    "ndvi_classified = xarray.apply_ufunc(\n",
    "    np.digitize,\n",
    "    ndvi_nonan,\n",
    "    class_bins\n",
    ")"
   ]
  },
  {
   "cell_type": "markdown",
   "metadata": {},
   "source": [
    "# Classifying Continuous Rasters in Python \n",
    "Now that we have a sense of the distribution of our NDVI raster, we can reduce the complexity of our map by classifying it. \n",
    "\n",
    "Classification involves assigning each pixel in the raster to a class based on its value. In Python, we can accomplish this using the `numpy.digitize`function.\n",
    "\n",
    "First, we define NDVI classes based on a list of values, as defined in the last exercise: [-1, 0., 0.2, 0.7, 1]. \n",
    "\n",
    "When bins are ordered from low to high, as here, `numpy.digitize` assigns classes like so:\n",
    "\n",
    "\n",
    "![ndvi classes](../notebook_pictures/NDVI-classes.jpg)  \n",
    "> Source: [Carpentries](https://carpentries-incubator.github.io/geospatial-python/09-raster-calculations.html). CC BY 4.0 License"
   ]
  },
  {
   "cell_type": "code",
   "execution_count": null,
   "metadata": {},
   "outputs": [],
   "source": [
    "import numpy as np\n",
    "import xarray\n",
    "\n",
    "# Defines the bins for pixel values\n",
    "class_bins = (-1, 0., 0.2, 0.7, 1)\n",
    "\n",
    "# The numpy.digitize function returns an unlabeled array, in this case, a\n",
    "# classified array without any metadata. That doesn't work--we need the\n",
    "# coordinates and other spatial metadata. We can get around this using\n",
    "# xarray.apply_ufunc, which can run the function across the data array while\n",
    "# preserving metadata.\n",
    "ndvi_classified = xarray.apply_ufunc(\n",
    "    np.digitize,\n",
    "    ndvi_nonan,\n",
    "    class_bins\n",
    ")"
   ]
  },
  {
   "cell_type": "code",
   "execution_count": null,
   "metadata": {},
   "outputs": [],
   "source": [
    "import earthpy.plot as ep\n",
    "import matplotlib.pyplot as plt\n",
    "\n",
    "from matplotlib.colors import ListedColormap\n",
    "\n",
    "# Define color map of the map legend\n",
    "ndvi_colors = [\"blue\", \"gray\", \"green\", \"darkgreen\"]\n",
    "ndvi_cmap = ListedColormap(ndvi_colors)\n",
    "\n",
    "# Define class names for the legend\n",
    "category_names = [\n",
    "    \"Water\",\n",
    "    \"No Vegetation\",\n",
    "    \"Sparse Vegetation\",\n",
    "    \"Dense Vegetation\"\n",
    "]\n",
    "\n",
    "# We need to know in what order the legend items should be arranged\n",
    "category_indices = list(range(len(category_names)))\n",
    "\n",
    "# Make the plot\n",
    "im = ndvi_classified.plot(cmap=ndvi_cmap, add_colorbar=False)\n",
    "plt.title(\"Classified NDVI\")\n",
    "# earthpy helps us by drawing a legend given an existing image plot and legend items, plus indices\n",
    "ep.draw_legend(im_ax=im, classes=category_indices, titles=category_names)\n",
    "\n",
    "# Save the figure\n",
    "plt.savefig(\"NDVI_classified.png\", bbox_inches=\"tight\", dpi=300)"
   ]
  },
  {
   "cell_type": "markdown",
   "metadata": {},
   "source": [
    "\n",
    "# Key Points\n",
    "\n",
    "- Python’s built-in math operators are fast and simple options for raster math using xarray's.\n",
    "- `numpy.digitize` can be used to classify raster values in order to generate a less complicated map.\n",
    "\n"
   ]
  }
 ],
 "metadata": {
  "kernelspec": {
   "display_name": "base",
   "language": "python",
   "name": "python3"
  },
  "language_info": {
   "codemirror_mode": {
    "name": "ipython",
    "version": 3
   },
   "file_extension": ".py",
   "mimetype": "text/x-python",
   "name": "python",
   "nbconvert_exporter": "python",
   "pygments_lexer": "ipython3",
   "version": "3.11.9"
  }
 },
 "nbformat": 4,
 "nbformat_minor": 2
}
