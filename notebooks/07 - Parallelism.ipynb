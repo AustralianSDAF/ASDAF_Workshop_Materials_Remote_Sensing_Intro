{
 "cells": [
  {
   "cell_type": "markdown",
   "metadata": {},
   "source": [
    "# Parallelism\n",
    "\n",
    "## ❓ Questions\n",
    "- What types of parallelism are there?\n",
    "- How can I determine if parallelisation improves calculation speed?\n",
    "- What are good practices in applying parallelisation to my raster calculations?\n",
    "\n",
    "\n",
    "## ❗ Objectives\n",
    "- Understand the difference between latency and throughput.\n",
    "- Accelerate a `numba` function with `prange`.\n",
    "- Use `Dask` for parallel computation.\n"
   ]
  }
 ],
 "metadata": {
  "language_info": {
   "name": "python"
  }
 },
 "nbformat": 4,
 "nbformat_minor": 2
}
