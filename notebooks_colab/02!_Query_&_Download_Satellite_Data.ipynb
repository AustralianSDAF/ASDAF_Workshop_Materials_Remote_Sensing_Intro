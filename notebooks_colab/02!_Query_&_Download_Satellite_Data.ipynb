{
  "cells": [
    {
      "cell_type": "markdown",
      "metadata": {
        "id": "FzNT_aoziV5P"
      },
      "source": [
        "# Querying Satellite Data\n",
        "\n",
        "## ❓ Questions\n",
        "-  Where can I find open-access satellite data?\n",
        "-  How do I search for satellite imagery?\n",
        "-  How do I fetch remote raster datasets using Python?\n",
        "\n",
        "\n",
        "## ❗ Objectives\n",
        "-  Search public STAC repositories of satellite imagery using Python.\n",
        "-  Inspect a search result’s metadata.\n",
        "-  Download (a subset of) the assets available for a satellite scene.\n",
        "-  Open satellite imagery as raster data and save it to disk."
      ]
    },
    {
      "cell_type": "markdown",
      "metadata": {
        "id": "Kq6Mp5iwiV5T"
      },
      "source": [
        "---\n",
        "\n",
        "# Introduction\n",
        "A number of satellites take snapshots of the Earth’s surface from space. The images recorded by these remote sensors represent a very precious data source for any activity that involves monitoring changes on Earth.\n",
        "\n",
        "Satellite imagery is typically provided in the form of geo-spatial raster data, with the measurements in each grid cell (“pixel”) being associated to accurate geographic coordinate information.\n",
        "\n",
        "In this lesson we will explore how to access open satellite data using Python. In particular, we will consider the Sentinel-2 data collections hosted at SARA and AWS. This dataset consists of multi-band optical images acquired by the two satellites of the Sentinel-2 mission and it is continuously updated with new images."
      ]
    },
    {
      "cell_type": "markdown",
      "metadata": {
        "id": "X1BZDpefiV5U"
      },
      "source": [
        "## API's\n",
        "An API is an Application Programming Interface.   \n",
        "\n",
        "It is a way of having one application talk (interface) with another application in a pre-defined way. For what we're doing, these will be using web addresses and JSON data, and will be handled by our library, `pystac-client`.   \n",
        "\n",
        "We will:\n",
        "1. First initialise `pystac-client`.\n",
        "2. Give it the information it needs.\n",
        "3. Ask it to send send the request.\n",
        "4. Investigate the results\n",
        "5. Download some of the results\n",
        "\n",
        "A useful resource will be the [pystac-client documentation](https://pystac-client.readthedocs.io/en/stable/quickstart.html).\n"
      ]
    },
    {
      "cell_type": "markdown",
      "metadata": {
        "id": "RbJM_Fu1iV5W"
      },
      "source": [
        "# Initial setup\n",
        "Some parameters we'll need throughout the lesson"
      ]
    },
    {
      "cell_type": "code",
      "execution_count": 8,
      "metadata": {
        "id": "1ulf8hpJiV5X"
      },
      "outputs": [],
      "source": []
    },
    {
      "cell_type": "code",
      "source": [
        "import os\n",
        "from os.path import join\n",
        "\n",
        "from google.colab import drive\n",
        "google_dir = '/content/drive'\n",
        "drive.mount(google_dir)"
      ],
      "metadata": {
        "colab": {
          "base_uri": "https://localhost:8080/"
        },
        "id": "vtvjpekyiicP",
        "outputId": "047aab99-1e5c-4cec-929f-f05f210871d8"
      },
      "execution_count": 23,
      "outputs": [
        {
          "output_type": "stream",
          "name": "stdout",
          "text": [
            "Drive already mounted at /content/drive; to attempt to forcibly remount, call drive.mount(\"/content/drive\", force_remount=True).\n"
          ]
        }
      ]
    },
    {
      "cell_type": "code",
      "source": [
        "os.listdir(join(google_dir, 'MyDrive'))"
      ],
      "metadata": {
        "colab": {
          "base_uri": "https://localhost:8080/"
        },
        "id": "tTgF_mWYmPKN",
        "outputId": "d08fc973-2a40-49c6-a6b8-0b3267611ff2"
      },
      "execution_count": 10,
      "outputs": [
        {
          "output_type": "execute_result",
          "data": {
            "text/plain": [
              "['Corporate-Powerpoint-Template.pptx',\n",
              " 'Show and Tell.pptx',\n",
              " 'CIC drop in session - Keegan.gdoc',\n",
              " 'Quick_meeting_slides_2021-05-09.pptx',\n",
              " 'asdaf',\n",
              " 'pipe3_20k.mp4',\n",
              " 'chl_7_bin_1_stride_4fps.mkv',\n",
              " 'WAT_Waste_City_of_canning_Project_Lessons_Learnt.xlsx',\n",
              " 'slides',\n",
              " 'WCCC_yolov4-unseen.mp4',\n",
              " 'CIC Carpentries Collaborative Google Doc.gdoc',\n",
              " 'RezBaz 22.gslides',\n",
              " 'S&T',\n",
              " 'ASDAF_BMT_UHI_JIRA_New_Project_Questionnaire.xlsx',\n",
              " 'CHL_Weekly_2018_1440p.mp4',\n",
              " 'Chlor_a_Weekly_2018_1440p.mp4',\n",
              " 'UChl_abs_Weekly_2018_1440p.mp4',\n",
              " 'solo work',\n",
              " 'Untitled form.gform',\n",
              " 'CIDS Computational Resources 2024-03-22.gslides',\n",
              " 'Colab Notebooks',\n",
              " 'CIC_Carpentries_Python-master',\n",
              " 'workshop_google',\n",
              " '202404_Intro_Rrs.gslides']"
            ]
          },
          "metadata": {},
          "execution_count": 10
        }
      ]
    },
    {
      "cell_type": "code",
      "source": [
        "project_dir = join(google_dir, 'MyDrive', \"workshop_google\")\n",
        "storage_location = join(project_dir, \"workshop_data\")\n",
        "\n",
        "os.makedirs(storage_location, exist_ok=True)"
      ],
      "metadata": {
        "id": "mTsqRasSjJfq"
      },
      "execution_count": 12,
      "outputs": []
    },
    {
      "cell_type": "code",
      "source": [
        "!ls {project_dir}"
      ],
      "metadata": {
        "colab": {
          "base_uri": "https://localhost:8080/"
        },
        "id": "vPyyqZc_nM_G",
        "outputId": "ade888df-8c7f-4f8b-f85d-0725dadb2906"
      },
      "execution_count": 21,
      "outputs": [
        {
          "output_type": "stream",
          "name": "stdout",
          "text": [
            "data\t\t google_requirements.txt  notebook_pictures  notebooks_colab  workshop_data\n",
            "environment.yml  LICENSE\t\t  notebooks\t     README.md\n"
          ]
        }
      ]
    },
    {
      "cell_type": "code",
      "source": [
        "!pip install -r {project_dir}/google_requirements.txt"
      ],
      "metadata": {
        "colab": {
          "base_uri": "https://localhost:8080/"
        },
        "id": "JZQ9EEoQnD2U",
        "outputId": "b5e94730-52ff-4ce4-fb2a-cc556d2801f4"
      },
      "execution_count": 22,
      "outputs": [
        {
          "output_type": "stream",
          "name": "stdout",
          "text": [
            "Requirement already satisfied: folium in /usr/local/lib/python3.10/dist-packages (from -r /content/drive/MyDrive/workshop_google/google_requirements.txt (line 1)) (0.14.0)\n",
            "Collecting rioxarray (from -r /content/drive/MyDrive/workshop_google/google_requirements.txt (line 2))\n",
            "  Downloading rioxarray-0.15.5-py3-none-any.whl (60 kB)\n",
            "\u001b[2K     \u001b[90m━━━━━━━━━━━━━━━━━━━━━━━━━━━━━━━━━━━━━━━━\u001b[0m \u001b[32m60.5/60.5 kB\u001b[0m \u001b[31m2.0 MB/s\u001b[0m eta \u001b[36m0:00:00\u001b[0m\n",
            "\u001b[?25hRequirement already satisfied: geopandas in /usr/local/lib/python3.10/dist-packages (from -r /content/drive/MyDrive/workshop_google/google_requirements.txt (line 3)) (0.13.2)\n",
            "Collecting earthpy (from -r /content/drive/MyDrive/workshop_google/google_requirements.txt (line 4))\n",
            "  Downloading earthpy-0.9.4-py3-none-any.whl (1.4 MB)\n",
            "\u001b[2K     \u001b[90m━━━━━━━━━━━━━━━━━━━━━━━━━━━━━━━━━━━━━━━━\u001b[0m \u001b[32m1.4/1.4 MB\u001b[0m \u001b[31m28.8 MB/s\u001b[0m eta \u001b[36m0:00:00\u001b[0m\n",
            "\u001b[?25hRequirement already satisfied: numba in /usr/local/lib/python3.10/dist-packages (from -r /content/drive/MyDrive/workshop_google/google_requirements.txt (line 5)) (0.58.1)\n",
            "Requirement already satisfied: numpy in /usr/local/lib/python3.10/dist-packages (from -r /content/drive/MyDrive/workshop_google/google_requirements.txt (line 6)) (1.25.2)\n",
            "Requirement already satisfied: pandas in /usr/local/lib/python3.10/dist-packages (from -r /content/drive/MyDrive/workshop_google/google_requirements.txt (line 7)) (2.0.3)\n",
            "Requirement already satisfied: matplotlib in /usr/local/lib/python3.10/dist-packages (from -r /content/drive/MyDrive/workshop_google/google_requirements.txt (line 8)) (3.7.1)\n",
            "Requirement already satisfied: xarray in /usr/local/lib/python3.10/dist-packages (from -r /content/drive/MyDrive/workshop_google/google_requirements.txt (line 9)) (2023.7.0)\n",
            "Requirement already satisfied: tqdm in /usr/local/lib/python3.10/dist-packages (from -r /content/drive/MyDrive/workshop_google/google_requirements.txt (line 10)) (4.66.4)\n",
            "Collecting pystac-client (from -r /content/drive/MyDrive/workshop_google/google_requirements.txt (line 11))\n",
            "  Downloading pystac_client-0.8.2-py3-none-any.whl (33 kB)\n",
            "Requirement already satisfied: branca>=0.6.0 in /usr/local/lib/python3.10/dist-packages (from folium->-r /content/drive/MyDrive/workshop_google/google_requirements.txt (line 1)) (0.7.2)\n",
            "Requirement already satisfied: jinja2>=2.9 in /usr/local/lib/python3.10/dist-packages (from folium->-r /content/drive/MyDrive/workshop_google/google_requirements.txt (line 1)) (3.1.4)\n",
            "Requirement already satisfied: requests in /usr/local/lib/python3.10/dist-packages (from folium->-r /content/drive/MyDrive/workshop_google/google_requirements.txt (line 1)) (2.31.0)\n",
            "Requirement already satisfied: packaging in /usr/local/lib/python3.10/dist-packages (from rioxarray->-r /content/drive/MyDrive/workshop_google/google_requirements.txt (line 2)) (24.1)\n",
            "Collecting rasterio>=1.3 (from rioxarray->-r /content/drive/MyDrive/workshop_google/google_requirements.txt (line 2))\n",
            "  Downloading rasterio-1.3.10-cp310-cp310-manylinux2014_x86_64.whl (21.5 MB)\n",
            "\u001b[2K     \u001b[90m━━━━━━━━━━━━━━━━━━━━━━━━━━━━━━━━━━━━━━━━\u001b[0m \u001b[32m21.5/21.5 MB\u001b[0m \u001b[31m36.4 MB/s\u001b[0m eta \u001b[36m0:00:00\u001b[0m\n",
            "\u001b[?25hRequirement already satisfied: pyproj>=3.3 in /usr/local/lib/python3.10/dist-packages (from rioxarray->-r /content/drive/MyDrive/workshop_google/google_requirements.txt (line 2)) (3.6.1)\n",
            "Requirement already satisfied: fiona>=1.8.19 in /usr/local/lib/python3.10/dist-packages (from geopandas->-r /content/drive/MyDrive/workshop_google/google_requirements.txt (line 3)) (1.9.6)\n",
            "Requirement already satisfied: shapely>=1.7.1 in /usr/local/lib/python3.10/dist-packages (from geopandas->-r /content/drive/MyDrive/workshop_google/google_requirements.txt (line 3)) (2.0.4)\n",
            "Requirement already satisfied: scikit-image in /usr/local/lib/python3.10/dist-packages (from earthpy->-r /content/drive/MyDrive/workshop_google/google_requirements.txt (line 4)) (0.19.3)\n",
            "Requirement already satisfied: llvmlite<0.42,>=0.41.0dev0 in /usr/local/lib/python3.10/dist-packages (from numba->-r /content/drive/MyDrive/workshop_google/google_requirements.txt (line 5)) (0.41.1)\n",
            "Requirement already satisfied: python-dateutil>=2.8.2 in /usr/local/lib/python3.10/dist-packages (from pandas->-r /content/drive/MyDrive/workshop_google/google_requirements.txt (line 7)) (2.8.2)\n",
            "Requirement already satisfied: pytz>=2020.1 in /usr/local/lib/python3.10/dist-packages (from pandas->-r /content/drive/MyDrive/workshop_google/google_requirements.txt (line 7)) (2023.4)\n",
            "Requirement already satisfied: tzdata>=2022.1 in /usr/local/lib/python3.10/dist-packages (from pandas->-r /content/drive/MyDrive/workshop_google/google_requirements.txt (line 7)) (2024.1)\n",
            "Requirement already satisfied: contourpy>=1.0.1 in /usr/local/lib/python3.10/dist-packages (from matplotlib->-r /content/drive/MyDrive/workshop_google/google_requirements.txt (line 8)) (1.2.1)\n",
            "Requirement already satisfied: cycler>=0.10 in /usr/local/lib/python3.10/dist-packages (from matplotlib->-r /content/drive/MyDrive/workshop_google/google_requirements.txt (line 8)) (0.12.1)\n",
            "Requirement already satisfied: fonttools>=4.22.0 in /usr/local/lib/python3.10/dist-packages (from matplotlib->-r /content/drive/MyDrive/workshop_google/google_requirements.txt (line 8)) (4.53.0)\n",
            "Requirement already satisfied: kiwisolver>=1.0.1 in /usr/local/lib/python3.10/dist-packages (from matplotlib->-r /content/drive/MyDrive/workshop_google/google_requirements.txt (line 8)) (1.4.5)\n",
            "Requirement already satisfied: pillow>=6.2.0 in /usr/local/lib/python3.10/dist-packages (from matplotlib->-r /content/drive/MyDrive/workshop_google/google_requirements.txt (line 8)) (9.4.0)\n",
            "Requirement already satisfied: pyparsing>=2.3.1 in /usr/local/lib/python3.10/dist-packages (from matplotlib->-r /content/drive/MyDrive/workshop_google/google_requirements.txt (line 8)) (3.1.2)\n",
            "Collecting pystac[validation]>=1.10.0 (from pystac-client->-r /content/drive/MyDrive/workshop_google/google_requirements.txt (line 11))\n",
            "  Downloading pystac-1.10.1-py3-none-any.whl (182 kB)\n",
            "\u001b[2K     \u001b[90m━━━━━━━━━━━━━━━━━━━━━━━━━━━━━━━━━━━━━━━━\u001b[0m \u001b[32m182.9/182.9 kB\u001b[0m \u001b[31m17.3 MB/s\u001b[0m eta \u001b[36m0:00:00\u001b[0m\n",
            "\u001b[?25hRequirement already satisfied: attrs>=19.2.0 in /usr/local/lib/python3.10/dist-packages (from fiona>=1.8.19->geopandas->-r /content/drive/MyDrive/workshop_google/google_requirements.txt (line 3)) (23.2.0)\n",
            "Requirement already satisfied: certifi in /usr/local/lib/python3.10/dist-packages (from fiona>=1.8.19->geopandas->-r /content/drive/MyDrive/workshop_google/google_requirements.txt (line 3)) (2024.6.2)\n",
            "Requirement already satisfied: click~=8.0 in /usr/local/lib/python3.10/dist-packages (from fiona>=1.8.19->geopandas->-r /content/drive/MyDrive/workshop_google/google_requirements.txt (line 3)) (8.1.7)\n",
            "Requirement already satisfied: click-plugins>=1.0 in /usr/local/lib/python3.10/dist-packages (from fiona>=1.8.19->geopandas->-r /content/drive/MyDrive/workshop_google/google_requirements.txt (line 3)) (1.1.1)\n",
            "Requirement already satisfied: cligj>=0.5 in /usr/local/lib/python3.10/dist-packages (from fiona>=1.8.19->geopandas->-r /content/drive/MyDrive/workshop_google/google_requirements.txt (line 3)) (0.7.2)\n",
            "Requirement already satisfied: six in /usr/local/lib/python3.10/dist-packages (from fiona>=1.8.19->geopandas->-r /content/drive/MyDrive/workshop_google/google_requirements.txt (line 3)) (1.16.0)\n",
            "Requirement already satisfied: MarkupSafe>=2.0 in /usr/local/lib/python3.10/dist-packages (from jinja2>=2.9->folium->-r /content/drive/MyDrive/workshop_google/google_requirements.txt (line 1)) (2.1.5)\n",
            "Requirement already satisfied: jsonschema~=4.18 in /usr/local/lib/python3.10/dist-packages (from pystac[validation]>=1.10.0->pystac-client->-r /content/drive/MyDrive/workshop_google/google_requirements.txt (line 11)) (4.19.2)\n",
            "Collecting affine (from rasterio>=1.3->rioxarray->-r /content/drive/MyDrive/workshop_google/google_requirements.txt (line 2))\n",
            "  Downloading affine-2.4.0-py3-none-any.whl (15 kB)\n",
            "Collecting snuggs>=1.4.1 (from rasterio>=1.3->rioxarray->-r /content/drive/MyDrive/workshop_google/google_requirements.txt (line 2))\n",
            "  Downloading snuggs-1.4.7-py3-none-any.whl (5.4 kB)\n",
            "Requirement already satisfied: setuptools in /usr/local/lib/python3.10/dist-packages (from rasterio>=1.3->rioxarray->-r /content/drive/MyDrive/workshop_google/google_requirements.txt (line 2)) (67.7.2)\n",
            "Requirement already satisfied: charset-normalizer<4,>=2 in /usr/local/lib/python3.10/dist-packages (from requests->folium->-r /content/drive/MyDrive/workshop_google/google_requirements.txt (line 1)) (3.3.2)\n",
            "Requirement already satisfied: idna<4,>=2.5 in /usr/local/lib/python3.10/dist-packages (from requests->folium->-r /content/drive/MyDrive/workshop_google/google_requirements.txt (line 1)) (3.7)\n",
            "Requirement already satisfied: urllib3<3,>=1.21.1 in /usr/local/lib/python3.10/dist-packages (from requests->folium->-r /content/drive/MyDrive/workshop_google/google_requirements.txt (line 1)) (2.0.7)\n",
            "Requirement already satisfied: scipy>=1.4.1 in /usr/local/lib/python3.10/dist-packages (from scikit-image->earthpy->-r /content/drive/MyDrive/workshop_google/google_requirements.txt (line 4)) (1.11.4)\n",
            "Requirement already satisfied: networkx>=2.2 in /usr/local/lib/python3.10/dist-packages (from scikit-image->earthpy->-r /content/drive/MyDrive/workshop_google/google_requirements.txt (line 4)) (3.3)\n",
            "Requirement already satisfied: imageio>=2.4.1 in /usr/local/lib/python3.10/dist-packages (from scikit-image->earthpy->-r /content/drive/MyDrive/workshop_google/google_requirements.txt (line 4)) (2.31.6)\n",
            "Requirement already satisfied: tifffile>=2019.7.26 in /usr/local/lib/python3.10/dist-packages (from scikit-image->earthpy->-r /content/drive/MyDrive/workshop_google/google_requirements.txt (line 4)) (2024.5.22)\n",
            "Requirement already satisfied: PyWavelets>=1.1.1 in /usr/local/lib/python3.10/dist-packages (from scikit-image->earthpy->-r /content/drive/MyDrive/workshop_google/google_requirements.txt (line 4)) (1.6.0)\n",
            "Requirement already satisfied: jsonschema-specifications>=2023.03.6 in /usr/local/lib/python3.10/dist-packages (from jsonschema~=4.18->pystac[validation]>=1.10.0->pystac-client->-r /content/drive/MyDrive/workshop_google/google_requirements.txt (line 11)) (2023.12.1)\n",
            "Requirement already satisfied: referencing>=0.28.4 in /usr/local/lib/python3.10/dist-packages (from jsonschema~=4.18->pystac[validation]>=1.10.0->pystac-client->-r /content/drive/MyDrive/workshop_google/google_requirements.txt (line 11)) (0.35.1)\n",
            "Requirement already satisfied: rpds-py>=0.7.1 in /usr/local/lib/python3.10/dist-packages (from jsonschema~=4.18->pystac[validation]>=1.10.0->pystac-client->-r /content/drive/MyDrive/workshop_google/google_requirements.txt (line 11)) (0.18.1)\n",
            "Installing collected packages: snuggs, affine, rasterio, pystac, rioxarray, earthpy, pystac-client\n",
            "Successfully installed affine-2.4.0 earthpy-0.9.4 pystac-1.10.1 pystac-client-0.8.2 rasterio-1.3.10 rioxarray-0.15.5 snuggs-1.4.7\n"
          ]
        }
      ]
    },
    {
      "cell_type": "markdown",
      "metadata": {
        "id": "oPjFNKmMiV5Z"
      },
      "source": [
        "# Initialising PySTAC"
      ]
    },
    {
      "cell_type": "code",
      "execution_count": 31,
      "metadata": {
        "colab": {
          "base_uri": "https://localhost:8080/"
        },
        "id": "ACz0tCYXiV5a",
        "outputId": "8a4e6a5b-62ac-4513-96d5-abbb1faf5e1b"
      },
      "outputs": [
        {
          "output_type": "stream",
          "name": "stdout",
          "text": [
            "0.8.2\n"
          ]
        }
      ],
      "source": [
        "api_url = \"https://earth-search.aws.element84.com/v1\"\n",
        "\n",
        "from pystac_client import Client\n",
        "import pystac_client\n",
        "print(pystac_client.__version__)\n",
        "\n",
        "client = Client.open(api_url)"
      ]
    },
    {
      "cell_type": "markdown",
      "metadata": {
        "id": "HPSZZRjXiV5b"
      },
      "source": [
        "In the following, we ask for scenes belonging to the sentinel-2-l2a collection. This dataset includes Sentinel-2 data products pre-processed at level 2A (bottom-of-atmosphere reflectance) and saved in Cloud Optimized GeoTIFF (COG) format:"
      ]
    },
    {
      "cell_type": "code",
      "execution_count": 25,
      "metadata": {
        "id": "ZgBhGAm8iV5d"
      },
      "outputs": [],
      "source": [
        "collection = \"sentinel-2-l2a\"  # Sentinel-2, Level 2A, Cloud Optimized GeoTiffs (COGs)"
      ]
    },
    {
      "cell_type": "markdown",
      "metadata": {
        "id": "fll8q-5tiV5f"
      },
      "source": [
        "We also ask for scenes intersecting a geometry defined using the shapely library (in this case, a point):"
      ]
    },
    {
      "cell_type": "code",
      "execution_count": 32,
      "metadata": {
        "id": "iS2veDBkiV5g"
      },
      "outputs": [],
      "source": [
        "from shapely.geometry import Point\n",
        "point = Point(116.06, -31.87)"
      ]
    },
    {
      "cell_type": "markdown",
      "metadata": {
        "id": "H19JosDRiV5h"
      },
      "source": [
        "Note: at this stage, we are only dealing with metadata, so no image is going to be downloaded yet. But even metadata can be quite bulky if a large number of scenes match our search! For this reason, we limit the search result to 10 items:"
      ]
    },
    {
      "cell_type": "code",
      "execution_count": 37,
      "metadata": {
        "id": "Bg0HlMcRiV5i"
      },
      "outputs": [],
      "source": [
        "search = client.search(\n",
        "    collections=[collection],\n",
        "    intersects=point,\n",
        "    max_items=10,\n",
        "    datetime=[\"2023-03-01\", \"2023-10-10\"]\n",
        ")"
      ]
    },
    {
      "cell_type": "markdown",
      "metadata": {
        "id": "U6drRiSeiV5i"
      },
      "source": [
        "We submit the query and find out how many scenes match our search criteria (please note that this output can be different as more data is added to the catalog):"
      ]
    },
    {
      "cell_type": "code",
      "execution_count": 38,
      "metadata": {
        "colab": {
          "base_uri": "https://localhost:8080/"
        },
        "id": "aZtaEH99iV5j",
        "outputId": "f198ffaa-d56d-427f-ce8a-1b64971b9ab0"
      },
      "outputs": [
        {
          "output_type": "stream",
          "name": "stdout",
          "text": [
            "39\n"
          ]
        }
      ],
      "source": [
        "print(search.matched())"
      ]
    },
    {
      "cell_type": "markdown",
      "metadata": {
        "id": "2KebP-gbiV5k"
      },
      "source": [
        "Finally, we retrieve the metadata of the search results:"
      ]
    },
    {
      "cell_type": "code",
      "execution_count": 39,
      "metadata": {
        "id": "iB_JqsqoiV5l"
      },
      "outputs": [],
      "source": [
        "items = search.item_collection()"
      ]
    },
    {
      "cell_type": "markdown",
      "metadata": {
        "id": "TTgbN7zriV5l"
      },
      "source": [
        "The variable items is an ItemCollection object. We can check its size by:"
      ]
    },
    {
      "cell_type": "code",
      "execution_count": 40,
      "metadata": {
        "colab": {
          "base_uri": "https://localhost:8080/"
        },
        "id": "yY_sxf7siV5m",
        "outputId": "8f991cf5-d143-4992-95a8-31379f898ab4"
      },
      "outputs": [
        {
          "output_type": "stream",
          "name": "stdout",
          "text": [
            "10\n"
          ]
        }
      ],
      "source": [
        "print(len(items))"
      ]
    },
    {
      "cell_type": "markdown",
      "metadata": {
        "id": "7VNzBnIgiV5n"
      },
      "source": [
        "which is consistent with the maximum number of items that we have set in the search criteria. We can iterate over the returned items and print these to show their IDs:"
      ]
    },
    {
      "cell_type": "code",
      "execution_count": 41,
      "metadata": {
        "colab": {
          "base_uri": "https://localhost:8080/"
        },
        "id": "JNF4Nj60iV5n",
        "outputId": "ec076e17-4567-4804-bb8a-ff1a7bda1dd5"
      },
      "outputs": [
        {
          "output_type": "stream",
          "name": "stdout",
          "text": [
            "<Item id=S2B_50HMK_20231008_0_L2A>\n",
            "<Item id=S2A_50HMK_20231003_0_L2A>\n",
            "<Item id=S2B_50HMK_20230928_0_L2A>\n",
            "<Item id=S2A_50HMK_20230923_0_L2A>\n",
            "<Item id=S2B_50HMK_20230918_0_L2A>\n",
            "<Item id=S2B_50HMK_20230908_0_L2A>\n",
            "<Item id=S2A_50HMK_20230903_0_L2A>\n",
            "<Item id=S2B_50HMK_20230829_0_L2A>\n",
            "<Item id=S2A_50HMK_20230824_0_L2A>\n",
            "<Item id=S2B_50HMK_20230819_0_L2A>\n"
          ]
        }
      ],
      "source": [
        "for item in items:\n",
        "    print(item)"
      ]
    },
    {
      "cell_type": "code",
      "execution_count": 42,
      "metadata": {
        "colab": {
          "base_uri": "https://localhost:8080/"
        },
        "id": "FwDvhsBZiV5o",
        "outputId": "1274d885-8f4e-40cb-a3b1-102e17566f83"
      },
      "outputs": [
        {
          "output_type": "stream",
          "name": "stdout",
          "text": [
            "2023-10-08 02:26:37.653000+00:00\n",
            "{'coordinates': [[[115.94511956423673, -31.630657005038636],\n",
            "                  [115.93367210864315, -32.62014210354955],\n",
            "                  [116.94321976449075, -32.62447638927652],\n",
            "                  [117.10333381557261, -32.01352934399153],\n",
            "                  [117.10291301200607, -31.63497332014516],\n",
            "                  [115.94511956423673, -31.630657005038636]]],\n",
            " 'type': 'Polygon'}\n",
            "{'constellation': 'sentinel-2',\n",
            " 'created': '2023-10-08T10:21:38.129Z',\n",
            " 'datetime': '2023-10-08T02:26:37.653000Z',\n",
            " 'earthsearch:boa_offset_applied': True,\n",
            " 'earthsearch:payload_id': 'roda-sentinel2/workflow-sentinel2-to-stac/4d5a9ccb116712bba799d88d480ebfc4',\n",
            " 'earthsearch:s3_path': 's3://sentinel-cogs/sentinel-s2-l2a-cogs/50/H/MK/2023/10/S2B_50HMK_20231008_0_L2A',\n",
            " 'eo:cloud_cover': 9.782664,\n",
            " 'grid:code': 'MGRS-50HMK',\n",
            " 'instruments': ['msi'],\n",
            " 'mgrs:grid_square': 'MK',\n",
            " 'mgrs:latitude_band': 'H',\n",
            " 'mgrs:utm_zone': 50,\n",
            " 'platform': 'sentinel-2b',\n",
            " 'processing:software': {'sentinel2-to-stac': '0.1.1'},\n",
            " 'proj:epsg': 32750,\n",
            " 's2:cloud_shadow_percentage': 0.689068,\n",
            " 's2:dark_features_percentage': 0.110648,\n",
            " 's2:datastrip_id': 'S2B_OPER_MSI_L2A_DS_2BPS_20231008T054722_S20231008T022555_N05.09',\n",
            " 's2:datatake_id': 'GS2B_20231008T021349_034406_N05.09',\n",
            " 's2:datatake_type': 'INS-NOBS',\n",
            " 's2:degraded_msi_data_percentage': 0.0206,\n",
            " 's2:generation_time': '2023-10-08T05:47:22.000000Z',\n",
            " 's2:granule_id': 'S2B_OPER_MSI_L2A_TL_2BPS_20231008T054722_A034406_T50HMK_N05.09',\n",
            " 's2:high_proba_clouds_percentage': 4.802264,\n",
            " 's2:medium_proba_clouds_percentage': 4.946322,\n",
            " 's2:nodata_pixel_percentage': 4.199094,\n",
            " 's2:not_vegetated_percentage': 29.902318,\n",
            " 's2:processing_baseline': '05.09',\n",
            " 's2:product_type': 'S2MSI2A',\n",
            " 's2:product_uri': 'S2B_MSIL2A_20231008T021349_N0509_R060_T50HMK_20231008T054722.SAFE',\n",
            " 's2:reflectance_conversion_factor': 0.999775254164123,\n",
            " 's2:saturated_defective_pixel_percentage': 0,\n",
            " 's2:sequence': '0',\n",
            " 's2:snow_ice_percentage': 0,\n",
            " 's2:thin_cirrus_percentage': 0.034079,\n",
            " 's2:unclassified_percentage': 1.040181,\n",
            " 's2:vegetation_percentage': 58.327615,\n",
            " 's2:water_percentage': 0.147511,\n",
            " 'updated': '2023-10-08T10:21:38.129Z',\n",
            " 'view:sun_azimuth': 45.0631471147044,\n",
            " 'view:sun_elevation': 55.5322661113234}\n"
          ]
        }
      ],
      "source": [
        "from pprint import pprint\n",
        "item = items[0]\n",
        "print(item.datetime)\n",
        "pprint(item.geometry)\n",
        "pprint(item.properties)"
      ]
    },
    {
      "cell_type": "markdown",
      "metadata": {
        "id": "s39X9E3_iV5p"
      },
      "source": [
        "# ✏ Exercise: Search satellite scenes using metadata filters\n",
        "\n",
        "\n",
        "Search for all the available Sentinel-2 scenes in the sentinel-2-l2a collection that satisfy the following criteria: - intersect a provided bounding box (use ±0.01 deg in lat/lon from the previously defined point); - have been recorded between 20 March 2020 and 30 March 2020; - have a cloud coverage smaller than 10% (hint: use the query input argument of client.search).\n",
        "\n",
        "How many scenes are available? Save the search results in GeoJSON format.\n",
        "\n",
        "Hint: Buffer the previous point, and use the `bbox` search parameters\n"
      ]
    },
    {
      "cell_type": "code",
      "execution_count": null,
      "metadata": {
        "id": "M1t45iACiV5q"
      },
      "outputs": [],
      "source": []
    },
    {
      "cell_type": "code",
      "execution_count": null,
      "metadata": {
        "id": "ohSOFQlfiV5q"
      },
      "outputs": [],
      "source": []
    },
    {
      "cell_type": "markdown",
      "metadata": {
        "id": "Mu8ZA3bPiV5q"
      },
      "source": [
        "# Access the assets\n",
        "So far we have only discussed metadata - but how can one get to the actual images of a satellite scene (the “assets” in the STAC nomenclature)? These can be reached via links that are made available through the item’s attribute assets."
      ]
    },
    {
      "cell_type": "code",
      "execution_count": 43,
      "metadata": {
        "colab": {
          "base_uri": "https://localhost:8080/"
        },
        "id": "GhoPEruEiV5r",
        "outputId": "001bdaa6-73fc-486d-b84b-d3c3245b0b77"
      },
      "outputs": [
        {
          "output_type": "stream",
          "name": "stdout",
          "text": [
            "dict_keys(['aot', 'blue', 'coastal', 'granule_metadata', 'green', 'nir', 'nir08', 'nir09', 'red', 'rededge1', 'rededge2', 'rededge3', 'scl', 'swir16', 'swir22', 'thumbnail', 'tileinfo_metadata', 'visual', 'wvp', 'aot-jp2', 'blue-jp2', 'coastal-jp2', 'green-jp2', 'nir-jp2', 'nir08-jp2', 'nir09-jp2', 'red-jp2', 'rededge1-jp2', 'rededge2-jp2', 'rededge3-jp2', 'scl-jp2', 'swir16-jp2', 'swir22-jp2', 'visual-jp2', 'wvp-jp2'])\n"
          ]
        }
      ],
      "source": [
        "assets = items[0].assets  # first item's asset dictionary\n",
        "print(assets.keys())"
      ]
    },
    {
      "cell_type": "markdown",
      "metadata": {
        "id": "MFggacNqiV5s"
      },
      "source": [
        "We can print a minimal description of the available assets:"
      ]
    },
    {
      "cell_type": "code",
      "execution_count": 45,
      "metadata": {
        "colab": {
          "base_uri": "https://localhost:8080/"
        },
        "id": "b3fb8lL_iV5t",
        "outputId": "9c40bd4e-b906-41be-c647-4375159fe08c"
      },
      "outputs": [
        {
          "output_type": "stream",
          "name": "stdout",
          "text": [
            "aot: Aerosol optical thickness (AOT)\n",
            "blue: Blue (band 2) - 10m\n",
            "coastal: Coastal aerosol (band 1) - 60m\n",
            "granule_metadata: None\n",
            "green: Green (band 3) - 10m\n",
            "nir: NIR 1 (band 8) - 10m\n",
            "nir08: NIR 2 (band 8A) - 20m\n",
            "nir09: NIR 3 (band 9) - 60m\n",
            "red: Red (band 4) - 10m\n",
            "rededge1: Red edge 1 (band 5) - 20m\n",
            "rededge2: Red edge 2 (band 6) - 20m\n",
            "rededge3: Red edge 3 (band 7) - 20m\n",
            "scl: Scene classification map (SCL)\n",
            "swir16: SWIR 1 (band 11) - 20m\n",
            "swir22: SWIR 2 (band 12) - 20m\n",
            "thumbnail: Thumbnail image\n",
            "tileinfo_metadata: None\n",
            "visual: True color image\n",
            "wvp: Water vapour (WVP)\n",
            "aot-jp2: Aerosol optical thickness (AOT)\n",
            "blue-jp2: Blue (band 2) - 10m\n",
            "coastal-jp2: Coastal aerosol (band 1) - 60m\n",
            "green-jp2: Green (band 3) - 10m\n",
            "nir-jp2: NIR 1 (band 8) - 10m\n",
            "nir08-jp2: NIR 2 (band 8A) - 20m\n",
            "nir09-jp2: NIR 3 (band 9) - 60m\n",
            "red-jp2: Red (band 4) - 10m\n",
            "rededge1-jp2: Red edge 1 (band 5) - 20m\n",
            "rededge2-jp2: Red edge 2 (band 6) - 20m\n",
            "rededge3-jp2: Red edge 3 (band 7) - 20m\n",
            "scl-jp2: Scene classification map (SCL)\n",
            "swir16-jp2: SWIR 1 (band 11) - 20m\n",
            "swir22-jp2: SWIR 2 (band 12) - 20m\n",
            "visual-jp2: True color image\n",
            "wvp-jp2: Water vapour (WVP)\n"
          ]
        }
      ],
      "source": [
        "for key, asset in assets.items():\n",
        "    print(f\"{key}: {asset.title}\")"
      ]
    },
    {
      "cell_type": "code",
      "execution_count": 46,
      "metadata": {
        "colab": {
          "base_uri": "https://localhost:8080/"
        },
        "id": "_K9Ft7vqiV5t",
        "outputId": "7edf5edf-9a79-460e-93af-75efc1a5a88c"
      },
      "outputs": [
        {
          "output_type": "stream",
          "name": "stdout",
          "text": [
            "https://sentinel-cogs.s3.us-west-2.amazonaws.com/sentinel-s2-l2a-cogs/50/H/MK/2023/10/S2B_50HMK_20231008_0_L2A/thumbnail.jpg\n"
          ]
        }
      ],
      "source": [
        "print(assets[\"thumbnail\"].href)"
      ]
    },
    {
      "cell_type": "markdown",
      "metadata": {
        "id": "MiZR693liV5u"
      },
      "source": [
        "Remote raster data can be directly opened via the rioxarray library. We will learn more about this library in the next episodes."
      ]
    },
    {
      "cell_type": "code",
      "execution_count": 47,
      "metadata": {
        "colab": {
          "base_uri": "https://localhost:8080/"
        },
        "id": "tM6RON8niV5u",
        "outputId": "7d3ab865-e3a4-445b-b3d2-b5fec73fb039"
      },
      "outputs": [
        {
          "output_type": "stream",
          "name": "stdout",
          "text": [
            "<xarray.DataArray (band: 1, y: 10980, x: 10980)>\n",
            "[120560400 values with dtype=uint16]\n",
            "Coordinates:\n",
            "  * band         (band) int64 1\n",
            "  * x            (x) float64 4e+05 4e+05 4e+05 ... 5.097e+05 5.097e+05 5.098e+05\n",
            "  * y            (y) float64 6.5e+06 6.5e+06 6.5e+06 ... 6.39e+06 6.39e+06\n",
            "    spatial_ref  int64 0\n",
            "Attributes:\n",
            "    AREA_OR_POINT:       Area\n",
            "    OVR_RESAMPLING_ALG:  AVERAGE\n",
            "    _FillValue:          0\n",
            "    scale_factor:        1.0\n",
            "    add_offset:          0.0\n"
          ]
        }
      ],
      "source": [
        "import rioxarray\n",
        "nir_href = assets[\"nir\"].href\n",
        "nir = rioxarray.open_rasterio(nir_href)\n",
        "print(nir)"
      ]
    },
    {
      "cell_type": "markdown",
      "metadata": {
        "id": "zn35u6x2iV5v"
      },
      "source": [
        "We can then save the data to disk:"
      ]
    },
    {
      "cell_type": "code",
      "execution_count": 48,
      "metadata": {
        "id": "M7c0SN-siV5v"
      },
      "outputs": [],
      "source": [
        "# save whole image to disk\n",
        "import os\n",
        "\n",
        "nir_fpath = os.path.join(storage_location, \"S2\", \"nir.tif\")\n",
        "os.makedirs(os.path.dirname(nir_fpath), exist_ok=True)\n",
        "\n",
        "# nir.rio.to_raster(nir_fpath)"
      ]
    },
    {
      "cell_type": "markdown",
      "metadata": {
        "id": "srF0UP09iV5w"
      },
      "source": []
    },
    {
      "cell_type": "markdown",
      "metadata": {
        "id": "PpvNEP_HiV5w"
      },
      "source": [
        "Since that might take a while, given there are over 10000 x 10000 = a hundred million pixels in the 10 meter NIR band, you can take a smaller subset before downloading it. Becuase the raster is a COG, we can download just what we need!\n",
        "\n",
        "Here, we specify that we want to download the first (and only) band in the tif file, and a slice of the width and height dimensions."
      ]
    },
    {
      "cell_type": "code",
      "execution_count": 49,
      "metadata": {
        "id": "rxIL8LtjiV5x"
      },
      "outputs": [],
      "source": [
        "nir[0,2200:3200,1000:2200].rio.to_raster(nir_fpath)"
      ]
    },
    {
      "cell_type": "markdown",
      "metadata": {
        "id": "uHqMl32ciV5x"
      },
      "source": [
        "The difference is 155 Megabytes for the large image vs about 4 Megabytes for the subset."
      ]
    },
    {
      "cell_type": "markdown",
      "metadata": {
        "id": "Sjd9WqGOiV5x"
      },
      "source": [
        "# Other bands\n",
        "While we're at it, let's also download some other useful bands"
      ]
    },
    {
      "cell_type": "code",
      "execution_count": 50,
      "metadata": {
        "id": "e_zvnshoiV5y"
      },
      "outputs": [],
      "source": [
        "band_name = \"red\"\n",
        "band_href = assets[band_name].href\n",
        "band_xr = rioxarray.open_rasterio(band_href)\n",
        "\n",
        "band_fpath = os.path.join(storage_location, \"S2\", f\"{band_name}.tif\")\n",
        "band_xr[0, 2200:3200, 1000:2200].rio.to_raster(band_fpath)"
      ]
    },
    {
      "cell_type": "code",
      "execution_count": 51,
      "metadata": {
        "id": "yxO6FQxSiV5y"
      },
      "outputs": [],
      "source": [
        "band_name = \"visual\"\n",
        "band_href = assets[band_name].href\n",
        "band_xr = rioxarray.open_rasterio(band_href)\n",
        "\n",
        "band_fpath = os.path.join(storage_location, \"S2\", f\"{band_name}.tif\")\n",
        "band_xr[:, 2200:3200, 1000:2200].rio.to_raster(band_fpath)"
      ]
    },
    {
      "cell_type": "code",
      "execution_count": 52,
      "metadata": {
        "colab": {
          "base_uri": "https://localhost:8080/",
          "height": 327
        },
        "id": "45o_Ct9giV5y",
        "outputId": "cb84ef8f-40c1-4f6f-c1a9-0f8b02c627ce"
      },
      "outputs": [
        {
          "output_type": "execute_result",
          "data": {
            "text/plain": [
              "<xarray.DataArray (band: 3, y: 10980, x: 10980)>\n",
              "[361681200 values with dtype=uint8]\n",
              "Coordinates:\n",
              "  * band         (band) int64 1 2 3\n",
              "  * x            (x) float64 4e+05 4e+05 4e+05 ... 5.097e+05 5.097e+05 5.098e+05\n",
              "  * y            (y) float64 6.5e+06 6.5e+06 6.5e+06 ... 6.39e+06 6.39e+06\n",
              "    spatial_ref  int64 0\n",
              "Attributes:\n",
              "    AREA_OR_POINT:       Area\n",
              "    OVR_RESAMPLING_ALG:  AVERAGE\n",
              "    _FillValue:          0\n",
              "    scale_factor:        1.0\n",
              "    add_offset:          0.0"
            ],
            "text/html": [
              "<div><svg style=\"position: absolute; width: 0; height: 0; overflow: hidden\">\n",
              "<defs>\n",
              "<symbol id=\"icon-database\" viewBox=\"0 0 32 32\">\n",
              "<path d=\"M16 0c-8.837 0-16 2.239-16 5v4c0 2.761 7.163 5 16 5s16-2.239 16-5v-4c0-2.761-7.163-5-16-5z\"></path>\n",
              "<path d=\"M16 17c-8.837 0-16-2.239-16-5v6c0 2.761 7.163 5 16 5s16-2.239 16-5v-6c0 2.761-7.163 5-16 5z\"></path>\n",
              "<path d=\"M16 26c-8.837 0-16-2.239-16-5v6c0 2.761 7.163 5 16 5s16-2.239 16-5v-6c0 2.761-7.163 5-16 5z\"></path>\n",
              "</symbol>\n",
              "<symbol id=\"icon-file-text2\" viewBox=\"0 0 32 32\">\n",
              "<path d=\"M28.681 7.159c-0.694-0.947-1.662-2.053-2.724-3.116s-2.169-2.030-3.116-2.724c-1.612-1.182-2.393-1.319-2.841-1.319h-15.5c-1.378 0-2.5 1.121-2.5 2.5v27c0 1.378 1.122 2.5 2.5 2.5h23c1.378 0 2.5-1.122 2.5-2.5v-19.5c0-0.448-0.137-1.23-1.319-2.841zM24.543 5.457c0.959 0.959 1.712 1.825 2.268 2.543h-4.811v-4.811c0.718 0.556 1.584 1.309 2.543 2.268zM28 29.5c0 0.271-0.229 0.5-0.5 0.5h-23c-0.271 0-0.5-0.229-0.5-0.5v-27c0-0.271 0.229-0.5 0.5-0.5 0 0 15.499-0 15.5 0v7c0 0.552 0.448 1 1 1h7v19.5z\"></path>\n",
              "<path d=\"M23 26h-14c-0.552 0-1-0.448-1-1s0.448-1 1-1h14c0.552 0 1 0.448 1 1s-0.448 1-1 1z\"></path>\n",
              "<path d=\"M23 22h-14c-0.552 0-1-0.448-1-1s0.448-1 1-1h14c0.552 0 1 0.448 1 1s-0.448 1-1 1z\"></path>\n",
              "<path d=\"M23 18h-14c-0.552 0-1-0.448-1-1s0.448-1 1-1h14c0.552 0 1 0.448 1 1s-0.448 1-1 1z\"></path>\n",
              "</symbol>\n",
              "</defs>\n",
              "</svg>\n",
              "<style>/* CSS stylesheet for displaying xarray objects in jupyterlab.\n",
              " *\n",
              " */\n",
              "\n",
              ":root {\n",
              "  --xr-font-color0: var(--jp-content-font-color0, rgba(0, 0, 0, 1));\n",
              "  --xr-font-color2: var(--jp-content-font-color2, rgba(0, 0, 0, 0.54));\n",
              "  --xr-font-color3: var(--jp-content-font-color3, rgba(0, 0, 0, 0.38));\n",
              "  --xr-border-color: var(--jp-border-color2, #e0e0e0);\n",
              "  --xr-disabled-color: var(--jp-layout-color3, #bdbdbd);\n",
              "  --xr-background-color: var(--jp-layout-color0, white);\n",
              "  --xr-background-color-row-even: var(--jp-layout-color1, white);\n",
              "  --xr-background-color-row-odd: var(--jp-layout-color2, #eeeeee);\n",
              "}\n",
              "\n",
              "html[theme=dark],\n",
              "body[data-theme=dark],\n",
              "body.vscode-dark {\n",
              "  --xr-font-color0: rgba(255, 255, 255, 1);\n",
              "  --xr-font-color2: rgba(255, 255, 255, 0.54);\n",
              "  --xr-font-color3: rgba(255, 255, 255, 0.38);\n",
              "  --xr-border-color: #1F1F1F;\n",
              "  --xr-disabled-color: #515151;\n",
              "  --xr-background-color: #111111;\n",
              "  --xr-background-color-row-even: #111111;\n",
              "  --xr-background-color-row-odd: #313131;\n",
              "}\n",
              "\n",
              ".xr-wrap {\n",
              "  display: block !important;\n",
              "  min-width: 300px;\n",
              "  max-width: 700px;\n",
              "}\n",
              "\n",
              ".xr-text-repr-fallback {\n",
              "  /* fallback to plain text repr when CSS is not injected (untrusted notebook) */\n",
              "  display: none;\n",
              "}\n",
              "\n",
              ".xr-header {\n",
              "  padding-top: 6px;\n",
              "  padding-bottom: 6px;\n",
              "  margin-bottom: 4px;\n",
              "  border-bottom: solid 1px var(--xr-border-color);\n",
              "}\n",
              "\n",
              ".xr-header > div,\n",
              ".xr-header > ul {\n",
              "  display: inline;\n",
              "  margin-top: 0;\n",
              "  margin-bottom: 0;\n",
              "}\n",
              "\n",
              ".xr-obj-type,\n",
              ".xr-array-name {\n",
              "  margin-left: 2px;\n",
              "  margin-right: 10px;\n",
              "}\n",
              "\n",
              ".xr-obj-type {\n",
              "  color: var(--xr-font-color2);\n",
              "}\n",
              "\n",
              ".xr-sections {\n",
              "  padding-left: 0 !important;\n",
              "  display: grid;\n",
              "  grid-template-columns: 150px auto auto 1fr 20px 20px;\n",
              "}\n",
              "\n",
              ".xr-section-item {\n",
              "  display: contents;\n",
              "}\n",
              "\n",
              ".xr-section-item input {\n",
              "  display: none;\n",
              "}\n",
              "\n",
              ".xr-section-item input + label {\n",
              "  color: var(--xr-disabled-color);\n",
              "}\n",
              "\n",
              ".xr-section-item input:enabled + label {\n",
              "  cursor: pointer;\n",
              "  color: var(--xr-font-color2);\n",
              "}\n",
              "\n",
              ".xr-section-item input:enabled + label:hover {\n",
              "  color: var(--xr-font-color0);\n",
              "}\n",
              "\n",
              ".xr-section-summary {\n",
              "  grid-column: 1;\n",
              "  color: var(--xr-font-color2);\n",
              "  font-weight: 500;\n",
              "}\n",
              "\n",
              ".xr-section-summary > span {\n",
              "  display: inline-block;\n",
              "  padding-left: 0.5em;\n",
              "}\n",
              "\n",
              ".xr-section-summary-in:disabled + label {\n",
              "  color: var(--xr-font-color2);\n",
              "}\n",
              "\n",
              ".xr-section-summary-in + label:before {\n",
              "  display: inline-block;\n",
              "  content: '►';\n",
              "  font-size: 11px;\n",
              "  width: 15px;\n",
              "  text-align: center;\n",
              "}\n",
              "\n",
              ".xr-section-summary-in:disabled + label:before {\n",
              "  color: var(--xr-disabled-color);\n",
              "}\n",
              "\n",
              ".xr-section-summary-in:checked + label:before {\n",
              "  content: '▼';\n",
              "}\n",
              "\n",
              ".xr-section-summary-in:checked + label > span {\n",
              "  display: none;\n",
              "}\n",
              "\n",
              ".xr-section-summary,\n",
              ".xr-section-inline-details {\n",
              "  padding-top: 4px;\n",
              "  padding-bottom: 4px;\n",
              "}\n",
              "\n",
              ".xr-section-inline-details {\n",
              "  grid-column: 2 / -1;\n",
              "}\n",
              "\n",
              ".xr-section-details {\n",
              "  display: none;\n",
              "  grid-column: 1 / -1;\n",
              "  margin-bottom: 5px;\n",
              "}\n",
              "\n",
              ".xr-section-summary-in:checked ~ .xr-section-details {\n",
              "  display: contents;\n",
              "}\n",
              "\n",
              ".xr-array-wrap {\n",
              "  grid-column: 1 / -1;\n",
              "  display: grid;\n",
              "  grid-template-columns: 20px auto;\n",
              "}\n",
              "\n",
              ".xr-array-wrap > label {\n",
              "  grid-column: 1;\n",
              "  vertical-align: top;\n",
              "}\n",
              "\n",
              ".xr-preview {\n",
              "  color: var(--xr-font-color3);\n",
              "}\n",
              "\n",
              ".xr-array-preview,\n",
              ".xr-array-data {\n",
              "  padding: 0 5px !important;\n",
              "  grid-column: 2;\n",
              "}\n",
              "\n",
              ".xr-array-data,\n",
              ".xr-array-in:checked ~ .xr-array-preview {\n",
              "  display: none;\n",
              "}\n",
              "\n",
              ".xr-array-in:checked ~ .xr-array-data,\n",
              ".xr-array-preview {\n",
              "  display: inline-block;\n",
              "}\n",
              "\n",
              ".xr-dim-list {\n",
              "  display: inline-block !important;\n",
              "  list-style: none;\n",
              "  padding: 0 !important;\n",
              "  margin: 0;\n",
              "}\n",
              "\n",
              ".xr-dim-list li {\n",
              "  display: inline-block;\n",
              "  padding: 0;\n",
              "  margin: 0;\n",
              "}\n",
              "\n",
              ".xr-dim-list:before {\n",
              "  content: '(';\n",
              "}\n",
              "\n",
              ".xr-dim-list:after {\n",
              "  content: ')';\n",
              "}\n",
              "\n",
              ".xr-dim-list li:not(:last-child):after {\n",
              "  content: ',';\n",
              "  padding-right: 5px;\n",
              "}\n",
              "\n",
              ".xr-has-index {\n",
              "  font-weight: bold;\n",
              "}\n",
              "\n",
              ".xr-var-list,\n",
              ".xr-var-item {\n",
              "  display: contents;\n",
              "}\n",
              "\n",
              ".xr-var-item > div,\n",
              ".xr-var-item label,\n",
              ".xr-var-item > .xr-var-name span {\n",
              "  background-color: var(--xr-background-color-row-even);\n",
              "  margin-bottom: 0;\n",
              "}\n",
              "\n",
              ".xr-var-item > .xr-var-name:hover span {\n",
              "  padding-right: 5px;\n",
              "}\n",
              "\n",
              ".xr-var-list > li:nth-child(odd) > div,\n",
              ".xr-var-list > li:nth-child(odd) > label,\n",
              ".xr-var-list > li:nth-child(odd) > .xr-var-name span {\n",
              "  background-color: var(--xr-background-color-row-odd);\n",
              "}\n",
              "\n",
              ".xr-var-name {\n",
              "  grid-column: 1;\n",
              "}\n",
              "\n",
              ".xr-var-dims {\n",
              "  grid-column: 2;\n",
              "}\n",
              "\n",
              ".xr-var-dtype {\n",
              "  grid-column: 3;\n",
              "  text-align: right;\n",
              "  color: var(--xr-font-color2);\n",
              "}\n",
              "\n",
              ".xr-var-preview {\n",
              "  grid-column: 4;\n",
              "}\n",
              "\n",
              ".xr-index-preview {\n",
              "  grid-column: 2 / 5;\n",
              "  color: var(--xr-font-color2);\n",
              "}\n",
              "\n",
              ".xr-var-name,\n",
              ".xr-var-dims,\n",
              ".xr-var-dtype,\n",
              ".xr-preview,\n",
              ".xr-attrs dt {\n",
              "  white-space: nowrap;\n",
              "  overflow: hidden;\n",
              "  text-overflow: ellipsis;\n",
              "  padding-right: 10px;\n",
              "}\n",
              "\n",
              ".xr-var-name:hover,\n",
              ".xr-var-dims:hover,\n",
              ".xr-var-dtype:hover,\n",
              ".xr-attrs dt:hover {\n",
              "  overflow: visible;\n",
              "  width: auto;\n",
              "  z-index: 1;\n",
              "}\n",
              "\n",
              ".xr-var-attrs,\n",
              ".xr-var-data,\n",
              ".xr-index-data {\n",
              "  display: none;\n",
              "  background-color: var(--xr-background-color) !important;\n",
              "  padding-bottom: 5px !important;\n",
              "}\n",
              "\n",
              ".xr-var-attrs-in:checked ~ .xr-var-attrs,\n",
              ".xr-var-data-in:checked ~ .xr-var-data,\n",
              ".xr-index-data-in:checked ~ .xr-index-data {\n",
              "  display: block;\n",
              "}\n",
              "\n",
              ".xr-var-data > table {\n",
              "  float: right;\n",
              "}\n",
              "\n",
              ".xr-var-name span,\n",
              ".xr-var-data,\n",
              ".xr-index-name div,\n",
              ".xr-index-data,\n",
              ".xr-attrs {\n",
              "  padding-left: 25px !important;\n",
              "}\n",
              "\n",
              ".xr-attrs,\n",
              ".xr-var-attrs,\n",
              ".xr-var-data,\n",
              ".xr-index-data {\n",
              "  grid-column: 1 / -1;\n",
              "}\n",
              "\n",
              "dl.xr-attrs {\n",
              "  padding: 0;\n",
              "  margin: 0;\n",
              "  display: grid;\n",
              "  grid-template-columns: 125px auto;\n",
              "}\n",
              "\n",
              ".xr-attrs dt,\n",
              ".xr-attrs dd {\n",
              "  padding: 0;\n",
              "  margin: 0;\n",
              "  float: left;\n",
              "  padding-right: 10px;\n",
              "  width: auto;\n",
              "}\n",
              "\n",
              ".xr-attrs dt {\n",
              "  font-weight: normal;\n",
              "  grid-column: 1;\n",
              "}\n",
              "\n",
              ".xr-attrs dt:hover span {\n",
              "  display: inline-block;\n",
              "  background: var(--xr-background-color);\n",
              "  padding-right: 10px;\n",
              "}\n",
              "\n",
              ".xr-attrs dd {\n",
              "  grid-column: 2;\n",
              "  white-space: pre-wrap;\n",
              "  word-break: break-all;\n",
              "}\n",
              "\n",
              ".xr-icon-database,\n",
              ".xr-icon-file-text2,\n",
              ".xr-no-icon {\n",
              "  display: inline-block;\n",
              "  vertical-align: middle;\n",
              "  width: 1em;\n",
              "  height: 1.5em !important;\n",
              "  stroke-width: 0;\n",
              "  stroke: currentColor;\n",
              "  fill: currentColor;\n",
              "}\n",
              "</style><pre class='xr-text-repr-fallback'>&lt;xarray.DataArray (band: 3, y: 10980, x: 10980)&gt;\n",
              "[361681200 values with dtype=uint8]\n",
              "Coordinates:\n",
              "  * band         (band) int64 1 2 3\n",
              "  * x            (x) float64 4e+05 4e+05 4e+05 ... 5.097e+05 5.097e+05 5.098e+05\n",
              "  * y            (y) float64 6.5e+06 6.5e+06 6.5e+06 ... 6.39e+06 6.39e+06\n",
              "    spatial_ref  int64 0\n",
              "Attributes:\n",
              "    AREA_OR_POINT:       Area\n",
              "    OVR_RESAMPLING_ALG:  AVERAGE\n",
              "    _FillValue:          0\n",
              "    scale_factor:        1.0\n",
              "    add_offset:          0.0</pre><div class='xr-wrap' style='display:none'><div class='xr-header'><div class='xr-obj-type'>xarray.DataArray</div><div class='xr-array-name'></div><ul class='xr-dim-list'><li><span class='xr-has-index'>band</span>: 3</li><li><span class='xr-has-index'>y</span>: 10980</li><li><span class='xr-has-index'>x</span>: 10980</li></ul></div><ul class='xr-sections'><li class='xr-section-item'><div class='xr-array-wrap'><input id='section-d5423591-b9d1-4006-8c0c-70456aae1fa1' class='xr-array-in' type='checkbox' checked><label for='section-d5423591-b9d1-4006-8c0c-70456aae1fa1' title='Show/hide data repr'><svg class='icon xr-icon-database'><use xlink:href='#icon-database'></use></svg></label><div class='xr-array-preview xr-preview'><span>...</span></div><div class='xr-array-data'><pre>[361681200 values with dtype=uint8]</pre></div></div></li><li class='xr-section-item'><input id='section-f8c8a32f-904d-4a2b-836c-892f45144704' class='xr-section-summary-in' type='checkbox'  checked><label for='section-f8c8a32f-904d-4a2b-836c-892f45144704' class='xr-section-summary' >Coordinates: <span>(4)</span></label><div class='xr-section-inline-details'></div><div class='xr-section-details'><ul class='xr-var-list'><li class='xr-var-item'><div class='xr-var-name'><span class='xr-has-index'>band</span></div><div class='xr-var-dims'>(band)</div><div class='xr-var-dtype'>int64</div><div class='xr-var-preview xr-preview'>1 2 3</div><input id='attrs-183c7ad6-c0a2-4a97-a339-7b8ec0ee6cdb' class='xr-var-attrs-in' type='checkbox' disabled><label for='attrs-183c7ad6-c0a2-4a97-a339-7b8ec0ee6cdb' title='Show/Hide attributes'><svg class='icon xr-icon-file-text2'><use xlink:href='#icon-file-text2'></use></svg></label><input id='data-d1d5da91-17fa-41fb-9dee-b15caccbed61' class='xr-var-data-in' type='checkbox'><label for='data-d1d5da91-17fa-41fb-9dee-b15caccbed61' title='Show/Hide data repr'><svg class='icon xr-icon-database'><use xlink:href='#icon-database'></use></svg></label><div class='xr-var-attrs'><dl class='xr-attrs'></dl></div><div class='xr-var-data'><pre>array([1, 2, 3])</pre></div></li><li class='xr-var-item'><div class='xr-var-name'><span class='xr-has-index'>x</span></div><div class='xr-var-dims'>(x)</div><div class='xr-var-dtype'>float64</div><div class='xr-var-preview xr-preview'>4e+05 4e+05 ... 5.097e+05 5.098e+05</div><input id='attrs-7f23b984-cd45-49de-b3d7-804f9a60d645' class='xr-var-attrs-in' type='checkbox' disabled><label for='attrs-7f23b984-cd45-49de-b3d7-804f9a60d645' title='Show/Hide attributes'><svg class='icon xr-icon-file-text2'><use xlink:href='#icon-file-text2'></use></svg></label><input id='data-1d560a21-9b20-4e1c-9033-a84f6e16d2cd' class='xr-var-data-in' type='checkbox'><label for='data-1d560a21-9b20-4e1c-9033-a84f6e16d2cd' title='Show/Hide data repr'><svg class='icon xr-icon-database'><use xlink:href='#icon-database'></use></svg></label><div class='xr-var-attrs'><dl class='xr-attrs'></dl></div><div class='xr-var-data'><pre>array([399965., 399975., 399985., ..., 509735., 509745., 509755.])</pre></div></li><li class='xr-var-item'><div class='xr-var-name'><span class='xr-has-index'>y</span></div><div class='xr-var-dims'>(y)</div><div class='xr-var-dtype'>float64</div><div class='xr-var-preview xr-preview'>6.5e+06 6.5e+06 ... 6.39e+06</div><input id='attrs-b90aec04-e9fe-4213-af26-fa1206c19763' class='xr-var-attrs-in' type='checkbox' disabled><label for='attrs-b90aec04-e9fe-4213-af26-fa1206c19763' title='Show/Hide attributes'><svg class='icon xr-icon-file-text2'><use xlink:href='#icon-file-text2'></use></svg></label><input id='data-71bfb6d3-6c7f-4bba-a2a6-cfa0776a098c' class='xr-var-data-in' type='checkbox'><label for='data-71bfb6d3-6c7f-4bba-a2a6-cfa0776a098c' title='Show/Hide data repr'><svg class='icon xr-icon-database'><use xlink:href='#icon-database'></use></svg></label><div class='xr-var-attrs'><dl class='xr-attrs'></dl></div><div class='xr-var-data'><pre>array([6500015., 6500005., 6499995., ..., 6390245., 6390235., 6390225.])</pre></div></li><li class='xr-var-item'><div class='xr-var-name'><span>spatial_ref</span></div><div class='xr-var-dims'>()</div><div class='xr-var-dtype'>int64</div><div class='xr-var-preview xr-preview'>0</div><input id='attrs-c6689b50-cecb-4491-9507-3545f8b2a3a9' class='xr-var-attrs-in' type='checkbox' ><label for='attrs-c6689b50-cecb-4491-9507-3545f8b2a3a9' title='Show/Hide attributes'><svg class='icon xr-icon-file-text2'><use xlink:href='#icon-file-text2'></use></svg></label><input id='data-ba4cde2e-4739-4adc-b45d-fb06acd49aed' class='xr-var-data-in' type='checkbox'><label for='data-ba4cde2e-4739-4adc-b45d-fb06acd49aed' title='Show/Hide data repr'><svg class='icon xr-icon-database'><use xlink:href='#icon-database'></use></svg></label><div class='xr-var-attrs'><dl class='xr-attrs'><dt><span>crs_wkt :</span></dt><dd>PROJCS[&quot;WGS 84 / UTM zone 50S&quot;,GEOGCS[&quot;WGS 84&quot;,DATUM[&quot;WGS_1984&quot;,SPHEROID[&quot;WGS 84&quot;,6378137,298.257223563,AUTHORITY[&quot;EPSG&quot;,&quot;7030&quot;]],AUTHORITY[&quot;EPSG&quot;,&quot;6326&quot;]],PRIMEM[&quot;Greenwich&quot;,0,AUTHORITY[&quot;EPSG&quot;,&quot;8901&quot;]],UNIT[&quot;degree&quot;,0.0174532925199433,AUTHORITY[&quot;EPSG&quot;,&quot;9122&quot;]],AUTHORITY[&quot;EPSG&quot;,&quot;4326&quot;]],PROJECTION[&quot;Transverse_Mercator&quot;],PARAMETER[&quot;latitude_of_origin&quot;,0],PARAMETER[&quot;central_meridian&quot;,117],PARAMETER[&quot;scale_factor&quot;,0.9996],PARAMETER[&quot;false_easting&quot;,500000],PARAMETER[&quot;false_northing&quot;,10000000],UNIT[&quot;metre&quot;,1,AUTHORITY[&quot;EPSG&quot;,&quot;9001&quot;]],AXIS[&quot;Easting&quot;,EAST],AXIS[&quot;Northing&quot;,NORTH],AUTHORITY[&quot;EPSG&quot;,&quot;32750&quot;]]</dd><dt><span>semi_major_axis :</span></dt><dd>6378137.0</dd><dt><span>semi_minor_axis :</span></dt><dd>6356752.314245179</dd><dt><span>inverse_flattening :</span></dt><dd>298.257223563</dd><dt><span>reference_ellipsoid_name :</span></dt><dd>WGS 84</dd><dt><span>longitude_of_prime_meridian :</span></dt><dd>0.0</dd><dt><span>prime_meridian_name :</span></dt><dd>Greenwich</dd><dt><span>geographic_crs_name :</span></dt><dd>WGS 84</dd><dt><span>horizontal_datum_name :</span></dt><dd>World Geodetic System 1984</dd><dt><span>projected_crs_name :</span></dt><dd>WGS 84 / UTM zone 50S</dd><dt><span>grid_mapping_name :</span></dt><dd>transverse_mercator</dd><dt><span>latitude_of_projection_origin :</span></dt><dd>0.0</dd><dt><span>longitude_of_central_meridian :</span></dt><dd>117.0</dd><dt><span>false_easting :</span></dt><dd>500000.0</dd><dt><span>false_northing :</span></dt><dd>10000000.0</dd><dt><span>scale_factor_at_central_meridian :</span></dt><dd>0.9996</dd><dt><span>spatial_ref :</span></dt><dd>PROJCS[&quot;WGS 84 / UTM zone 50S&quot;,GEOGCS[&quot;WGS 84&quot;,DATUM[&quot;WGS_1984&quot;,SPHEROID[&quot;WGS 84&quot;,6378137,298.257223563,AUTHORITY[&quot;EPSG&quot;,&quot;7030&quot;]],AUTHORITY[&quot;EPSG&quot;,&quot;6326&quot;]],PRIMEM[&quot;Greenwich&quot;,0,AUTHORITY[&quot;EPSG&quot;,&quot;8901&quot;]],UNIT[&quot;degree&quot;,0.0174532925199433,AUTHORITY[&quot;EPSG&quot;,&quot;9122&quot;]],AUTHORITY[&quot;EPSG&quot;,&quot;4326&quot;]],PROJECTION[&quot;Transverse_Mercator&quot;],PARAMETER[&quot;latitude_of_origin&quot;,0],PARAMETER[&quot;central_meridian&quot;,117],PARAMETER[&quot;scale_factor&quot;,0.9996],PARAMETER[&quot;false_easting&quot;,500000],PARAMETER[&quot;false_northing&quot;,10000000],UNIT[&quot;metre&quot;,1,AUTHORITY[&quot;EPSG&quot;,&quot;9001&quot;]],AXIS[&quot;Easting&quot;,EAST],AXIS[&quot;Northing&quot;,NORTH],AUTHORITY[&quot;EPSG&quot;,&quot;32750&quot;]]</dd><dt><span>GeoTransform :</span></dt><dd>399960.0 10.0 0.0 6500020.0 0.0 -10.0</dd></dl></div><div class='xr-var-data'><pre>array(0)</pre></div></li></ul></div></li><li class='xr-section-item'><input id='section-0eb2e1ea-bc0c-46e9-9d28-7f1b32b2a03e' class='xr-section-summary-in' type='checkbox'  ><label for='section-0eb2e1ea-bc0c-46e9-9d28-7f1b32b2a03e' class='xr-section-summary' >Indexes: <span>(3)</span></label><div class='xr-section-inline-details'></div><div class='xr-section-details'><ul class='xr-var-list'><li class='xr-var-item'><div class='xr-index-name'><div>band</div></div><div class='xr-index-preview'>PandasIndex</div><div></div><input id='index-e23d9169-f676-4b44-8571-bb0e86484534' class='xr-index-data-in' type='checkbox'/><label for='index-e23d9169-f676-4b44-8571-bb0e86484534' title='Show/Hide index repr'><svg class='icon xr-icon-database'><use xlink:href='#icon-database'></use></svg></label><div class='xr-index-data'><pre>PandasIndex(Index([1, 2, 3], dtype=&#x27;int64&#x27;, name=&#x27;band&#x27;))</pre></div></li><li class='xr-var-item'><div class='xr-index-name'><div>x</div></div><div class='xr-index-preview'>PandasIndex</div><div></div><input id='index-f6bd4326-c3de-479c-b41b-07e11e426fbd' class='xr-index-data-in' type='checkbox'/><label for='index-f6bd4326-c3de-479c-b41b-07e11e426fbd' title='Show/Hide index repr'><svg class='icon xr-icon-database'><use xlink:href='#icon-database'></use></svg></label><div class='xr-index-data'><pre>PandasIndex(Index([399965.0, 399975.0, 399985.0, 399995.0, 400005.0, 400015.0, 400025.0,\n",
              "       400035.0, 400045.0, 400055.0,\n",
              "       ...\n",
              "       509665.0, 509675.0, 509685.0, 509695.0, 509705.0, 509715.0, 509725.0,\n",
              "       509735.0, 509745.0, 509755.0],\n",
              "      dtype=&#x27;float64&#x27;, name=&#x27;x&#x27;, length=10980))</pre></div></li><li class='xr-var-item'><div class='xr-index-name'><div>y</div></div><div class='xr-index-preview'>PandasIndex</div><div></div><input id='index-82a427a8-0390-44df-b549-791103becd66' class='xr-index-data-in' type='checkbox'/><label for='index-82a427a8-0390-44df-b549-791103becd66' title='Show/Hide index repr'><svg class='icon xr-icon-database'><use xlink:href='#icon-database'></use></svg></label><div class='xr-index-data'><pre>PandasIndex(Index([6500015.0, 6500005.0, 6499995.0, 6499985.0, 6499975.0, 6499965.0,\n",
              "       6499955.0, 6499945.0, 6499935.0, 6499925.0,\n",
              "       ...\n",
              "       6390315.0, 6390305.0, 6390295.0, 6390285.0, 6390275.0, 6390265.0,\n",
              "       6390255.0, 6390245.0, 6390235.0, 6390225.0],\n",
              "      dtype=&#x27;float64&#x27;, name=&#x27;y&#x27;, length=10980))</pre></div></li></ul></div></li><li class='xr-section-item'><input id='section-cb3c3ebf-ecdb-4be5-8eba-e310d26dd92f' class='xr-section-summary-in' type='checkbox'  checked><label for='section-cb3c3ebf-ecdb-4be5-8eba-e310d26dd92f' class='xr-section-summary' >Attributes: <span>(5)</span></label><div class='xr-section-inline-details'></div><div class='xr-section-details'><dl class='xr-attrs'><dt><span>AREA_OR_POINT :</span></dt><dd>Area</dd><dt><span>OVR_RESAMPLING_ALG :</span></dt><dd>AVERAGE</dd><dt><span>_FillValue :</span></dt><dd>0</dd><dt><span>scale_factor :</span></dt><dd>1.0</dd><dt><span>add_offset :</span></dt><dd>0.0</dd></dl></div></li></ul></div></div>"
            ]
          },
          "metadata": {},
          "execution_count": 52
        }
      ],
      "source": [
        "band_xr"
      ]
    },
    {
      "cell_type": "code",
      "execution_count": null,
      "metadata": {
        "id": "L5EvIrbAiV5y"
      },
      "outputs": [],
      "source": []
    },
    {
      "cell_type": "code",
      "execution_count": null,
      "metadata": {
        "id": "j5DGAPpkiV5z"
      },
      "outputs": [],
      "source": []
    },
    {
      "cell_type": "markdown",
      "metadata": {
        "id": "QsG2vzhsiV5z"
      },
      "source": [
        "# Public catalogs, protected data\n",
        "\n",
        "Publicly accessible catalogs and STAC endpoints do not necessarily imply publicly accessible data. Data providers, in fact, may limit data access to specific infrastructures and/or require authentication. For instance, the NASA CMR STAC endpoint considered in the last exercise offers publicly accessible metadata for the HLS collection, but most of the linked assets are available only for registered users (the thumbnail is publicly accessible).\n",
        "\n",
        "The authentication procedure for dataset with restricted access might differ depending on the data provider. For the NASA CMR, follow these steps in order to access data using Python:\n",
        "\n",
        "- Create a NASA Earthdata login account [here](https://urs.earthdata.nasa.gov/);\n",
        "- Set up a netrc file with your credentials, e.g. by using this [script](https://git.earthdata.nasa.gov/projects/LPDUR/repos/daac_data_download_python/browse/EarthdataLoginSetup.py);\n",
        "- Define the following environment variables:\n",
        "```\n",
        "import os\n",
        "os.environ[\"GDAL_HTTP_COOKIEFILE\"] = \"./cookies.txt\"\n",
        "os.environ[\"GDAL_HTTP_COOKIEJAR\"] = \"./cookies.txt\"\n",
        "```\n"
      ]
    },
    {
      "cell_type": "code",
      "execution_count": null,
      "metadata": {
        "id": "VSVngiH-iV5z"
      },
      "outputs": [],
      "source": []
    },
    {
      "cell_type": "code",
      "execution_count": null,
      "metadata": {
        "id": "3Umfg8DfiV5z"
      },
      "outputs": [],
      "source": []
    },
    {
      "cell_type": "code",
      "execution_count": null,
      "metadata": {
        "id": "Vz3cqqwkiV5z"
      },
      "outputs": [],
      "source": []
    },
    {
      "cell_type": "markdown",
      "metadata": {
        "id": "hIbJqyoOiV5z"
      },
      "source": [
        "## Storing our downloaded filenames for future notebooks\n",
        "Let's now store the file we downloaded in a text file for future use."
      ]
    },
    {
      "cell_type": "code",
      "execution_count": 53,
      "metadata": {
        "id": "NBqEMzlciV50"
      },
      "outputs": [],
      "source": [
        "product_directory = os.path.join(storage_location, \"S2\")\n",
        "dir_text_filename = \"product_dir.txt\"\n",
        "\n",
        "with open(dir_text_filename, 'w') as f:\n",
        "    f.writelines(product_directory)"
      ]
    },
    {
      "cell_type": "markdown",
      "metadata": {
        "id": "Br8730rUiV50"
      },
      "source": [
        "# Other options\n",
        "Another valid choice for downloading satellite data using python is [eodag](https://eodag.readthedocs.io/en/stable/).\n",
        "\n",
        "PySTAC takes a bit more knowhow of API's to use, but gives you more freedom as well.  \n",
        "PySTAC also supports COGs, which are currently only supported by the bleeding edge `eodag-cube` library rather than `eodag` itself.  \n",
        "SARA and NCI (the locations we'd get the satellite data from for eodag) supply Sentinel-2 data as zip-files rather than COGs."
      ]
    },
    {
      "cell_type": "markdown",
      "metadata": {
        "id": "31c5WBAFiV51"
      },
      "source": []
    }
  ],
  "metadata": {
    "kernelspec": {
      "display_name": "base",
      "language": "python",
      "name": "python3"
    },
    "language_info": {
      "codemirror_mode": {
        "name": "ipython",
        "version": 3
      },
      "file_extension": ".py",
      "mimetype": "text/x-python",
      "name": "python",
      "nbconvert_exporter": "python",
      "pygments_lexer": "ipython3",
      "version": "3.11.9"
    },
    "colab": {
      "provenance": []
    }
  },
  "nbformat": 4,
  "nbformat_minor": 0
}