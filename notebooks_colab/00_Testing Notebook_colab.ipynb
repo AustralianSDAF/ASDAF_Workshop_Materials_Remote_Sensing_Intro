{
  "cells": [
    {
      "cell_type": "markdown",
      "metadata": {
        "id": "KGWalXB0HNmj"
      },
      "source": [
        "# 00 - Pre-Workshop Notebook\n",
        "This notebook is designed for two reasons:\n",
        "1. To make ensure your environment works. \n",
        "2. As a brief refresher to basic Python concepts.\n",
        "\n",
        "Please click on the text in the cell below to activate it, then <u>**Hold Shift and Press Enter**</u> to run the cell (or click the \"▶️\" symbol that comes up on the left of the cell when it's active)."
      ]
    },
    {
      "cell_type": "markdown",
      "metadata": {
        "id": "vg-QKV2JHNmr"
      },
      "source": [
        "# Google Colab only\n",
        "If you're running on Google Colab, the below two cells are for you!  \n",
        "If you're not, it will just give you an error, which is expected and fine."
      ]
    },
    {
      "cell_type": "markdown",
      "metadata": {
        "id": "zWkmI6psHNmt"
      },
      "source": [
        "---\n",
        "\n",
        "On Google Collab, the first cell will 'mount' your Google Drive storage folder to the directory on the cloud machine \"/content/drive\" into a folder called \"MyDrive\"  \n",
        "The next cell runs the unix command `ls`, \"List directory contents\", on your MyDrive folder, which should list anything you have in your Google Drive."
      ]
    },
    {
      "cell_type": "code",
      "execution_count": null,
      "metadata": {
        "colab": {
          "base_uri": "https://localhost:8080/"
        },
        "id": "c8lXMGdbHNms",
        "outputId": "59cce354-941f-421b-8309-4ebabaf723dc"
      },
      "outputs": [],
      "source": [
        "from google.colab import drive\n",
        "google_dir = '/content/drive'\n",
        "drive.mount(google_dir)"
      ]
    },
    {
      "cell_type": "code",
      "execution_count": null,
      "metadata": {
        "colab": {
          "base_uri": "https://localhost:8080/"
        },
        "id": "BZ5X6MSQHNms",
        "outputId": "d379a4b2-9081-4a68-ee21-5da6b7da9388"
      },
      "outputs": [],
      "source": [
        "# Cells starting with \"!\" are not Python, but system calls. On Google Colab, it calls the shell (i.e. it's unix based).\n",
        "!ls /content/drive/MyDrive/"
      ]
    },
    {
      "cell_type": "code",
      "execution_count": null,
      "metadata": {
        "colab": {
          "base_uri": "https://localhost:8080/"
        },
        "id": "j9ToSm4THuo0",
        "outputId": "030505f7-5faf-4b4e-b5d1-3c1e455e799f"
      },
      "outputs": [],
      "source": [
        "from pathlib import Path\n",
        "project_dir = Path(google_dir) / 'MyDrive' / \"ASDAF_workshop_data\"\n",
        "storage_location = project_dir / \"workshop_data\"\n",
        "\n",
        "storage_location.mkdir(exist_ok=True, parents=True)\n",
        "\n",
        "# Now list the contents to see whats in it. If this is the first time you've run this,\n",
        "# \"storage_location\" may be empty!\n",
        "!ls {project_dir}\n",
        "!ls {storage_location}"
      ]
    },
    {
      "cell_type": "code",
      "execution_count": null,
      "metadata": {
        "colab": {
          "base_uri": "https://localhost:8080/"
        },
        "id": "d2IQTAl8IYwQ",
        "outputId": "d565cbc1-1d7d-484b-e928-116ad3106b14"
      },
      "outputs": [],
      "source": [
        "!pip install -r {workshop_path}/google_requirements.txt"
      ]
    },
    {
      "cell_type": "code",
      "execution_count": null,
      "metadata": {
        "colab": {
          "base_uri": "https://localhost:8080/"
        },
        "id": "YLIhq9QlJ3NN",
        "outputId": "00658662-80c0-4102-a581-17de7b7bb4db"
      },
      "outputs": [],
      "source": [
        "import numpy\n",
        "import numba\n",
        "import pandas\n",
        "import rioxarray\n",
        "import xarray\n",
        "import folium\n",
        "import geopandas\n",
        "import pystac_client\n",
        "\n",
        "for package in [numpy, numba, pandas, rioxarray, xarray, folium, geopandas, pystac_client]:\n",
        "    print(f\"{package.__name__} version: {package.__version__}\")"
      ]
    },
    {
      "cell_type": "markdown",
      "metadata": {
        "id": "sMgQkCNEHNmp"
      },
      "source": [
        "The output of this cell should looks something like this:\n",
        "```\n",
        "numpy version: 1.26.4\n",
        "numba version: 0.59.1\n",
        "pandas version: 2.2.2\n",
        "rioxarray version: 0.15.1\n",
        "xarray version: 2024.2.0\n",
        "```\n",
        "As long as the first two numbers match, there should not be any issues. Small differences in the second number should also be fine. Google Colab will likely have very different versions."
      ]
    }
  ],
  "metadata": {
    "colab": {
      "provenance": []
    },
    "kernelspec": {
      "display_name": "base",
      "language": "python",
      "name": "python3"
    },
    "language_info": {
      "codemirror_mode": {
        "name": "ipython",
        "version": 3
      },
      "file_extension": ".py",
      "mimetype": "text/x-python",
      "name": "python",
      "nbconvert_exporter": "python",
      "pygments_lexer": "ipython3",
      "version": "3.11.9"
    }
  },
  "nbformat": 4,
  "nbformat_minor": 0
}
