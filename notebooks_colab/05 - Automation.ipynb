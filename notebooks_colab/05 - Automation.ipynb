{
 "cells": [
  {
   "cell_type": "markdown",
   "metadata": {},
   "source": [
    "# Automating processing"
   ]
  },
  {
   "cell_type": "markdown",
   "metadata": {},
   "source": [
    "## ❓ Questions\n",
    "- How do I automate my data workflows?\n",
    "\n",
    "\n",
    "## ❗ Objectives\n",
    "- Create a pipeline from download to processing.\n",
    "- Understand available methods of automation.\n"
   ]
  },
  {
   "cell_type": "markdown",
   "metadata": {},
   "source": [
    "# Initial setup for Google Drive\n",
    "Some parameters we'll need throughout the lesson. Please run these cells!"
   ]
  },
  {
   "cell_type": "code",
   "execution_count": null,
   "metadata": {},
   "outputs": [
    {
     "name": "stdout",
     "output_type": "stream",
     "text": [
      "Drive already mounted at /content/drive; to attempt to forcibly remount, call drive.mount(\"/content/drive\", force_remount=True).\n"
     ]
    }
   ],
   "source": [
    "import os\n",
    "from os.path import join\n",
    "\n",
    "from google.colab import drive\n",
    "google_dir = '/content/drive'\n",
    "drive.mount(google_dir)"
   ]
  },
  {
   "cell_type": "code",
   "execution_count": null,
   "metadata": {},
   "outputs": [
    {
     "data": {
      "text/plain": [
       "['Corporate-Powerpoint-Template.pptx',\n",
       " 'Show and Tell.pptx',\n",
       " 'CIC drop in session - Keegan.gdoc',\n",
       " 'Quick_meeting_slides_2021-05-09.pptx',\n",
       " 'asdaf',\n",
       " 'pipe3_20k.mp4',\n",
       " 'chl_7_bin_1_stride_4fps.mkv',\n",
       " 'WAT_Waste_City_of_canning_Project_Lessons_Learnt.xlsx',\n",
       " 'slides',\n",
       " 'WCCC_yolov4-unseen.mp4',\n",
       " 'CIC Carpentries Collaborative Google Doc.gdoc',\n",
       " 'RezBaz 22.gslides',\n",
       " 'S&T',\n",
       " 'ASDAF_BMT_UHI_JIRA_New_Project_Questionnaire.xlsx',\n",
       " 'CHL_Weekly_2018_1440p.mp4',\n",
       " 'Chlor_a_Weekly_2018_1440p.mp4',\n",
       " 'UChl_abs_Weekly_2018_1440p.mp4',\n",
       " 'solo work',\n",
       " 'Untitled form.gform',\n",
       " 'CIDS Computational Resources 2024-03-22.gslides',\n",
       " 'Colab Notebooks',\n",
       " 'CIC_Carpentries_Python-master',\n",
       " 'workshop_google',\n",
       " '202404_Intro_Rrs.gslides']"
      ]
     },
     "metadata": {},
     "output_type": "display_data"
    }
   ],
   "source": [
    "os.listdir(join(google_dir, 'MyDrive'))"
   ]
  },
  {
   "cell_type": "code",
   "execution_count": null,
   "metadata": {},
   "outputs": [],
   "source": [
    "project_dir = join(google_dir, 'MyDrive', \"workshop_google\")\n",
    "storage_location = join(project_dir, \"workshop_data\")\n",
    "\n",
    "os.makedirs(storage_location, exist_ok=True)"
   ]
  },
  {
   "cell_type": "code",
   "execution_count": null,
   "metadata": {},
   "outputs": [
    {
     "name": "stdout",
     "output_type": "stream",
     "text": [
      "data\t\t google_requirements.txt  notebook_pictures  notebooks_colab  workshop_data\n",
      "environment.yml  LICENSE\t\t  notebooks\t     README.md\n"
     ]
    }
   ],
   "source": [
    "!ls {project_dir}"
   ]
  },
  {
   "cell_type": "code",
   "execution_count": null,
   "metadata": {},
   "outputs": [
    {
     "name": "stdout",
     "output_type": "stream",
     "text": [
      "Requirement already satisfied: folium in /usr/local/lib/python3.10/dist-packages (from -r /content/drive/MyDrive/workshop_google/google_requirements.txt (line 1)) (0.14.0)\n",
      "Collecting rioxarray (from -r /content/drive/MyDrive/workshop_google/google_requirements.txt (line 2))\n",
      "  Downloading rioxarray-0.15.5-py3-none-any.whl (60 kB)\n",
      "\u001b[2K     \u001b[90m━━━━━━━━━━━━━━━━━━━━━━━━━━━━━━━━━━━━━━━━\u001b[0m \u001b[32m60.5/60.5 kB\u001b[0m \u001b[31m2.0 MB/s\u001b[0m eta \u001b[36m0:00:00\u001b[0m\n",
      "\u001b[?25hRequirement already satisfied: geopandas in /usr/local/lib/python3.10/dist-packages (from -r /content/drive/MyDrive/workshop_google/google_requirements.txt (line 3)) (0.13.2)\n",
      "Collecting earthpy (from -r /content/drive/MyDrive/workshop_google/google_requirements.txt (line 4))\n",
      "  Downloading earthpy-0.9.4-py3-none-any.whl (1.4 MB)\n",
      "\u001b[2K     \u001b[90m━━━━━━━━━━━━━━━━━━━━━━━━━━━━━━━━━━━━━━━━\u001b[0m \u001b[32m1.4/1.4 MB\u001b[0m \u001b[31m28.8 MB/s\u001b[0m eta \u001b[36m0:00:00\u001b[0m\n",
      "\u001b[?25hRequirement already satisfied: numba in /usr/local/lib/python3.10/dist-packages (from -r /content/drive/MyDrive/workshop_google/google_requirements.txt (line 5)) (0.58.1)\n",
      "Requirement already satisfied: numpy in /usr/local/lib/python3.10/dist-packages (from -r /content/drive/MyDrive/workshop_google/google_requirements.txt (line 6)) (1.25.2)\n",
      "Requirement already satisfied: pandas in /usr/local/lib/python3.10/dist-packages (from -r /content/drive/MyDrive/workshop_google/google_requirements.txt (line 7)) (2.0.3)\n",
      "Requirement already satisfied: matplotlib in /usr/local/lib/python3.10/dist-packages (from -r /content/drive/MyDrive/workshop_google/google_requirements.txt (line 8)) (3.7.1)\n",
      "Requirement already satisfied: xarray in /usr/local/lib/python3.10/dist-packages (from -r /content/drive/MyDrive/workshop_google/google_requirements.txt (line 9)) (2023.7.0)\n",
      "Requirement already satisfied: tqdm in /usr/local/lib/python3.10/dist-packages (from -r /content/drive/MyDrive/workshop_google/google_requirements.txt (line 10)) (4.66.4)\n",
      "Collecting pystac-client (from -r /content/drive/MyDrive/workshop_google/google_requirements.txt (line 11))\n",
      "  Downloading pystac_client-0.8.2-py3-none-any.whl (33 kB)\n",
      "Requirement already satisfied: branca>=0.6.0 in /usr/local/lib/python3.10/dist-packages (from folium->-r /content/drive/MyDrive/workshop_google/google_requirements.txt (line 1)) (0.7.2)\n",
      "Requirement already satisfied: jinja2>=2.9 in /usr/local/lib/python3.10/dist-packages (from folium->-r /content/drive/MyDrive/workshop_google/google_requirements.txt (line 1)) (3.1.4)\n",
      "Requirement already satisfied: requests in /usr/local/lib/python3.10/dist-packages (from folium->-r /content/drive/MyDrive/workshop_google/google_requirements.txt (line 1)) (2.31.0)\n",
      "Requirement already satisfied: packaging in /usr/local/lib/python3.10/dist-packages (from rioxarray->-r /content/drive/MyDrive/workshop_google/google_requirements.txt (line 2)) (24.1)\n",
      "Collecting rasterio>=1.3 (from rioxarray->-r /content/drive/MyDrive/workshop_google/google_requirements.txt (line 2))\n",
      "  Downloading rasterio-1.3.10-cp310-cp310-manylinux2014_x86_64.whl (21.5 MB)\n",
      "\u001b[2K     \u001b[90m━━━━━━━━━━━━━━━━━━━━━━━━━━━━━━━━━━━━━━━━\u001b[0m \u001b[32m21.5/21.5 MB\u001b[0m \u001b[31m36.4 MB/s\u001b[0m eta \u001b[36m0:00:00\u001b[0m\n",
      "\u001b[?25hRequirement already satisfied: pyproj>=3.3 in /usr/local/lib/python3.10/dist-packages (from rioxarray->-r /content/drive/MyDrive/workshop_google/google_requirements.txt (line 2)) (3.6.1)\n",
      "Requirement already satisfied: fiona>=1.8.19 in /usr/local/lib/python3.10/dist-packages (from geopandas->-r /content/drive/MyDrive/workshop_google/google_requirements.txt (line 3)) (1.9.6)\n",
      "Requirement already satisfied: shapely>=1.7.1 in /usr/local/lib/python3.10/dist-packages (from geopandas->-r /content/drive/MyDrive/workshop_google/google_requirements.txt (line 3)) (2.0.4)\n",
      "Requirement already satisfied: scikit-image in /usr/local/lib/python3.10/dist-packages (from earthpy->-r /content/drive/MyDrive/workshop_google/google_requirements.txt (line 4)) (0.19.3)\n",
      "Requirement already satisfied: llvmlite<0.42,>=0.41.0dev0 in /usr/local/lib/python3.10/dist-packages (from numba->-r /content/drive/MyDrive/workshop_google/google_requirements.txt (line 5)) (0.41.1)\n",
      "Requirement already satisfied: python-dateutil>=2.8.2 in /usr/local/lib/python3.10/dist-packages (from pandas->-r /content/drive/MyDrive/workshop_google/google_requirements.txt (line 7)) (2.8.2)\n",
      "Requirement already satisfied: pytz>=2020.1 in /usr/local/lib/python3.10/dist-packages (from pandas->-r /content/drive/MyDrive/workshop_google/google_requirements.txt (line 7)) (2023.4)\n",
      "Requirement already satisfied: tzdata>=2022.1 in /usr/local/lib/python3.10/dist-packages (from pandas->-r /content/drive/MyDrive/workshop_google/google_requirements.txt (line 7)) (2024.1)\n",
      "Requirement already satisfied: contourpy>=1.0.1 in /usr/local/lib/python3.10/dist-packages (from matplotlib->-r /content/drive/MyDrive/workshop_google/google_requirements.txt (line 8)) (1.2.1)\n",
      "Requirement already satisfied: cycler>=0.10 in /usr/local/lib/python3.10/dist-packages (from matplotlib->-r /content/drive/MyDrive/workshop_google/google_requirements.txt (line 8)) (0.12.1)\n",
      "Requirement already satisfied: fonttools>=4.22.0 in /usr/local/lib/python3.10/dist-packages (from matplotlib->-r /content/drive/MyDrive/workshop_google/google_requirements.txt (line 8)) (4.53.0)\n",
      "Requirement already satisfied: kiwisolver>=1.0.1 in /usr/local/lib/python3.10/dist-packages (from matplotlib->-r /content/drive/MyDrive/workshop_google/google_requirements.txt (line 8)) (1.4.5)\n",
      "Requirement already satisfied: pillow>=6.2.0 in /usr/local/lib/python3.10/dist-packages (from matplotlib->-r /content/drive/MyDrive/workshop_google/google_requirements.txt (line 8)) (9.4.0)\n",
      "Requirement already satisfied: pyparsing>=2.3.1 in /usr/local/lib/python3.10/dist-packages (from matplotlib->-r /content/drive/MyDrive/workshop_google/google_requirements.txt (line 8)) (3.1.2)\n",
      "Collecting pystac[validation]>=1.10.0 (from pystac-client->-r /content/drive/MyDrive/workshop_google/google_requirements.txt (line 11))\n",
      "  Downloading pystac-1.10.1-py3-none-any.whl (182 kB)\n",
      "\u001b[2K     \u001b[90m━━━━━━━━━━━━━━━━━━━━━━━━━━━━━━━━━━━━━━━━\u001b[0m \u001b[32m182.9/182.9 kB\u001b[0m \u001b[31m17.3 MB/s\u001b[0m eta \u001b[36m0:00:00\u001b[0m\n",
      "\u001b[?25hRequirement already satisfied: attrs>=19.2.0 in /usr/local/lib/python3.10/dist-packages (from fiona>=1.8.19->geopandas->-r /content/drive/MyDrive/workshop_google/google_requirements.txt (line 3)) (23.2.0)\n",
      "Requirement already satisfied: certifi in /usr/local/lib/python3.10/dist-packages (from fiona>=1.8.19->geopandas->-r /content/drive/MyDrive/workshop_google/google_requirements.txt (line 3)) (2024.6.2)\n",
      "Requirement already satisfied: click~=8.0 in /usr/local/lib/python3.10/dist-packages (from fiona>=1.8.19->geopandas->-r /content/drive/MyDrive/workshop_google/google_requirements.txt (line 3)) (8.1.7)\n",
      "Requirement already satisfied: click-plugins>=1.0 in /usr/local/lib/python3.10/dist-packages (from fiona>=1.8.19->geopandas->-r /content/drive/MyDrive/workshop_google/google_requirements.txt (line 3)) (1.1.1)\n",
      "Requirement already satisfied: cligj>=0.5 in /usr/local/lib/python3.10/dist-packages (from fiona>=1.8.19->geopandas->-r /content/drive/MyDrive/workshop_google/google_requirements.txt (line 3)) (0.7.2)\n",
      "Requirement already satisfied: six in /usr/local/lib/python3.10/dist-packages (from fiona>=1.8.19->geopandas->-r /content/drive/MyDrive/workshop_google/google_requirements.txt (line 3)) (1.16.0)\n",
      "Requirement already satisfied: MarkupSafe>=2.0 in /usr/local/lib/python3.10/dist-packages (from jinja2>=2.9->folium->-r /content/drive/MyDrive/workshop_google/google_requirements.txt (line 1)) (2.1.5)\n",
      "Requirement already satisfied: jsonschema~=4.18 in /usr/local/lib/python3.10/dist-packages (from pystac[validation]>=1.10.0->pystac-client->-r /content/drive/MyDrive/workshop_google/google_requirements.txt (line 11)) (4.19.2)\n",
      "Collecting affine (from rasterio>=1.3->rioxarray->-r /content/drive/MyDrive/workshop_google/google_requirements.txt (line 2))\n",
      "  Downloading affine-2.4.0-py3-none-any.whl (15 kB)\n",
      "Collecting snuggs>=1.4.1 (from rasterio>=1.3->rioxarray->-r /content/drive/MyDrive/workshop_google/google_requirements.txt (line 2))\n",
      "  Downloading snuggs-1.4.7-py3-none-any.whl (5.4 kB)\n",
      "Requirement already satisfied: setuptools in /usr/local/lib/python3.10/dist-packages (from rasterio>=1.3->rioxarray->-r /content/drive/MyDrive/workshop_google/google_requirements.txt (line 2)) (67.7.2)\n",
      "Requirement already satisfied: charset-normalizer<4,>=2 in /usr/local/lib/python3.10/dist-packages (from requests->folium->-r /content/drive/MyDrive/workshop_google/google_requirements.txt (line 1)) (3.3.2)\n",
      "Requirement already satisfied: idna<4,>=2.5 in /usr/local/lib/python3.10/dist-packages (from requests->folium->-r /content/drive/MyDrive/workshop_google/google_requirements.txt (line 1)) (3.7)\n",
      "Requirement already satisfied: urllib3<3,>=1.21.1 in /usr/local/lib/python3.10/dist-packages (from requests->folium->-r /content/drive/MyDrive/workshop_google/google_requirements.txt (line 1)) (2.0.7)\n",
      "Requirement already satisfied: scipy>=1.4.1 in /usr/local/lib/python3.10/dist-packages (from scikit-image->earthpy->-r /content/drive/MyDrive/workshop_google/google_requirements.txt (line 4)) (1.11.4)\n",
      "Requirement already satisfied: networkx>=2.2 in /usr/local/lib/python3.10/dist-packages (from scikit-image->earthpy->-r /content/drive/MyDrive/workshop_google/google_requirements.txt (line 4)) (3.3)\n",
      "Requirement already satisfied: imageio>=2.4.1 in /usr/local/lib/python3.10/dist-packages (from scikit-image->earthpy->-r /content/drive/MyDrive/workshop_google/google_requirements.txt (line 4)) (2.31.6)\n",
      "Requirement already satisfied: tifffile>=2019.7.26 in /usr/local/lib/python3.10/dist-packages (from scikit-image->earthpy->-r /content/drive/MyDrive/workshop_google/google_requirements.txt (line 4)) (2024.5.22)\n",
      "Requirement already satisfied: PyWavelets>=1.1.1 in /usr/local/lib/python3.10/dist-packages (from scikit-image->earthpy->-r /content/drive/MyDrive/workshop_google/google_requirements.txt (line 4)) (1.6.0)\n",
      "Requirement already satisfied: jsonschema-specifications>=2023.03.6 in /usr/local/lib/python3.10/dist-packages (from jsonschema~=4.18->pystac[validation]>=1.10.0->pystac-client->-r /content/drive/MyDrive/workshop_google/google_requirements.txt (line 11)) (2023.12.1)\n",
      "Requirement already satisfied: referencing>=0.28.4 in /usr/local/lib/python3.10/dist-packages (from jsonschema~=4.18->pystac[validation]>=1.10.0->pystac-client->-r /content/drive/MyDrive/workshop_google/google_requirements.txt (line 11)) (0.35.1)\n",
      "Requirement already satisfied: rpds-py>=0.7.1 in /usr/local/lib/python3.10/dist-packages (from jsonschema~=4.18->pystac[validation]>=1.10.0->pystac-client->-r /content/drive/MyDrive/workshop_google/google_requirements.txt (line 11)) (0.18.1)\n",
      "Installing collected packages: snuggs, affine, rasterio, pystac, rioxarray, earthpy, pystac-client\n",
      "Successfully installed affine-2.4.0 earthpy-0.9.4 pystac-1.10.1 pystac-client-0.8.2 rasterio-1.3.10 rioxarray-0.15.5 snuggs-1.4.7\n"
     ]
    }
   ],
   "source": [
    "!pip install -r {project_dir}/google_requirements.txt"
   ]
  },
  {
   "cell_type": "markdown",
   "metadata": {},
   "source": [
    "# Automating the entire process\n",
    "Previously we've applied single processes to our images.  \n",
    "Part of automation is encapsulating these processes into functions, and encapsualting those functions into larger processes.\n",
    "\n",
    "Let's try to put several of the lessons we've done together into functions in a script that we can call in this notebook."
   ]
  },
  {
   "cell_type": "code",
   "execution_count": null,
   "metadata": {
    "vscode": {
     "languageId": "plaintext"
    }
   },
   "outputs": [],
   "source": []
  },
  {
   "cell_type": "code",
   "execution_count": null,
   "metadata": {
    "vscode": {
     "languageId": "plaintext"
    }
   },
   "outputs": [],
   "source": []
  },
  {
   "cell_type": "code",
   "execution_count": null,
   "metadata": {
    "vscode": {
     "languageId": "plaintext"
    }
   },
   "outputs": [],
   "source": []
  },
  {
   "cell_type": "code",
   "execution_count": null,
   "metadata": {
    "vscode": {
     "languageId": "plaintext"
    }
   },
   "outputs": [],
   "source": []
  },
  {
   "cell_type": "code",
   "execution_count": null,
   "metadata": {
    "vscode": {
     "languageId": "plaintext"
    }
   },
   "outputs": [],
   "source": []
  },
  {
   "cell_type": "markdown",
   "metadata": {},
   "source": [
    "# Automatically Running a script\n",
    "The final part of the puzzle here is no longer activating the script ourselves.  \n",
    "\n",
    "There are many ways to do this with just as many providers, including:  \n",
    "- Pawsey's Nimbus Cloud\n",
    "- ARDC Nectar\n",
    "- AWS EC2\n",
    "- Azure Virtual Machines\n",
    "- Your own Linux machine\n",
    "\n",
    "As Nimbus seems quite popular, we'll focus on tools that can be used from Nimbus, such as `cron`."
   ]
  }
 ],
 "metadata": {
  "language_info": {
   "name": "python"
  }
 },
 "nbformat": 4,
 "nbformat_minor": 2
}
