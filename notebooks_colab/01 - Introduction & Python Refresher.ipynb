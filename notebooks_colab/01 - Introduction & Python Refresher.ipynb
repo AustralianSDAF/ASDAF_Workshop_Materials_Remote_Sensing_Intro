{
 "cells": [
  {
   "cell_type": "markdown",
   "metadata": {},
   "source": [
    "## "
   ]
  },
  {
   "cell_type": "markdown",
   "metadata": {},
   "source": [
    "# Introduction and Refresher"
   ]
  },
  {
   "cell_type": "markdown",
   "metadata": {},
   "source": [
    "\n",
    "**A small -re-introduction to Python for those with less experience.**\n",
    "\n",
    "- This is by no means a proper introduction, but a fast paced re-introduction, as this course has been designed for those with some basic pre-existing Python expertise.\n",
    "\n",
    "Python lets us automate many tasks, including calculations, being able to store results.   "
   ]
  },
  {
   "cell_type": "markdown",
   "metadata": {},
   "source": [
    "\n",
    "## ❓ Questions\n",
    "- What is a Jupyter Notebook?\n",
    "- Why use Python?\n",
    "- What is abstraction?\n",
    "\n",
    "## ❗ Objectives\n",
    "- Understand what a Jupyter Notebook is.\n",
    "- Be able to read basic Python syntax.\n",
    "- Understand basic datatype like `int`, `list`, etc.\n",
    "- Understand why abstraction is important.\n",
    "- Understand on a high level, what a Function and a Class are."
   ]
  },
  {
   "cell_type": "markdown",
   "metadata": {},
   "source": [
    "# ⚡ Jupyter basics\n",
    "Before we get into Python, let's refresh the basics of Jupyter.  \n",
    "\n",
    "## Why Jupyter?\n",
    "Jupyter allows you to run Python and visualise it all in one place. In some circumstances it will be better to use a script (a '.py' file), but for exploratory analysis, Jupyter is usually a good choice.\n",
    "\n",
    "## Cells\n",
    "A Jupyter Notebook (the file you're currently in) is divided into 'Cells'. Each of these cells is either a \"code\" or \"markdown\" cell.  \n",
    "You can activate a cell by clicking on the body of it, and you should see a highlight on the left-hand side telling you it is the current active cell.  \n",
    "A new cell can either by created below the current one by clicking on the \"+ Code\" or \"+ Markdown\" buttons at the top.  \n",
    "A cell can then be deleted either with the button on the top-left of the cell, or if activated outside of edit mode (click just to the left of the cell) by pressing `d` twice in succession. "
   ]
  },
  {
   "cell_type": "markdown",
   "metadata": {},
   "source": [
    "\n",
    "\n",
    "## Markdown Cells\n",
    "[Markdown](https://en.wikipedia.org/wiki/Markdown) is a type of [markup language](https://en.wikipedia.org/wiki/Markup_language). \n",
    "\n",
    "Markdown is designed to easily format plain-text notes in a human readable form that is then able to rendered to something slightly fancier. If you click the \"+ Markdown\" button at the top, a new markdown cell will be created.\n",
    "You can also double click on a text box to edit it. To render a markdown Cell as text, hold `Shift` and the press `Enter`, or click the tick in the top-right of the cell.  \n",
    "Markdown is very useful to structure a notebook, and especially great when sharing notebooks with others. \n",
    "\n",
    "An example of how markdown looks is below:\n",
    "\n",
    "---\n",
    "```markdown\n",
    "# A title\n",
    "## A subtitle\n",
    "Some text\n",
    "- A dot-point list item\n",
    "- The next dot-point item\n",
    "\n",
    "### Another sub-subtitle\n",
    "1. A numbered list\n",
    "2. Another numbered list item \n",
    "\n",
    "> Quoted text\n",
    "\n",
    "Some text with a [hyperlink to a website](https://google.com). The website URL is not rendered.\n",
    "\n",
    "Some code `a = 3 + 4`\n",
    "```\n",
    "If you double click on this text, you'll see how the markdown looks. Hold `Shift`, then press `Enter` to re-render it.\n",
    "\n",
    "---\n",
    "\n"
   ]
  },
  {
   "cell_type": "markdown",
   "metadata": {},
   "source": [
    "\n",
    "## Code Cells\n",
    "The other type of cell Jupyter has is a 'code' cell. These cells will run any text within them based on the currently active 'kernel', which will 'interpret' the cells.  \n",
    "The name Jupyter is a combination of `JUlia`, `PYthon`, and `R`, the three core languages supported, but it can be extended to support other languages.  \n",
    "This course will only use Python.  \n",
    "\n",
    "You can make a new code cell with either the \"+ Code\" button at the top, or clicking just to the left of a cell and press `b` for a cell below\", or `a` for a cell above the current cell."
   ]
  },
  {
   "cell_type": "code",
   "execution_count": null,
   "metadata": {},
   "outputs": [],
   "source": []
  },
  {
   "cell_type": "markdown",
   "metadata": {},
   "source": [
    "## ⚡ Basic operations and readability\n",
    "Below, we use a 'variable' `a` to store the result of `3+4`. \n",
    "\n",
    "Then we call the print function on the variable `a`."
   ]
  },
  {
   "cell_type": "code",
   "execution_count": null,
   "metadata": {},
   "outputs": [],
   "source": [
    "a = 3 + 4\n",
    "print(a)"
   ]
  },
  {
   "cell_type": "markdown",
   "metadata": {},
   "source": [
    "We can also add comments to our code with the `#` symbol. These are not run."
   ]
  },
  {
   "cell_type": "code",
   "execution_count": null,
   "metadata": {},
   "outputs": [],
   "source": [
    "# An example of a comment.\n",
    "# Comments help our code become more understandable by humans. \n",
    "# On the flip-side, too many comments can make it harder to read.\n",
    "\n",
    "# Try to use comments only when they're needed. (e.g. citing a paper or explaining *why* something is coded the way it is)\n",
    "\n",
    "print(4 + 5)\n",
    "print(3 + 4) # We can also put comments on a line. Nothing after the hash is executed.\n",
    "print('Comments are great!') # The next lines run normally.\n"
   ]
  },
  {
   "cell_type": "code",
   "execution_count": null,
   "metadata": {},
   "outputs": [],
   "source": [
    "# Write some of your own equations here to evaluate!\n"
   ]
  },
  {
   "cell_type": "markdown",
   "metadata": {},
   "source": [
    "### Coding Style\n",
    "Just because you can, doesn't mean you should.   \n",
    "\n",
    "Python lets you code in a variety of ways, but sometimes this can make it harder to read.   \n",
    "Compare the two ways of creating a variable below.\n",
    "\n",
    "The second way is should be a little easier to tell what is happening in the second cell, by dividing it into smaller sections, naming things better, and spacing appropriately.\n",
    "\n",
    "\n"
   ]
  },
  {
   "cell_type": "code",
   "execution_count": null,
   "metadata": {},
   "outputs": [],
   "source": [
    "var_1=3*4/(4+5*(6-3)/3+3*4)-3*4/12+15\n",
    "print(\"The first variable is\", var_1)"
   ]
  },
  {
   "cell_type": "code",
   "execution_count": null,
   "metadata": {},
   "outputs": [],
   "source": [
    "heat = 3 * 4 \n",
    "time = (4 + 5*(6 - 3)/3 + 3*4)\n",
    "extra_power = -3 * 4 / 12 + 15\n",
    "\n",
    "total_power = (heat / time) + extra_power\n",
    "print(\"The second variable is\", total_power)"
   ]
  },
  {
   "cell_type": "markdown",
   "metadata": {},
   "source": [
    "To try codify good ways of programming, people create what are known as 'style guides', to dictate standard ways of coding to improve readability.  \n",
    "The general Style guide for Python is [Python Ehancement Proposal 8 (a.k.a. \"PEP 8\")](https://peps.python.org/pep-0008/).\n",
    "\n",
    "The key thing to note is right at the start:\n",
    "> Note, rules are there to be broken. Two good reasons to break a particular rule:\n",
    "> - When applying the rule would make the code less readable, even for someone who is used to reading code that follows the rules.\n",
    "> - To be consistent with surrounding code that also breaks it (maybe for historic reasons) – although this is also an opportunity to clean up someone else’s mess\n",
    "\n",
    "Other than that, the key to readable code is to name things properly.   \n",
    "This is easier than it sounds; a recurring joke is that:  \n",
    "> There are two unsolved problems in programming:\n",
    "> - Naming things\n",
    "> - Efficiently managing projects\n",
    "> - Off by one errors  \n",
    "\n",
    "We'll leave it to your best judgment on how to name things properly for the domain you work in. "
   ]
  },
  {
   "cell_type": "markdown",
   "metadata": {},
   "source": [
    "# Data Types"
   ]
  },
  {
   "cell_type": "markdown",
   "metadata": {},
   "source": [
    "We can also store other 'types' of things in Python. Some intrinsic (coming with default Python) types include:\n",
    "- `int`: Integers (whole numbers)\n",
    "- `float`: Decimal numbers ('floating point' as it internally stores a number using scientific notation. Can store large numbers, but loses accuracy).\n",
    "- `str`: Strings (collections of characters. NB: The string of a number if different to the integer or float representation of that number).\n",
    "- `tuple`: A tuple is a grouping of objects that is [immutable](https://en.wikipedia.org/wiki/Immutable_object).\n",
    "- `list`: A list is a grouping of objects that is mutable.\n",
    "- `function`: A function can be called, usually with parameters that it can operate on.\n",
    "and many others. "
   ]
  },
  {
   "cell_type": "code",
   "execution_count": null,
   "metadata": {},
   "outputs": [],
   "source": [
    "# Type of a number\n",
    "print('Type of 3 is', type(3))"
   ]
  },
  {
   "cell_type": "code",
   "execution_count": null,
   "metadata": {},
   "outputs": [],
   "source": [
    "# Type of a string\n",
    "b = 'example string'\n",
    "print('The type of a string is', type(b))"
   ]
  },
  {
   "cell_type": "code",
   "execution_count": null,
   "metadata": {},
   "outputs": [],
   "source": [
    "def example_function(x):\n",
    "    \"\"\" An example function for testing types\"\"\"\n",
    "    return x**2 / 2"
   ]
  },
  {
   "cell_type": "code",
   "execution_count": null,
   "metadata": {},
   "outputs": [],
   "source": [
    "# Type of a function and the result of a function\n",
    "print('Type of a function is', type(example_function))\n",
    "print('The type of the result of this function in particular is', type(example_function(3.2)))"
   ]
  },
  {
   "cell_type": "markdown",
   "metadata": {},
   "source": [
    "## 🔥 Question - Implicit Types and Type conversions\n",
    "Complete the following at your own pace.\n",
    "- Set the variable `a = 3`\n",
    "- What is the type of `a * a`?\n",
    "- What is the type of `a / a`\n",
    "- Repeat this with `a = 3.0`\n",
    "- If these are the same or different, why?"
   ]
  },
  {
   "cell_type": "code",
   "execution_count": null,
   "metadata": {},
   "outputs": [],
   "source": [
    "# Enter question here\n",
    "a = 3\n",
    "# Start from below!\n",
    "\n"
   ]
  },
  {
   "cell_type": "markdown",
   "metadata": {},
   "source": [
    "## Tuples and Lists"
   ]
  },
  {
   "cell_type": "code",
   "execution_count": null,
   "metadata": {},
   "outputs": [],
   "source": [
    "# Create a tuple\n",
    "\n",
    "# Change the 2nd element of a tuple"
   ]
  },
  {
   "cell_type": "code",
   "execution_count": null,
   "metadata": {},
   "outputs": [],
   "source": [
    "# Create a list\n",
    "\n",
    "# Change the 2nd element of a list\n"
   ]
  },
  {
   "cell_type": "markdown",
   "metadata": {},
   "source": [
    "## Dictionaries\n",
    "Dictionaries are a useful way of storing information with `keys` and `values`.  \n",
    "Rather than a list, which is indexed with numbers, in a dictionary, a `key` will give you the associated `value`.  \n",
    "Sometimes you may hear dictionaries called 'hash maps' - they are the same thing!\n",
    "\n",
    "In Python, dictionaries are defined with curly brackets `{}`  "
   ]
  },
  {
   "cell_type": "code",
   "execution_count": null,
   "metadata": {},
   "outputs": [],
   "source": [
    "# Create a dictionary\n"
   ]
  },
  {
   "cell_type": "code",
   "execution_count": null,
   "metadata": {},
   "outputs": [],
   "source": [
    "# Use the dictionary!"
   ]
  },
  {
   "cell_type": "markdown",
   "metadata": {},
   "source": [
    "# Unpacking lists and dictionaries\n",
    "The `*` (unpack list) and `**` (unpack pairs) operators allow us to unpack lists and dictionaries into other lists or functions.   \n",
    "We will make use of these a fair bit throughout this course"
   ]
  },
  {
   "cell_type": "code",
   "execution_count": null,
   "metadata": {},
   "outputs": [],
   "source": [
    "# Create a list, and then create a new list from the unpacked list\n",
    "a = [1, 2, 3]\n",
    "b = [6, *a, 7]\n",
    "print(b)"
   ]
  },
  {
   "cell_type": "markdown",
   "metadata": {},
   "source": [
    "# 🔔 Why not just use a calculator or Excel?\n",
    "So far we've not done very much that cant also easily be done in Excel or a calculator. So why learn programming?\n",
    "\n",
    "Programming languages introduce three important things that Excel/calculators don't do well:\n",
    "1. Control Flow - Change what to do based on conditions.\n",
    "2. Iteration - Do something multiple times with minimal effort.\n",
    "3. Abstraction - 'Abstract' away a concept to re-use with minimal effort.\n"
   ]
  },
  {
   "cell_type": "markdown",
   "metadata": {},
   "source": [
    "### Control Flow\n",
    "Using `if`, `elif`, and `else` statements, we can direct the flow of a program based on inputs.  \n",
    "\n",
    "More advanced usage can include the [\"Ask Forgiveness rather than Permission\"](https://realpython.com/python-lbyl-vs-eafp/) paradigm with `try`, `except`, and `raise`.\n",
    "\n",
    "An example is below. \n",
    "- Read the code, and come up with an explanation of what it is doing and why based on the English interpretation of the words used. \n",
    "- Change the `flow_rate_mL` variable a few times. Try values like `-1`, `20`, `100`, etc. \n",
    "- Does the output match what you'd expect?"
   ]
  },
  {
   "cell_type": "code",
   "execution_count": null,
   "metadata": {},
   "outputs": [],
   "source": [
    "flow_rate_mL = 45 # In practice this value might come from a sensor and/or the output of another part of the program\n",
    "\n",
    "# Program description:\n",
    "# Check if flow rate is in reasonable bounds\n",
    "# Check if flow rate is beyond an overflow threshold\n",
    "# Otherwise an overflow is not detected !\n",
    "# Print out if an overflow is detected\n",
    "if (flow_rate_mL < 0) or (flow_rate_mL > 1e10): \n",
    "    raise ValueError(\"Flow rate outside rational bounds!\")\n",
    "elif (flow_rate_mL > 30):\n",
    "    overflow_detected = True\n",
    "else:\n",
    "    overflow_detected = False\n",
    "\n",
    "print(overflow_detected)"
   ]
  },
  {
   "cell_type": "code",
   "execution_count": null,
   "metadata": {},
   "outputs": [],
   "source": [
    "# Try, except example.\n",
    "# Squaring a string?\n",
    "total_money = '3'\n",
    "try:\n",
    "    total_money = total_money **2\n",
    "except TypeError as e:\n",
    "    print(\"Not expecting something that isn't a number!\")\n",
    "    raise e # Raise the error anyway\n"
   ]
  },
  {
   "cell_type": "markdown",
   "metadata": {},
   "source": [
    "### Iteration\n",
    "Iteration allows us to do something multiple times. This can greatly reduce time spent on manual work if applied to the right problems.  \n",
    "\n",
    "In Python, this is done with the `for` keyword, followed by an 'iterable' object  - an object you can iterate over.  \n",
    "The `range` keyword lets you quickly make a basic iterable."
   ]
  },
  {
   "cell_type": "code",
   "execution_count": null,
   "metadata": {},
   "outputs": [],
   "source": [
    "for i in range(10000):\n",
    "    print('The current iteration is', i)"
   ]
  },
  {
   "cell_type": "code",
   "execution_count": null,
   "metadata": {},
   "outputs": [],
   "source": [
    "# Create a list of names of remote sensing missions called 'satellites'\n",
    "\n",
    "# Loop over the list of satellites, and print out what each one is\n"
   ]
  },
  {
   "cell_type": "code",
   "execution_count": null,
   "metadata": {},
   "outputs": [],
   "source": [
    "# Create a dictionary of government acronyms\n",
    "\n",
    "# Loop over a dictionary with the .items, .values, or .keys methods"
   ]
  },
  {
   "cell_type": "markdown",
   "metadata": {},
   "source": [
    "### 🔔 Challenge - house prices\n",
    "Write a loop that operates on the variable `house_price_hun_thousands` below. \n",
    "\n",
    "It should:\n",
    "1. Take the current value of `house_price_hun_thousands` and multiply by 1.1\n",
    "2. Take that value and add 3\n",
    "3. Do steps 1. and 2. ten times\n",
    "4. Finally, print out the value of `house_price_hun_thousands`. (It should be close to 307.) "
   ]
  },
  {
   "cell_type": "code",
   "execution_count": null,
   "metadata": {},
   "outputs": [],
   "source": [
    "# Staring house price value in hundreds of thousands\n",
    "house_price_hun_thousands = 500 \n",
    "savings = 0\n",
    "savings_per_year = 50\n",
    "\n",
    "# Write your loop below.\n",
    "for i in range(10):\n",
    "    house_price_hun_thousands = house_price_hun_thousands*1.1\n",
    "    savings += savings_per_year*(1.05)**i\n",
    "print(house_price_hun_thousands, savings)\n"
   ]
  },
  {
   "cell_type": "markdown",
   "metadata": {},
   "source": [
    "## Abstraction - Functions and more\n",
    "The final programming concept is [abstraction](https://en.wikipedia.org/wiki/Abstraction_(computer_science)). When combined with the other two concepts, abstraction truly makes programming a force to be reckoned with.   \n",
    "\n",
    "At a basic level, abstraction is representing a complicated concept in a simpler way at a higher level.   \n",
    "One level of abstraction is using assembly instructions of a processor rather than dealing with voltages of transistors. Another level is using Python rather than assembly instructions, and so on.\n",
    "\n",
    "For our purposes, abstraction will involve the creation and use of `functions`, `classes`, and a few other things.  \n",
    "In this course we will create `functions`, but only use `classes` that other people have already made.\n",
    "\n",
    "### 🔔 Challenge - Doctrings/Fix the function\n",
    "A [docstring](https://peps.python.org/pep-0257/#what-is-a-docstring) is a string (`str`) of text at the top of a function defined with three quotation marks on either side.  \n",
    "The goal of a docstring is to summarise the function, and in a way, act as a plain English contract between the developer and the user as to how a function should behave.  \n",
    "This is just as important when the developer and the user are **both you**!\n",
    "\n",
    "\n",
    "\n",
    "📛 The function below has something wrong with it. Read the docstring of the function below and work out is wrong, then fix it and see if the output matches the docstring."
   ]
  },
  {
   "cell_type": "code",
   "execution_count": null,
   "metadata": {},
   "outputs": [],
   "source": [
    "# Creating the function called \"append_S2_prefix\"\n",
    "def append_S2_prefix(filename_input):\n",
    "    \"\"\" Adds the S2 prefix to a filename (string), e.g. \"art\" becomes \"S2_MSI_L2a_art\" \"\"\"\n",
    "    filename_prefix = \"S2_MSI_L2a_\"\n",
    "    prefixed_filename = filename_prefix + filename_input\n",
    "    return filename_prefix\n",
    "\n",
    "# using the function and printing the output\n",
    "basic_filename = \"grid_32_aug_2023.tif\"\n",
    "print(append_S2_prefix(basic_filename))"
   ]
  },
  {
   "cell_type": "markdown",
   "metadata": {},
   "source": [
    "## 📚 Classes - A quick rundown for this workshop\n",
    "In Python, a `class` defines a **collection** of both **data** and **functions** grouped together.  \n",
    "An `instance` of a class is then a group of data and functions as defined by that class, often just called an \"object\".    \n",
    "A class inherently knows what data belongs to it, and class functions can use both an instance's own data and user supplied input.  \n",
    "\n",
    "In the next notebook, we will use a class from the library `eodag` to download satellite data.   \n",
    "The benefit of using a class is that we can:\n",
    "- Create an object of the `eodag` downloader class\n",
    "- Use the object to query the server (the object will remember the output)\n",
    "- Have the object download thumbnails for the products\n",
    "- Have the object download the products we wish\n",
    "\n",
    "And all without having to keep track of variables ourselves (besides the downloader object)!\n",
    "\n",
    "We'll also use other objects, such as a `shapely` `Polygon` (a collection of points representing a 2D area), `numpy` arrays (a collection of numbers), and `xarray` `Dataframes` (a collection of numpy arrays and metadata, representing a Geo Image).\n",
    "\n",
    "😮‍💨 We wont need to create any classes in this course, so we wont touch on them any more than we have to.    \n",
    "> NB: functions assigned to a class are generally called \"methods\""
   ]
  },
  {
   "cell_type": "markdown",
   "metadata": {},
   "source": [
    "\n",
    "### 🔔 Challenge - Combining everything together\n",
    "This challenge will test everything you should know so far by creating and testing a function.  \n",
    "\n",
    "Your function will:\n",
    "- Be called `reflectance_modifier`\n",
    "- Takes as input a single variable called `reflectance`\n",
    "- If the value of `reflectance` input is less than 0, then `raise` a `ValueError` with appropriate dialogue like before (e.g. `raise ValueError(\"Bad input\")`)\n",
    "- If the value is a string raise the same error (hint: use the [isinstance()](https://www.w3schools.com/python/ref_func_isinstance.asp) function against `str` type) -\n",
    "- 3 times over, sets a new `reflectance` value to be `0.1` plus the old value of `reflectance`, then multiplied by the old `reflectance` value \n",
    "- After those 3 iterations, add `0.01` to `reflectance`\n",
    "- If the value of `reflectance` is greater than 1, it sets the value of `reflectance` to 1.\n",
    "- If the value of `reflectance` is less than 0, set the value of `reflectance` to 0.\n",
    "- Return the value of `reflectance`\n",
    "\n",
    "You should then test your function against the following values:\n",
    "- `-0.1`\n",
    "- `'Perth'`\n",
    "- `0.1`\n",
    "- `0.8`\n",
    "- `15`  \n",
    "\n",
    "The outputs should be:\n",
    "- `ValueError`\n",
    "- `ValueError`\n",
    "- `0.01024576`\n",
    "- `0.4176121600000002`\n",
    "- `1`\n",
    "\n"
   ]
  },
  {
   "cell_type": "code",
   "execution_count": null,
   "metadata": {},
   "outputs": [],
   "source": [
    "# Write your functions here. NB: This is not an actual algorithm, just an example\n",
    "\n",
    "\n",
    "\n",
    "\n"
   ]
  },
  {
   "cell_type": "code",
   "execution_count": null,
   "metadata": {},
   "outputs": [],
   "source": [
    "# Test 1 \n",
    "reflectance_modifier( # FINISH ME!"
   ]
  },
  {
   "cell_type": "code",
   "execution_count": null,
   "metadata": {},
   "outputs": [],
   "source": [
    "# Test 2"
   ]
  },
  {
   "cell_type": "code",
   "execution_count": null,
   "metadata": {},
   "outputs": [],
   "source": [
    "# Test 3"
   ]
  },
  {
   "cell_type": "code",
   "execution_count": null,
   "metadata": {},
   "outputs": [],
   "source": [
    "# Test 4"
   ]
  },
  {
   "cell_type": "code",
   "execution_count": null,
   "metadata": {},
   "outputs": [],
   "source": [
    "# Test 5"
   ]
  },
  {
   "cell_type": "markdown",
   "metadata": {},
   "source": []
  },
  {
   "cell_type": "markdown",
   "metadata": {},
   "source": [
    "\n",
    "## ❗ Notebook Objectives\n",
    "- Understand what a Jupyter Notebook is\n",
    "- Understand basic Python\n",
    "- Understand why abstraction is important\n",
    "- Understand at a high level what a function and a class are"
   ]
  }
 ],
 "metadata": {
  "kernelspec": {
   "display_name": "base",
   "language": "python",
   "name": "python3"
  },
  "language_info": {
   "codemirror_mode": {
    "name": "ipython",
    "version": 3
   },
   "file_extension": ".py",
   "mimetype": "text/x-python",
   "name": "python",
   "nbconvert_exporter": "python",
   "pygments_lexer": "ipython3",
   "version": "3.1.-1"
  }
 },
 "nbformat": 4,
 "nbformat_minor": 2
}
