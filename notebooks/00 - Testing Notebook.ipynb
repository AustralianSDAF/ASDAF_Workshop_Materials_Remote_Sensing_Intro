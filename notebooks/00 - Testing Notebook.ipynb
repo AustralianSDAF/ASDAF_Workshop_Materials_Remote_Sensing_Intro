{
 "cells": [
  {
   "cell_type": "markdown",
   "metadata": {},
   "source": [
    "# 00 - Pre-Workshop Notebook\n",
    "This notebook is designed for two reasons:\n",
    "1. To make ensure your environment works. \n",
    "2. As a brief refresher to basic Python concepts.\n",
    "\n",
    "Please click on the text in the cell below to activate it, then <u>**Hold Shift and Press Enter**</u> to run the cell (or click the \"▶️\" symbol that comes up on the left of the cell when it's active)."
   ]
  },
  {
   "cell_type": "markdown",
   "metadata": {},
   "source": [
    "# Google Colab only\n",
    "If you're running on Google Colab, this is the **wrong** notebook.\n",
    "\n",
    "Please have a look in the *\"notebooks_colab\"* folder instead."
   ]
  },
  {
   "cell_type": "code",
   "execution_count": null,
   "metadata": {},
   "outputs": [],
   "source": [
    "import numpy\n",
    "import numba\n",
    "import pandas\n",
    "import rioxarray\n",
    "import xarray\n",
    "\n",
    "for package in [numpy, numba, pandas, rioxarray, xarray]:\n",
    "    print(f\"{package.__name__} version: {package.__version__}\")"
   ]
  },
  {
   "cell_type": "markdown",
   "metadata": {},
   "source": [
    "The output of this cell should looks something like this:\n",
    "```\n",
    "numpy version: 1.26.4\n",
    "numba version: 0.59.1\n",
    "pandas version: 2.2.2\n",
    "rioxarray version: 0.15.1\n",
    "xarray version: 2024.2.0\n",
    "```\n",
    "As long as the first two numbers match, there should not be any issues. Small differences in the second number should also be fine. Google Colab will likely have very different versions."
   ]
  }
 ],
 "metadata": {
  "kernelspec": {
   "display_name": "base",
   "language": "python",
   "name": "python3"
  },
  "language_info": {
   "codemirror_mode": {
    "name": "ipython",
    "version": 3
   },
   "file_extension": ".py",
   "mimetype": "text/x-python",
   "name": "python",
   "nbconvert_exporter": "python",
   "pygments_lexer": "ipython3",
   "version": "3.1.-1"
  }
 },
 "nbformat": 4,
 "nbformat_minor": 2
}
