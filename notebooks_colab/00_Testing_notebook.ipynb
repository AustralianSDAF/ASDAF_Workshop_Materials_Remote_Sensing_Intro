{
  "cells": [
    {
      "cell_type": "markdown",
      "metadata": {
        "id": "KGWalXB0HNmj"
      },
      "source": [
        "# 00 - Pre-Workshop Ntebook\n",
        "This notebook is designed for two reasons:\n",
        " - To make sure your enviornment works.\n",
        " - As a breif refresher to basic Python concepts.\n",
        " Please click on the text in the cell below to activate it, then <u>**hold shift and press enter**</u> to run the cell (or click the \"▶️\" symbol that comes up on the left of the cell when it's active)"
      ]
    },
    {
      "cell_type": "markdown",
      "metadata": {
        "id": "vg-QKV2JHNmr"
      },
      "source": [
        "# Google Colab only\n",
        "If you're running on google colab, the below two cells are for you!  \n",
        "If you're not, it will just give you an error, which is expected and fine"
      ]
    },
    {
      "cell_type": "markdown",
      "metadata": {
        "id": "zWkmI6psHNmt"
      },
      "source": [
        "---\n",
        "\n",
        "On Google Collab, the first cell will 'mount' your Google Drive storage folder to the directory on the cloud machine \"/content/drive\" into a folder called \"MyDrive\"  \n",
        "The next cell runs the unix command `ls`, \"List directory contents\", on your MyDrive folder, which should list anything you have in your Google Drive"
      ]
    },
    {
      "cell_type": "code",
      "execution_count": 5,
      "metadata": {
        "colab": {
          "base_uri": "https://localhost:8080/"
        },
        "id": "c8lXMGdbHNms",
        "outputId": "59cce354-941f-421b-8309-4ebabaf723dc"
      },
      "outputs": [
        {
          "output_type": "stream",
          "name": "stdout",
          "text": [
            "Drive already mounted at /content/drive; to attempt to forcibly remount, call drive.mount(\"/content/drive\", force_remount=True).\n"
          ]
        }
      ],
      "source": [
        "from google.colab import drive\n",
        "google_dir = '/content/drive'\n",
        "drive.mount(google_dir)"
      ]
    },
    {
      "cell_type": "code",
      "execution_count": 3,
      "metadata": {
        "colab": {
          "base_uri": "https://localhost:8080/"
        },
        "id": "BZ5X6MSQHNms",
        "outputId": "d379a4b2-9081-4a68-ee21-5da6b7da9388"
      },
      "outputs": [
        {
          "output_type": "stream",
          "name": "stdout",
          "text": [
            " asdaf\n",
            " ASDAF_BMT_UHI_JIRA_New_Project_Questionnaire.xlsx\n",
            " chl_7_bin_1_stride_4fps.mkv\n",
            " Chlor_a_Weekly_2018_1440p.mp4\n",
            " CHL_Weekly_2018_1440p.mp4\n",
            "'CIC Carpentries Collaborative Google Doc.gdoc'\n",
            " CIC_Carpentries_Python-master\n",
            "'CIC drop in session - Keegan.gdoc'\n",
            "'CIDS Computational Resources 2024-03-22.gslides'\n",
            "'Colab Notebooks'\n",
            " Corporate-Powerpoint-Template.pptx\n",
            " pipe3_20k.mp4\n",
            " Quick_meeting_slides_2021-05-09.pptx\n",
            "'RezBaz 22.gslides'\n",
            "'Show and Tell.pptx'\n",
            " slides\n",
            "'solo work'\n",
            "'S&T'\n",
            " UChl_abs_Weekly_2018_1440p.mp4\n",
            "'Untitled form.gform'\n",
            " WAT_Waste_City_of_canning_Project_Lessons_Learnt.xlsx\n",
            " WCCC_yolov4-unseen.mp4\n",
            " workshop_google\n"
          ]
        }
      ],
      "source": [
        "# Cells starting with \"!\" are not python, but system calls. On google colab, it is a calls the shell (i.e. it's unix based)\n",
        "!ls /content/drive/MyDrive/"
      ]
    },
    {
      "cell_type": "code",
      "source": [
        "import os\n",
        "workshop_folder = \"workshop_google\"\n",
        "workshop_path = os.path.join(google_dir, \"MyDrive\", workshop_folder)\n",
        "os.chdir(workshop_path)\n",
        "os.listdir()"
      ],
      "metadata": {
        "colab": {
          "base_uri": "https://localhost:8080/"
        },
        "id": "j9ToSm4THuo0",
        "outputId": "030505f7-5faf-4b4e-b5d1-3c1e455e799f"
      },
      "execution_count": 12,
      "outputs": [
        {
          "output_type": "execute_result",
          "data": {
            "text/plain": [
              "['.gitignore',\n",
              " 'README.md',\n",
              " 'LICENSE',\n",
              " 'environment.yml',\n",
              " 'data',\n",
              " 'notebook_pictures',\n",
              " 'notebooks',\n",
              " 'google_requirements.txt']"
            ]
          },
          "metadata": {},
          "execution_count": 12
        }
      ]
    },
    {
      "cell_type": "code",
      "source": [
        "!pip install -r google_requirements.txt"
      ],
      "metadata": {
        "colab": {
          "base_uri": "https://localhost:8080/"
        },
        "id": "d2IQTAl8IYwQ",
        "outputId": "d565cbc1-1d7d-484b-e928-116ad3106b14"
      },
      "execution_count": 13,
      "outputs": [
        {
          "output_type": "stream",
          "name": "stdout",
          "text": [
            "Collecting eodag (from -r google_requirements.txt (line 1))\n",
            "  Downloading eodag-2.12.1-py3-none-any.whl (623 kB)\n",
            "\u001b[?25l     \u001b[90m━━━━━━━━━━━━━━━━━━━━━━━━━━━━━━━━━━━━━━━━\u001b[0m \u001b[32m0.0/623.2 kB\u001b[0m \u001b[31m?\u001b[0m eta \u001b[36m-:--:--\u001b[0m\r\u001b[2K     \u001b[91m━━━\u001b[0m\u001b[91m╸\u001b[0m\u001b[90m━━━━━━━━━━━━━━━━━━━━━━━━━━━━━━━━━━━━\u001b[0m \u001b[32m61.4/623.2 kB\u001b[0m \u001b[31m1.6 MB/s\u001b[0m eta \u001b[36m0:00:01\u001b[0m\r\u001b[2K     \u001b[91m━━━━━━━━━━━━━━━━━━━━━━━━━━━━━━━━━━━━━━━\u001b[0m\u001b[90m╺\u001b[0m \u001b[32m614.4/623.2 kB\u001b[0m \u001b[31m8.9 MB/s\u001b[0m eta \u001b[36m0:00:01\u001b[0m\r\u001b[2K     \u001b[90m━━━━━━━━━━━━━━━━━━━━━━━━━━━━━━━━━━━━━━━━\u001b[0m \u001b[32m623.2/623.2 kB\u001b[0m \u001b[31m7.2 MB/s\u001b[0m eta \u001b[36m0:00:00\u001b[0m\n",
            "\u001b[?25hRequirement already satisfied: folium in /usr/local/lib/python3.10/dist-packages (from -r google_requirements.txt (line 2)) (0.14.0)\n",
            "Collecting rioxarray (from -r google_requirements.txt (line 3))\n",
            "  Downloading rioxarray-0.15.5-py3-none-any.whl (60 kB)\n",
            "\u001b[2K     \u001b[90m━━━━━━━━━━━━━━━━━━━━━━━━━━━━━━━━━━━━━━━━\u001b[0m \u001b[32m60.5/60.5 kB\u001b[0m \u001b[31m4.3 MB/s\u001b[0m eta \u001b[36m0:00:00\u001b[0m\n",
            "\u001b[?25hRequirement already satisfied: geopandas in /usr/local/lib/python3.10/dist-packages (from -r google_requirements.txt (line 4)) (0.13.2)\n",
            "Collecting earthpy (from -r google_requirements.txt (line 5))\n",
            "  Downloading earthpy-0.9.4-py3-none-any.whl (1.4 MB)\n",
            "\u001b[2K     \u001b[90m━━━━━━━━━━━━━━━━━━━━━━━━━━━━━━━━━━━━━━━━\u001b[0m \u001b[32m1.4/1.4 MB\u001b[0m \u001b[31m39.8 MB/s\u001b[0m eta \u001b[36m0:00:00\u001b[0m\n",
            "\u001b[?25hRequirement already satisfied: numba in /usr/local/lib/python3.10/dist-packages (from -r google_requirements.txt (line 6)) (0.58.1)\n",
            "Requirement already satisfied: numpy in /usr/local/lib/python3.10/dist-packages (from -r google_requirements.txt (line 7)) (1.25.2)\n",
            "Requirement already satisfied: pandas in /usr/local/lib/python3.10/dist-packages (from -r google_requirements.txt (line 8)) (2.0.3)\n",
            "Requirement already satisfied: matplotlib in /usr/local/lib/python3.10/dist-packages (from -r google_requirements.txt (line 9)) (3.7.1)\n",
            "Requirement already satisfied: xarray in /usr/local/lib/python3.10/dist-packages (from -r google_requirements.txt (line 10)) (2023.7.0)\n",
            "Requirement already satisfied: tqdm in /usr/local/lib/python3.10/dist-packages (from -r google_requirements.txt (line 11)) (4.66.4)\n",
            "Requirement already satisfied: click in /usr/local/lib/python3.10/dist-packages (from eodag->-r google_requirements.txt (line 1)) (8.1.7)\n",
            "Requirement already satisfied: requests in /usr/local/lib/python3.10/dist-packages (from eodag->-r google_requirements.txt (line 1)) (2.31.0)\n",
            "Requirement already satisfied: urllib3 in /usr/local/lib/python3.10/dist-packages (from eodag->-r google_requirements.txt (line 1)) (2.0.7)\n",
            "Requirement already satisfied: python-dateutil in /usr/local/lib/python3.10/dist-packages (from eodag->-r google_requirements.txt (line 1)) (2.8.2)\n",
            "Requirement already satisfied: PyYAML in /usr/local/lib/python3.10/dist-packages (from eodag->-r google_requirements.txt (line 1)) (6.0.1)\n",
            "Requirement already satisfied: shapely in /usr/local/lib/python3.10/dist-packages (from eodag->-r google_requirements.txt (line 1)) (2.0.4)\n",
            "Requirement already satisfied: pyshp in /usr/local/lib/python3.10/dist-packages (from eodag->-r google_requirements.txt (line 1)) (2.3.1)\n",
            "Collecting OWSLib>=0.27.1 (from eodag->-r google_requirements.txt (line 1))\n",
            "  Downloading OWSLib-0.31.0-py2.py3-none-any.whl (233 kB)\n",
            "\u001b[2K     \u001b[90m━━━━━━━━━━━━━━━━━━━━━━━━━━━━━━━━━━━━━━━━\u001b[0m \u001b[32m233.1/233.1 kB\u001b[0m \u001b[31m20.0 MB/s\u001b[0m eta \u001b[36m0:00:00\u001b[0m\n",
            "\u001b[?25hCollecting orjson (from eodag->-r google_requirements.txt (line 1))\n",
            "  Downloading orjson-3.10.4-cp310-cp310-manylinux_2_17_x86_64.manylinux2014_x86_64.whl (142 kB)\n",
            "\u001b[2K     \u001b[90m━━━━━━━━━━━━━━━━━━━━━━━━━━━━━━━━━━━━━━━━\u001b[0m \u001b[32m142.7/142.7 kB\u001b[0m \u001b[31m14.5 MB/s\u001b[0m eta \u001b[36m0:00:00\u001b[0m\n",
            "\u001b[?25hCollecting geojson (from eodag->-r google_requirements.txt (line 1))\n",
            "  Downloading geojson-3.1.0-py3-none-any.whl (15 kB)\n",
            "Requirement already satisfied: pyproj>=2.1.0 in /usr/local/lib/python3.10/dist-packages (from eodag->-r google_requirements.txt (line 1)) (3.6.1)\n",
            "Collecting usgs>=0.3.1 (from eodag->-r google_requirements.txt (line 1))\n",
            "  Downloading usgs-0.3.5.tar.gz (206 kB)\n",
            "\u001b[2K     \u001b[90m━━━━━━━━━━━━━━━━━━━━━━━━━━━━━━━━━━━━━━━━\u001b[0m \u001b[32m206.4/206.4 kB\u001b[0m \u001b[31m15.1 MB/s\u001b[0m eta \u001b[36m0:00:00\u001b[0m\n",
            "\u001b[?25h  Preparing metadata (setup.py) ... \u001b[?25l\u001b[?25hdone\n",
            "Collecting boto3 (from eodag->-r google_requirements.txt (line 1))\n",
            "  Downloading boto3-1.34.125-py3-none-any.whl (139 kB)\n",
            "\u001b[2K     \u001b[90m━━━━━━━━━━━━━━━━━━━━━━━━━━━━━━━━━━━━━━━━\u001b[0m \u001b[32m139.2/139.2 kB\u001b[0m \u001b[31m16.1 MB/s\u001b[0m eta \u001b[36m0:00:00\u001b[0m\n",
            "\u001b[?25hCollecting botocore (from eodag->-r google_requirements.txt (line 1))\n",
            "  Downloading botocore-1.34.125-py3-none-any.whl (12.3 MB)\n",
            "\u001b[2K     \u001b[90m━━━━━━━━━━━━━━━━━━━━━━━━━━━━━━━━━━━━━━━━\u001b[0m \u001b[32m12.3/12.3 MB\u001b[0m \u001b[31m36.4 MB/s\u001b[0m eta \u001b[36m0:00:00\u001b[0m\n",
            "\u001b[?25hCollecting fastapi>=0.93.0 (from eodag->-r google_requirements.txt (line 1))\n",
            "  Downloading fastapi-0.111.0-py3-none-any.whl (91 kB)\n",
            "\u001b[2K     \u001b[90m━━━━━━━━━━━━━━━━━━━━━━━━━━━━━━━━━━━━━━━━\u001b[0m \u001b[32m92.0/92.0 kB\u001b[0m \u001b[31m11.0 MB/s\u001b[0m eta \u001b[36m0:00:00\u001b[0m\n",
            "\u001b[?25hCollecting starlette (from eodag->-r google_requirements.txt (line 1))\n",
            "  Downloading starlette-0.37.2-py3-none-any.whl (71 kB)\n",
            "\u001b[2K     \u001b[90m━━━━━━━━━━━━━━━━━━━━━━━━━━━━━━━━━━━━━━━━\u001b[0m \u001b[32m71.9/71.9 kB\u001b[0m \u001b[31m8.0 MB/s\u001b[0m eta \u001b[36m0:00:00\u001b[0m\n",
            "\u001b[?25hCollecting uvicorn (from eodag->-r google_requirements.txt (line 1))\n",
            "  Downloading uvicorn-0.30.1-py3-none-any.whl (62 kB)\n",
            "\u001b[2K     \u001b[90m━━━━━━━━━━━━━━━━━━━━━━━━━━━━━━━━━━━━━━━━\u001b[0m \u001b[32m62.4/62.4 kB\u001b[0m \u001b[31m8.1 MB/s\u001b[0m eta \u001b[36m0:00:00\u001b[0m\n",
            "\u001b[?25hCollecting jsonpath-ng<1.6.0 (from eodag->-r google_requirements.txt (line 1))\n",
            "  Downloading jsonpath_ng-1.5.3-py3-none-any.whl (29 kB)\n",
            "Requirement already satisfied: lxml in /usr/local/lib/python3.10/dist-packages (from eodag->-r google_requirements.txt (line 1)) (4.9.4)\n",
            "Collecting Whoosh (from eodag->-r google_requirements.txt (line 1))\n",
            "  Downloading Whoosh-2.7.4-py2.py3-none-any.whl (468 kB)\n",
            "\u001b[2K     \u001b[90m━━━━━━━━━━━━━━━━━━━━━━━━━━━━━━━━━━━━━━━━\u001b[0m \u001b[32m468.8/468.8 kB\u001b[0m \u001b[31m28.4 MB/s\u001b[0m eta \u001b[36m0:00:00\u001b[0m\n",
            "\u001b[?25hCollecting pystac>=1.0.0b1 (from eodag->-r google_requirements.txt (line 1))\n",
            "  Downloading pystac-1.10.1-py3-none-any.whl (182 kB)\n",
            "\u001b[2K     \u001b[90m━━━━━━━━━━━━━━━━━━━━━━━━━━━━━━━━━━━━━━━━\u001b[0m \u001b[32m182.9/182.9 kB\u001b[0m \u001b[31m19.8 MB/s\u001b[0m eta \u001b[36m0:00:00\u001b[0m\n",
            "\u001b[?25hCollecting ecmwf-api-client (from eodag->-r google_requirements.txt (line 1))\n",
            "  Downloading ecmwf-api-client-1.6.3.tar.gz (12 kB)\n",
            "  Preparing metadata (setup.py) ... \u001b[?25l\u001b[?25hdone\n",
            "Collecting cdsapi (from eodag->-r google_requirements.txt (line 1))\n",
            "  Downloading cdsapi-0.7.0-py2.py3-none-any.whl (12 kB)\n",
            "Collecting stream-zip (from eodag->-r google_requirements.txt (line 1))\n",
            "  Downloading stream_zip-0.0.81-py3-none-any.whl (9.7 kB)\n",
            "Collecting requests-ftp (from eodag->-r google_requirements.txt (line 1))\n",
            "  Downloading requests-ftp-0.3.1.tar.gz (7.8 kB)\n",
            "  Preparing metadata (setup.py) ... \u001b[?25l\u001b[?25hdone\n",
            "Requirement already satisfied: pydantic>=2.1.0 in /usr/local/lib/python3.10/dist-packages (from eodag->-r google_requirements.txt (line 1)) (2.7.3)\n",
            "Requirement already satisfied: typing-extensions in /usr/local/lib/python3.10/dist-packages (from eodag->-r google_requirements.txt (line 1)) (4.12.2)\n",
            "Requirement already satisfied: annotated-types in /usr/local/lib/python3.10/dist-packages (from eodag->-r google_requirements.txt (line 1)) (0.7.0)\n",
            "Requirement already satisfied: setuptools in /usr/local/lib/python3.10/dist-packages (from eodag->-r google_requirements.txt (line 1)) (67.7.2)\n",
            "Requirement already satisfied: branca>=0.6.0 in /usr/local/lib/python3.10/dist-packages (from folium->-r google_requirements.txt (line 2)) (0.7.2)\n",
            "Requirement already satisfied: jinja2>=2.9 in /usr/local/lib/python3.10/dist-packages (from folium->-r google_requirements.txt (line 2)) (3.1.4)\n",
            "Requirement already satisfied: packaging in /usr/local/lib/python3.10/dist-packages (from rioxarray->-r google_requirements.txt (line 3)) (24.1)\n",
            "Collecting rasterio>=1.3 (from rioxarray->-r google_requirements.txt (line 3))\n",
            "  Downloading rasterio-1.3.10-cp310-cp310-manylinux2014_x86_64.whl (21.5 MB)\n",
            "\u001b[2K     \u001b[90m━━━━━━━━━━━━━━━━━━━━━━━━━━━━━━━━━━━━━━━━\u001b[0m \u001b[32m21.5/21.5 MB\u001b[0m \u001b[31m25.3 MB/s\u001b[0m eta \u001b[36m0:00:00\u001b[0m\n",
            "\u001b[?25hRequirement already satisfied: fiona>=1.8.19 in /usr/local/lib/python3.10/dist-packages (from geopandas->-r google_requirements.txt (line 4)) (1.9.6)\n",
            "Requirement already satisfied: scikit-image in /usr/local/lib/python3.10/dist-packages (from earthpy->-r google_requirements.txt (line 5)) (0.19.3)\n",
            "Requirement already satisfied: llvmlite<0.42,>=0.41.0dev0 in /usr/local/lib/python3.10/dist-packages (from numba->-r google_requirements.txt (line 6)) (0.41.1)\n",
            "Requirement already satisfied: pytz>=2020.1 in /usr/local/lib/python3.10/dist-packages (from pandas->-r google_requirements.txt (line 8)) (2023.4)\n",
            "Requirement already satisfied: tzdata>=2022.1 in /usr/local/lib/python3.10/dist-packages (from pandas->-r google_requirements.txt (line 8)) (2024.1)\n",
            "Requirement already satisfied: contourpy>=1.0.1 in /usr/local/lib/python3.10/dist-packages (from matplotlib->-r google_requirements.txt (line 9)) (1.2.1)\n",
            "Requirement already satisfied: cycler>=0.10 in /usr/local/lib/python3.10/dist-packages (from matplotlib->-r google_requirements.txt (line 9)) (0.12.1)\n",
            "Requirement already satisfied: fonttools>=4.22.0 in /usr/local/lib/python3.10/dist-packages (from matplotlib->-r google_requirements.txt (line 9)) (4.53.0)\n",
            "Requirement already satisfied: kiwisolver>=1.0.1 in /usr/local/lib/python3.10/dist-packages (from matplotlib->-r google_requirements.txt (line 9)) (1.4.5)\n",
            "Requirement already satisfied: pillow>=6.2.0 in /usr/local/lib/python3.10/dist-packages (from matplotlib->-r google_requirements.txt (line 9)) (9.4.0)\n",
            "Requirement already satisfied: pyparsing>=2.3.1 in /usr/local/lib/python3.10/dist-packages (from matplotlib->-r google_requirements.txt (line 9)) (3.1.2)\n",
            "Collecting fastapi-cli>=0.0.2 (from fastapi>=0.93.0->eodag->-r google_requirements.txt (line 1))\n",
            "  Downloading fastapi_cli-0.0.4-py3-none-any.whl (9.5 kB)\n",
            "Collecting httpx>=0.23.0 (from fastapi>=0.93.0->eodag->-r google_requirements.txt (line 1))\n",
            "  Downloading httpx-0.27.0-py3-none-any.whl (75 kB)\n",
            "\u001b[2K     \u001b[90m━━━━━━━━━━━━━━━━━━━━━━━━━━━━━━━━━━━━━━━━\u001b[0m \u001b[32m75.6/75.6 kB\u001b[0m \u001b[31m9.1 MB/s\u001b[0m eta \u001b[36m0:00:00\u001b[0m\n",
            "\u001b[?25hCollecting python-multipart>=0.0.7 (from fastapi>=0.93.0->eodag->-r google_requirements.txt (line 1))\n",
            "  Downloading python_multipart-0.0.9-py3-none-any.whl (22 kB)\n",
            "Collecting ujson!=4.0.2,!=4.1.0,!=4.2.0,!=4.3.0,!=5.0.0,!=5.1.0,>=4.0.1 (from fastapi>=0.93.0->eodag->-r google_requirements.txt (line 1))\n",
            "  Downloading ujson-5.10.0-cp310-cp310-manylinux_2_17_x86_64.manylinux2014_x86_64.whl (53 kB)\n",
            "\u001b[2K     \u001b[90m━━━━━━━━━━━━━━━━━━━━━━━━━━━━━━━━━━━━━━━━\u001b[0m \u001b[32m53.6/53.6 kB\u001b[0m \u001b[31m7.2 MB/s\u001b[0m eta \u001b[36m0:00:00\u001b[0m\n",
            "\u001b[?25hCollecting email_validator>=2.0.0 (from fastapi>=0.93.0->eodag->-r google_requirements.txt (line 1))\n",
            "  Downloading email_validator-2.1.1-py3-none-any.whl (30 kB)\n",
            "Requirement already satisfied: attrs>=19.2.0 in /usr/local/lib/python3.10/dist-packages (from fiona>=1.8.19->geopandas->-r google_requirements.txt (line 4)) (23.2.0)\n",
            "Requirement already satisfied: certifi in /usr/local/lib/python3.10/dist-packages (from fiona>=1.8.19->geopandas->-r google_requirements.txt (line 4)) (2024.6.2)\n",
            "Requirement already satisfied: click-plugins>=1.0 in /usr/local/lib/python3.10/dist-packages (from fiona>=1.8.19->geopandas->-r google_requirements.txt (line 4)) (1.1.1)\n",
            "Requirement already satisfied: cligj>=0.5 in /usr/local/lib/python3.10/dist-packages (from fiona>=1.8.19->geopandas->-r google_requirements.txt (line 4)) (0.7.2)\n",
            "Requirement already satisfied: six in /usr/local/lib/python3.10/dist-packages (from fiona>=1.8.19->geopandas->-r google_requirements.txt (line 4)) (1.16.0)\n",
            "Requirement already satisfied: MarkupSafe>=2.0 in /usr/local/lib/python3.10/dist-packages (from jinja2>=2.9->folium->-r google_requirements.txt (line 2)) (2.1.5)\n",
            "Collecting ply (from jsonpath-ng<1.6.0->eodag->-r google_requirements.txt (line 1))\n",
            "  Downloading ply-3.11-py2.py3-none-any.whl (49 kB)\n",
            "\u001b[2K     \u001b[90m━━━━━━━━━━━━━━━━━━━━━━━━━━━━━━━━━━━━━━━━\u001b[0m \u001b[32m49.6/49.6 kB\u001b[0m \u001b[31m6.1 MB/s\u001b[0m eta \u001b[36m0:00:00\u001b[0m\n",
            "\u001b[?25hRequirement already satisfied: decorator in /usr/local/lib/python3.10/dist-packages (from jsonpath-ng<1.6.0->eodag->-r google_requirements.txt (line 1)) (4.4.2)\n",
            "Requirement already satisfied: pydantic-core==2.18.4 in /usr/local/lib/python3.10/dist-packages (from pydantic>=2.1.0->eodag->-r google_requirements.txt (line 1)) (2.18.4)\n",
            "Collecting affine (from rasterio>=1.3->rioxarray->-r google_requirements.txt (line 3))\n",
            "  Downloading affine-2.4.0-py3-none-any.whl (15 kB)\n",
            "Collecting snuggs>=1.4.1 (from rasterio>=1.3->rioxarray->-r google_requirements.txt (line 3))\n",
            "  Downloading snuggs-1.4.7-py3-none-any.whl (5.4 kB)\n",
            "Requirement already satisfied: charset-normalizer<4,>=2 in /usr/local/lib/python3.10/dist-packages (from requests->eodag->-r google_requirements.txt (line 1)) (3.3.2)\n",
            "Requirement already satisfied: idna<4,>=2.5 in /usr/local/lib/python3.10/dist-packages (from requests->eodag->-r google_requirements.txt (line 1)) (3.7)\n",
            "Requirement already satisfied: anyio<5,>=3.4.0 in /usr/local/lib/python3.10/dist-packages (from starlette->eodag->-r google_requirements.txt (line 1)) (3.7.1)\n",
            "Collecting requests_futures>=0.9.5 (from usgs>=0.3.1->eodag->-r google_requirements.txt (line 1))\n",
            "  Downloading requests_futures-1.0.1-py2.py3-none-any.whl (7.6 kB)\n",
            "Collecting jmespath<2.0.0,>=0.7.1 (from boto3->eodag->-r google_requirements.txt (line 1))\n",
            "  Downloading jmespath-1.0.1-py3-none-any.whl (20 kB)\n",
            "Collecting s3transfer<0.11.0,>=0.10.0 (from boto3->eodag->-r google_requirements.txt (line 1))\n",
            "  Downloading s3transfer-0.10.1-py3-none-any.whl (82 kB)\n",
            "\u001b[2K     \u001b[90m━━━━━━━━━━━━━━━━━━━━━━━━━━━━━━━━━━━━━━━━\u001b[0m \u001b[32m82.2/82.2 kB\u001b[0m \u001b[31m10.4 MB/s\u001b[0m eta \u001b[36m0:00:00\u001b[0m\n",
            "\u001b[?25hCollecting cads-api-client>=0.9.2 (from cdsapi->eodag->-r google_requirements.txt (line 1))\n",
            "  Downloading cads_api_client-1.0.3-py3-none-any.whl (20 kB)\n",
            "Requirement already satisfied: scipy>=1.4.1 in /usr/local/lib/python3.10/dist-packages (from scikit-image->earthpy->-r google_requirements.txt (line 5)) (1.11.4)\n",
            "Requirement already satisfied: networkx>=2.2 in /usr/local/lib/python3.10/dist-packages (from scikit-image->earthpy->-r google_requirements.txt (line 5)) (3.3)\n",
            "Requirement already satisfied: imageio>=2.4.1 in /usr/local/lib/python3.10/dist-packages (from scikit-image->earthpy->-r google_requirements.txt (line 5)) (2.31.6)\n",
            "Requirement already satisfied: tifffile>=2019.7.26 in /usr/local/lib/python3.10/dist-packages (from scikit-image->earthpy->-r google_requirements.txt (line 5)) (2024.5.22)\n",
            "Requirement already satisfied: PyWavelets>=1.1.1 in /usr/local/lib/python3.10/dist-packages (from scikit-image->earthpy->-r google_requirements.txt (line 5)) (1.6.0)\n",
            "Collecting pycryptodome>=3.10.1 (from stream-zip->eodag->-r google_requirements.txt (line 1))\n",
            "  Downloading pycryptodome-3.20.0-cp35-abi3-manylinux_2_17_x86_64.manylinux2014_x86_64.whl (2.1 MB)\n",
            "\u001b[2K     \u001b[90m━━━━━━━━━━━━━━━━━━━━━━━━━━━━━━━━━━━━━━━━\u001b[0m \u001b[32m2.1/2.1 MB\u001b[0m \u001b[31m54.8 MB/s\u001b[0m eta \u001b[36m0:00:00\u001b[0m\n",
            "\u001b[?25hCollecting h11>=0.8 (from uvicorn->eodag->-r google_requirements.txt (line 1))\n",
            "  Downloading h11-0.14.0-py3-none-any.whl (58 kB)\n",
            "\u001b[2K     \u001b[90m━━━━━━━━━━━━━━━━━━━━━━━━━━━━━━━━━━━━━━━━\u001b[0m \u001b[32m58.3/58.3 kB\u001b[0m \u001b[31m7.0 MB/s\u001b[0m eta \u001b[36m0:00:00\u001b[0m\n",
            "\u001b[?25hRequirement already satisfied: sniffio>=1.1 in /usr/local/lib/python3.10/dist-packages (from anyio<5,>=3.4.0->starlette->eodag->-r google_requirements.txt (line 1)) (1.3.1)\n",
            "Requirement already satisfied: exceptiongroup in /usr/local/lib/python3.10/dist-packages (from anyio<5,>=3.4.0->starlette->eodag->-r google_requirements.txt (line 1)) (1.2.1)\n",
            "Collecting multiurl (from cads-api-client>=0.9.2->cdsapi->eodag->-r google_requirements.txt (line 1))\n",
            "  Downloading multiurl-0.3.1.tar.gz (18 kB)\n",
            "  Preparing metadata (setup.py) ... \u001b[?25l\u001b[?25hdone\n",
            "Collecting dnspython>=2.0.0 (from email_validator>=2.0.0->fastapi>=0.93.0->eodag->-r google_requirements.txt (line 1))\n",
            "  Downloading dnspython-2.6.1-py3-none-any.whl (307 kB)\n",
            "\u001b[2K     \u001b[90m━━━━━━━━━━━━━━━━━━━━━━━━━━━━━━━━━━━━━━━━\u001b[0m \u001b[32m307.7/307.7 kB\u001b[0m \u001b[31m23.7 MB/s\u001b[0m eta \u001b[36m0:00:00\u001b[0m\n",
            "\u001b[?25hRequirement already satisfied: typer>=0.12.3 in /usr/local/lib/python3.10/dist-packages (from fastapi-cli>=0.0.2->fastapi>=0.93.0->eodag->-r google_requirements.txt (line 1)) (0.12.3)\n",
            "Collecting httpcore==1.* (from httpx>=0.23.0->fastapi>=0.93.0->eodag->-r google_requirements.txt (line 1))\n",
            "  Downloading httpcore-1.0.5-py3-none-any.whl (77 kB)\n",
            "\u001b[2K     \u001b[90m━━━━━━━━━━━━━━━━━━━━━━━━━━━━━━━━━━━━━━━━\u001b[0m \u001b[32m77.9/77.9 kB\u001b[0m \u001b[31m9.3 MB/s\u001b[0m eta \u001b[36m0:00:00\u001b[0m\n",
            "\u001b[?25hCollecting httptools>=0.5.0 (from uvicorn->eodag->-r google_requirements.txt (line 1))\n",
            "  Downloading httptools-0.6.1-cp310-cp310-manylinux_2_5_x86_64.manylinux1_x86_64.manylinux_2_17_x86_64.manylinux2014_x86_64.whl (341 kB)\n",
            "\u001b[2K     \u001b[90m━━━━━━━━━━━━━━━━━━━━━━━━━━━━━━━━━━━━━━━━\u001b[0m \u001b[32m341.4/341.4 kB\u001b[0m \u001b[31m31.7 MB/s\u001b[0m eta \u001b[36m0:00:00\u001b[0m\n",
            "\u001b[?25hCollecting python-dotenv>=0.13 (from uvicorn->eodag->-r google_requirements.txt (line 1))\n",
            "  Downloading python_dotenv-1.0.1-py3-none-any.whl (19 kB)\n",
            "Collecting uvloop!=0.15.0,!=0.15.1,>=0.14.0 (from uvicorn->eodag->-r google_requirements.txt (line 1))\n",
            "  Downloading uvloop-0.19.0-cp310-cp310-manylinux_2_17_x86_64.manylinux2014_x86_64.whl (3.4 MB)\n",
            "\u001b[2K     \u001b[90m━━━━━━━━━━━━━━━━━━━━━━━━━━━━━━━━━━━━━━━━\u001b[0m \u001b[32m3.4/3.4 MB\u001b[0m \u001b[31m45.9 MB/s\u001b[0m eta \u001b[36m0:00:00\u001b[0m\n",
            "\u001b[?25hCollecting watchfiles>=0.13 (from uvicorn->eodag->-r google_requirements.txt (line 1))\n",
            "  Downloading watchfiles-0.22.0-cp310-cp310-manylinux_2_17_x86_64.manylinux2014_x86_64.whl (1.2 MB)\n",
            "\u001b[2K     \u001b[90m━━━━━━━━━━━━━━━━━━━━━━━━━━━━━━━━━━━━━━━━\u001b[0m \u001b[32m1.2/1.2 MB\u001b[0m \u001b[31m53.2 MB/s\u001b[0m eta \u001b[36m0:00:00\u001b[0m\n",
            "\u001b[?25hCollecting websockets>=10.4 (from uvicorn->eodag->-r google_requirements.txt (line 1))\n",
            "  Downloading websockets-12.0-cp310-cp310-manylinux_2_5_x86_64.manylinux1_x86_64.manylinux_2_17_x86_64.manylinux2014_x86_64.whl (130 kB)\n",
            "\u001b[2K     \u001b[90m━━━━━━━━━━━━━━━━━━━━━━━━━━━━━━━━━━━━━━━━\u001b[0m \u001b[32m130.2/130.2 kB\u001b[0m \u001b[31m10.2 MB/s\u001b[0m eta \u001b[36m0:00:00\u001b[0m\n",
            "\u001b[?25hRequirement already satisfied: shellingham>=1.3.0 in /usr/local/lib/python3.10/dist-packages (from typer>=0.12.3->fastapi-cli>=0.0.2->fastapi>=0.93.0->eodag->-r google_requirements.txt (line 1)) (1.5.4)\n",
            "Requirement already satisfied: rich>=10.11.0 in /usr/local/lib/python3.10/dist-packages (from typer>=0.12.3->fastapi-cli>=0.0.2->fastapi>=0.93.0->eodag->-r google_requirements.txt (line 1)) (13.7.1)\n",
            "Requirement already satisfied: markdown-it-py>=2.2.0 in /usr/local/lib/python3.10/dist-packages (from rich>=10.11.0->typer>=0.12.3->fastapi-cli>=0.0.2->fastapi>=0.93.0->eodag->-r google_requirements.txt (line 1)) (3.0.0)\n",
            "Requirement already satisfied: pygments<3.0.0,>=2.13.0 in /usr/local/lib/python3.10/dist-packages (from rich>=10.11.0->typer>=0.12.3->fastapi-cli>=0.0.2->fastapi>=0.93.0->eodag->-r google_requirements.txt (line 1)) (2.16.1)\n",
            "Requirement already satisfied: mdurl~=0.1 in /usr/local/lib/python3.10/dist-packages (from markdown-it-py>=2.2.0->rich>=10.11.0->typer>=0.12.3->fastapi-cli>=0.0.2->fastapi>=0.93.0->eodag->-r google_requirements.txt (line 1)) (0.1.2)\n",
            "Building wheels for collected packages: usgs, ecmwf-api-client, requests-ftp, multiurl\n",
            "  Building wheel for usgs (setup.py) ... \u001b[?25l\u001b[?25hdone\n",
            "  Created wheel for usgs: filename=usgs-0.3.5-py3-none-any.whl size=15206 sha256=5d955f212e345211d20bd905a7c70e73cbd4630cd3efaacf357c7e3341ccc317\n",
            "  Stored in directory: /root/.cache/pip/wheels/e8/41/ad/8358813cf6fa1b65f956bbbdfa108d9b44cf9e6419557a010c\n",
            "  Building wheel for ecmwf-api-client (setup.py) ... \u001b[?25l\u001b[?25hdone\n",
            "  Created wheel for ecmwf-api-client: filename=ecmwf_api_client-1.6.3-py3-none-any.whl size=13515 sha256=38c2dcf547cc9f7293fabbc111ed8cd880ea3a610b693a519457dca0a1c1e2c4\n",
            "  Stored in directory: /root/.cache/pip/wheels/16/64/8f/f0038cd123b884423739feea02cd13466b01ec8b08e5d1de93\n",
            "  Building wheel for requests-ftp (setup.py) ... \u001b[?25l\u001b[?25hdone\n",
            "  Created wheel for requests-ftp: filename=requests_ftp-0.3.1-py3-none-any.whl size=8164 sha256=2587681e8e3619684792a33a2d9929b9b453a165401da439cbdaef22eb626143\n",
            "  Stored in directory: /root/.cache/pip/wheels/3a/79/dc/f819d2c2e089c0d624dd14a08eccc74e3a7491469d328b72f1\n",
            "  Building wheel for multiurl (setup.py) ... \u001b[?25l\u001b[?25hdone\n",
            "  Created wheel for multiurl: filename=multiurl-0.3.1-py3-none-any.whl size=21131 sha256=3a2c9bd53006b65a38cc83e7222ae2194fc53ebd67f220baf7785caa23f84ca4\n",
            "  Stored in directory: /root/.cache/pip/wheels/9b/d9/5f/36a39fd10d15b5b2d362ad6dc8a1bd28a3b1e14e08357944bf\n",
            "Successfully built usgs ecmwf-api-client requests-ftp multiurl\n",
            "Installing collected packages: Whoosh, ply, ecmwf-api-client, websockets, uvloop, ujson, snuggs, python-multipart, python-dotenv, pycryptodome, orjson, jsonpath-ng, jmespath, httptools, h11, geojson, dnspython, affine, watchfiles, uvicorn, stream-zip, starlette, requests_futures, requests-ftp, rasterio, pystac, OWSLib, multiurl, httpcore, email_validator, botocore, usgs, s3transfer, httpx, cads-api-client, rioxarray, fastapi-cli, earthpy, cdsapi, boto3, fastapi, eodag\n",
            "Successfully installed OWSLib-0.31.0 Whoosh-2.7.4 affine-2.4.0 boto3-1.34.125 botocore-1.34.125 cads-api-client-1.0.3 cdsapi-0.7.0 dnspython-2.6.1 earthpy-0.9.4 ecmwf-api-client-1.6.3 email_validator-2.1.1 eodag-2.12.1 fastapi-0.111.0 fastapi-cli-0.0.4 geojson-3.1.0 h11-0.14.0 httpcore-1.0.5 httptools-0.6.1 httpx-0.27.0 jmespath-1.0.1 jsonpath-ng-1.5.3 multiurl-0.3.1 orjson-3.10.4 ply-3.11 pycryptodome-3.20.0 pystac-1.10.1 python-dotenv-1.0.1 python-multipart-0.0.9 rasterio-1.3.10 requests-ftp-0.3.1 requests_futures-1.0.1 rioxarray-0.15.5 s3transfer-0.10.1 snuggs-1.4.7 starlette-0.37.2 stream-zip-0.0.81 ujson-5.10.0 usgs-0.3.5 uvicorn-0.30.1 uvloop-0.19.0 watchfiles-0.22.0 websockets-12.0\n"
          ]
        }
      ]
    },
    {
      "cell_type": "code",
      "source": [
        "import numpy\n",
        "import numba\n",
        "import pandas\n",
        "import rioxarray\n",
        "import xarray\n",
        "import folium\n",
        "import geopandas\n",
        "import eodag\n",
        "\n",
        "for package in [numpy, numba, pandas, rioxarray, xarray, folium, geopandas, eodag]:\n",
        "    print(f\"{package.__name__} version: {package.__version__}\")"
      ],
      "metadata": {
        "colab": {
          "base_uri": "https://localhost:8080/"
        },
        "id": "YLIhq9QlJ3NN",
        "outputId": "00658662-80c0-4102-a581-17de7b7bb4db"
      },
      "execution_count": 20,
      "outputs": [
        {
          "output_type": "stream",
          "name": "stdout",
          "text": [
            "numpy version: 1.25.2\n",
            "numba version: 0.58.1\n",
            "pandas version: 2.0.3\n",
            "rioxarray version: 0.15.5\n",
            "xarray version: 2023.7.0\n",
            "folium version: 0.14.0\n",
            "geopandas version: 0.13.2\n",
            "eodag version: 2.12.1\n"
          ]
        }
      ]
    },
    {
      "cell_type": "markdown",
      "metadata": {
        "id": "sMgQkCNEHNmp"
      },
      "source": [
        "The output of this cell should looks something like this:\n",
        "```\n",
        "numpy version: 1.26.4\n",
        "numba version: 0.59.1\n",
        "pandas version: 2.2.2\n",
        "rioxarray version: 0.15.1\n",
        "xarray version: 2024.2.0\n",
        "```\n",
        "As long as the first two numbers match, there shouldnt be any issues. Small differences in the second number should also be fine. Google colab will likely have very different versions"
      ]
    },
    {
      "cell_type": "code",
      "source": [],
      "metadata": {
        "id": "KgO9qTURJ34D"
      },
      "execution_count": null,
      "outputs": []
    },
    {
      "cell_type": "markdown",
      "metadata": {
        "id": "DiHtjAVRHNmu"
      },
      "source": []
    }
  ],
  "metadata": {
    "kernelspec": {
      "display_name": "base",
      "language": "python",
      "name": "python3"
    },
    "language_info": {
      "codemirror_mode": {
        "name": "ipython",
        "version": 3
      },
      "file_extension": ".py",
      "mimetype": "text/x-python",
      "name": "python",
      "nbconvert_exporter": "python",
      "pygments_lexer": "ipython3",
      "version": "3.11.9"
    },
    "colab": {
      "provenance": []
    }
  },
  "nbformat": 4,
  "nbformat_minor": 0
}