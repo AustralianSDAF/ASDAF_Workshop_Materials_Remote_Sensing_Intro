{
 "cells": [
  {
   "cell_type": "markdown",
   "metadata": {},
   "source": [
    "# Querying Satellite Data\n",
    "\n",
    "## ❓ Questions\n",
    "-  Where can I find open-access satellite data?\n",
    "-  How do I search for satellite imagery?\n",
    "-  How do I fetch remote raster datasets using Python?\n",
    "\n",
    "\n",
    "## ❗ Objectives\n",
    "-  Search public STAC repositories of satellite imagery using Python.\n",
    "-  Inspect a search result’s metadata.\n",
    "-  Download (a subset of) the assets available for a satellite scene.\n",
    "-  Open satellite imagery as raster data and save it to disk."
   ]
  },
  {
   "cell_type": "markdown",
   "metadata": {},
   "source": [
    "---\n",
    "\n",
    "# Introduction\n",
    "A number of satellites take snapshots of the Earth’s surface from space. The images recorded by these remote sensors represent a very precious data source for any activity that involves monitoring changes on Earth. \n",
    "\n",
    "Satellite imagery is typically provided in the form of geo-spatial raster data, with the measurements in each grid cell (“pixel”) being associated to accurate geographic coordinate information.\n",
    "\n",
    "In this lesson we will explore how to access open satellite data using Python. In particular, we will consider the Sentinel-2 data collections hosted at SARA and AWS. This dataset consists of multi-band optical images acquired by the two satellites of the Sentinel-2 mission and it is continuously updated with new images."
   ]
  },
  {
   "cell_type": "markdown",
   "metadata": {},
   "source": [
    "## API's\n",
    "An API is an Application Programming Interface.   \n",
    "\n",
    "It is a way of having one application talk (interface) with another application in a pre-defined way. For what we're doing, these will be using web addresses and JSON data, and will be handled by our library, `EODAG`.   \n",
    "\n",
    "We will:\n",
    "1. First initialise `EODAG`.\n",
    "2. Give it the information it needs.\n",
    "3. Ask it to send send the request.\n",
    "\n",
    "`EODAG` will:\n",
    "1. Receive the information.\n",
    "2. Interpret it for us.\n",
    "\n",
    "A useful resource will be the [EODAG documentation on searching](https://eodag.readthedocs.io/en/stable/notebooks/api_user_guide/4_search.html).\n"
   ]
  },
  {
   "cell_type": "markdown",
   "metadata": {},
   "source": [
    "# Authenticating"
   ]
  },
  {
   "cell_type": "code",
   "execution_count": null,
   "metadata": {},
   "outputs": [],
   "source": [
    "import os\n",
    "from getpass import getpass\n",
    "\n",
    "workspace = './workshop_data'\n",
    "os.environ[\"EODAG__SARA__AUTH__CREDENTIALS__USERNAME\"] = \"\"\n",
    "os.environ[\"EODAG__SARA__AUTH__CREDENTIALS__PASSWORD\"] = getpass(\"Enter Password\")\n",
    "os.environ[\"EODAG__SARA__DOWNLOAD__OUTPUTS_PREFIX\"] = os.path.abspath(workspace)"
   ]
  },
  {
   "cell_type": "markdown",
   "metadata": {},
   "source": [
    "# Initialising EODAG"
   ]
  },
  {
   "cell_type": "code",
   "execution_count": null,
   "metadata": {},
   "outputs": [],
   "source": [
    "from eodag import EODataAccessGateway\n",
    "from eodag import setup_logging\n",
    "setup_logging(2)\n",
    "\n",
    "dag = EODataAccessGateway()\n",
    "dag.set_preferred_provider(\"sara\")"
   ]
  },
  {
   "cell_type": "markdown",
   "metadata": {},
   "source": [
    "# Exploring EODAG"
   ]
  },
  {
   "cell_type": "code",
   "execution_count": null,
   "metadata": {},
   "outputs": [],
   "source": [
    "# List sara products\n",
    "dag.list_product_types(\"sara\")"
   ]
  },
  {
   "cell_type": "code",
   "execution_count": null,
   "metadata": {},
   "outputs": [],
   "source": [
    "# List available product types of S2 L2A (S2_MSI_L2A)\n",
    "dag.available_providers(\"S2_MSI_L2A\")"
   ]
  },
  {
   "cell_type": "markdown",
   "metadata": {},
   "source": [
    "## Search Criteria\n",
    "We're going to use an advanced feature of Python and set our search criteria out in advance with a dictionary."
   ]
  },
  {
   "cell_type": "code",
   "execution_count": null,
   "metadata": {},
   "outputs": [],
   "source": [
    "lonmin = 116.2\n",
    "lonmax = 116.5\n",
    "latmin = -31.5\n",
    "latmax = -32\n",
    "\n",
    "default_search_criteria = {\n",
    "    \"productType\": \"S2_MSI_L2A\",\n",
    "    \"start\": \"2023-08-24\",\n",
    "    \"end\": \"2023-08-26\",\n",
    "    \"geom\": {\"lonmin\": lonmin,  \"lonmax\": lonmax, \"latmin\": latmin, \"latmax\": latmax},\n",
    "    #\"cloudCover\": 15 # CC < 15\n",
    "}"
   ]
  },
  {
   "cell_type": "markdown",
   "metadata": {},
   "source": [
    "# Pagination - A common pitfall\n",
    "When doing a web-search, one does not get all two billion possible results sent to them. This would not only take a long time to be sent, but most of these would never be used. To alleviate this, most services (such as Google, Bing, X, Facebook etc.) use a technique called `pagination`. While you used to get about 10-20 results per page and had to click next page, now if as you scroll down a page, you look at the side bar, you will see it move up and get smaller now and again.   \n",
    "\n",
    "This is because your web-browser understands it's nearing the end of what's available, and sends a request to the website for more information. The website then sends the next 'page'.   \n",
    "\n",
    "The web-based API's we use will also send us a page at a time. Usually they can let us tell them how long a page should be, up to a maximum.    \n",
    "If you're an advanced user and care about latency, you may want to load a page at a time, in which case use the `dag.search()` function (refer to the documentation).  \n",
    "\n",
    "If you don't care, and just want all the results like we do, use the `dag.search_all()` function.\n"
   ]
  },
  {
   "cell_type": "code",
   "execution_count": null,
   "metadata": {},
   "outputs": [],
   "source": [
    "all_products = dag.search_all(**default_search_criteria) \n",
    "all_products"
   ]
  },
  {
   "cell_type": "markdown",
   "metadata": {},
   "source": [
    "## Exploring the results\n",
    "Let's open up the results and explore them!"
   ]
  },
  {
   "cell_type": "code",
   "execution_count": null,
   "metadata": {},
   "outputs": [],
   "source": [
    "product = all_products[0]\n",
    "product"
   ]
  },
  {
   "cell_type": "code",
   "execution_count": null,
   "metadata": {},
   "outputs": [],
   "source": [
    "# geometry, geometry.bounds, geometry exterio coords xy....\n",
    "all_products[0].geometry"
   ]
  },
  {
   "cell_type": "code",
   "execution_count": null,
   "metadata": {},
   "outputs": [],
   "source": [
    "# A few other key pieces of info\n",
    "product.provider, product.product_type, product.search_kwargs"
   ]
  },
  {
   "cell_type": "code",
   "execution_count": null,
   "metadata": {},
   "outputs": [],
   "source": [
    "# Use pretty print (pprint) to print out the properties\n",
    "from pprint import pprint\n",
    "\n",
    "pprint(product.properties)"
   ]
  },
  {
   "cell_type": "markdown",
   "metadata": {},
   "source": [
    "# Viewing thumbnails\n",
    "One of the product properties is the 'thumbnail'. These are smaller versions of the entire image you can use to quickly identify any issues, before downloading the product.\n",
    "\n",
    "Let's view these for each of the products. For this, we will use a library called `matplotlib`."
   ]
  },
  {
   "cell_type": "code",
   "execution_count": null,
   "metadata": {},
   "outputs": [],
   "source": [
    "import matplotlib.pyplot as plt\n",
    "import matplotlib.image as mpimg\n",
    "\n",
    "for product in all_products:\n",
    "    quicklook_path = product.get_quicklook()\n",
    "    img = mpimg.imread(quicklook_path)\n",
    "    plt.imshow(img)\n",
    "    plt.title(f\"Image {product.properties['title']}\")\n",
    "    plt.show()"
   ]
  },
  {
   "cell_type": "markdown",
   "metadata": {},
   "source": [
    "# Folium\n",
    "Folium is a great library for visualising satellite imagery!"
   ]
  },
  {
   "cell_type": "code",
   "execution_count": null,
   "metadata": {},
   "outputs": [],
   "source": [
    "import folium"
   ]
  },
  {
   "cell_type": "code",
   "execution_count": null,
   "metadata": {},
   "outputs": [],
   "source": [
    "geometry = default_search_criteria[\"geom\"]\n",
    "geometry"
   ]
  },
  {
   "cell_type": "code",
   "execution_count": null,
   "metadata": {},
   "outputs": [],
   "source": [
    "# Create a map zoomed over the search area\n",
    "fmap = folium.Map(location=[(latmin + latmax)/2, (lonmin + lonmax)/2], zoom_start=7)\n",
    "\n",
    "# Add a GeoJson of the Search Results\n",
    "folium.GeoJson(\n",
    "    data=all_products,  # SearchResult has a __geo_interface__ interface used by folium to get its GeoJSON representation\n",
    "    tooltip=folium.GeoJsonTooltip(fields=[\"title\"])\n",
    ").add_to(fmap)\n",
    "\n",
    "# Add a Rectangle of our search\n",
    "folium.Rectangle(\n",
    "    bounds=[[latmin, lonmin], [latmax, lonmax]],\n",
    "    color=\"red\",\n",
    "    tooltip=\"Search extent\"\n",
    ").add_to(fmap)\n",
    "\n",
    "fmap"
   ]
  },
  {
   "cell_type": "markdown",
   "metadata": {},
   "source": [
    "# Authentication & Downloading from THREDDS\n",
    "If you have issues with authentication from AusCopHub, you can download straight from the same repository at NCI's THREDDS Dataserver."
   ]
  },
  {
   "cell_type": "code",
   "execution_count": null,
   "metadata": {},
   "outputs": [],
   "source": [
    "pprint(product.properties)"
   ]
  },
  {
   "cell_type": "markdown",
   "metadata": {},
   "source": [
    "## Download\n",
    "Now that we have queried available files, let's download one of the files."
   ]
  },
  {
   "cell_type": "code",
   "execution_count": null,
   "metadata": {},
   "outputs": [],
   "source": []
  },
  {
   "cell_type": "code",
   "execution_count": null,
   "metadata": {},
   "outputs": [],
   "source": [
    "file_downloaded = all_products[0].download()\n"
   ]
  },
  {
   "cell_type": "code",
   "execution_count": null,
   "metadata": {},
   "outputs": [],
   "source": [
    "from nci_downloader import download_product_thredds\n",
    "file_list = []\n",
    "\n",
    "file_downloaded = download_product_thredds(all_products[0], './data')\n"
   ]
  },
  {
   "cell_type": "markdown",
   "metadata": {},
   "source": [
    "## Storing our downloaded filenames for future notebooks\n",
    "Let's now store the file we downloaded in a text file for future use."
   ]
  },
  {
   "cell_type": "code",
   "execution_count": null,
   "metadata": {},
   "outputs": [],
   "source": [
    "product_directory = file_downloaded\n",
    "dir_text_filename = \"product_dir.txt\"\n",
    "\n",
    "with open(dir_text_filename, 'w') as f:\n",
    "    f.writelines(product_directory)"
   ]
  },
  {
   "cell_type": "markdown",
   "metadata": {},
   "source": [
    "# Other options\n",
    "Another valid choice for downloading satellite data using python is [pystac-client.](https://pystac-client.readthedocs.io/en/latest/quickstart.html). \n",
    "\n",
    "PySTAC takes a bit more knowhow of API's to use, but gives you more freedom as well.  \n",
    "PySTAC also supports COGs, which are currently only supported by the bleeding edge `eodag-cube` library rather than `eodag` itself.  \n",
    "SARA and NCI (the locations we're getting satellite data from for this workshop) supply Sentinel-2 data as zip-files rather than COGs, hence we chose to simply use EODAG for this lesson."
   ]
  }
 ],
 "metadata": {
  "kernelspec": {
   "display_name": "base",
   "language": "python",
   "name": "python3"
  },
  "language_info": {
   "codemirror_mode": {
    "name": "ipython",
    "version": 3
   },
   "file_extension": ".py",
   "mimetype": "text/x-python",
   "name": "python",
   "nbconvert_exporter": "python",
   "pygments_lexer": "ipython3",
   "version": "3.11.0"
  }
 },
 "nbformat": 4,
 "nbformat_minor": 2
}
