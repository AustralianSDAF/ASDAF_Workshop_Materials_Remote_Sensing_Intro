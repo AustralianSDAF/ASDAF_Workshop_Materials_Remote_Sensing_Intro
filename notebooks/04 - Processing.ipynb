{
 "cells": [
  {
   "cell_type": "markdown",
   "metadata": {},
   "source": [
    "# Raster Calcuations in Python"
   ]
  },
  {
   "cell_type": "markdown",
   "metadata": {},
   "source": [
    "## ❓ Questions\n",
    "- How do I perform calculations on rasters and extract pixel values for defined locations?\n",
    "\n",
    "\n",
    "## ❗ Objectives\n",
    "- Carry out operations with two rasters using Python’s built-in math operators.\n",
    "- Reclassify a continuous raster to a categorical raster.\n"
   ]
  },
  {
   "cell_type": "code",
   "execution_count": null,
   "metadata": {},
   "outputs": [],
   "source": []
  },
  {
   "cell_type": "markdown",
   "metadata": {},
   "source": [
    "# Introduction\n",
    "---\n",
    "\n",
    "We often want to combine values of and perform calculations on rasters to create a new output raster. This notebook covers how to perform basic math operations using raster datasets. It also illustrates how to match rasters with different resolutions so that they can be used in the same calculation. As an example, we will calculate a vegetation index over one of the satellite scenes.\n",
    "\n",
    "## Normalized Difference Vegetation Index (NDVI)\n",
    "\n",
    "Suppose we are interested in monitoring vegetation fluctuations using satellite remote sensors. Scientists have defined a vegetation index to quantify the amount of green leaf vegetation using the light reflected in different wavelengths. This index, named Normalized Difference Vegetation Index (NDVI), exploits the fact that healthy green leaves strongly absorb red visible light while they mostly reflect light in the near infrared (NIR). The NDVI is computed as:\n",
    "$$\n",
    "NDVI=\\frac{NIR−Red}{NIR+Red}\n",
    "$$\n",
    "where NIR and Red label the reflectance values of the corresponding wavelengths. \n",
    "\n",
    "NDVI values range from -1 to +1: \n",
    "- Values close to one indicate high density of green leaves.\n",
    "- Poorly vegetated areas typically have NDVI values close to zero.\n",
    "- Negative NDVI values often indicate cloud and water bodies.\n",
    "\n",
    "\n",
    "![NDVI](../notebook_pictures/PONE-NDVI3.jpg)  \n",
    "> Source: Wu C-D, McNeely E, Cedeño-Laurent JG, Pan W-C, Adamkiewicz G, Dominici F, et al. (2014) Linking Student Performance in Massachusetts Elementary Schools with the “Greenness” of School Surroundings Using Remote Sensing. PLoS ONE 9(10): e108548. https://doi.org/10.1371/journal.pone.0108548\n",
    "\n",
    "\n",
    "See also: [Wikipedia Normalized difference vegetation index (Rationale)](https://en.wikipedia.org/wiki/Normalized_difference_vegetation_index#Rationale)"
   ]
  },
  {
   "cell_type": "code",
   "execution_count": null,
   "metadata": {},
   "outputs": [],
   "source": []
  },
  {
   "cell_type": "markdown",
   "metadata": {},
   "source": [
    "## Load and crop the Data\n",
    "\n",
    "For this notebook, we will use one of the Sentinel-2 scenes that we have already employed in the previous episodes."
   ]
  },
  {
   "cell_type": "code",
   "execution_count": 2,
   "metadata": {},
   "outputs": [
    {
     "data": {
      "text/plain": [
       "{'nir': <xarray.DataArray (band: 1, y: 1000, x: 1200)> Size: 2MB\n",
       " [1200000 values with dtype=uint16]\n",
       " Coordinates:\n",
       "   * band         (band) int64 8B 1\n",
       "   * x            (x) float64 10kB 4.1e+05 4.1e+05 4.1e+05 ... 4.219e+05 4.22e+05\n",
       "   * y            (y) float64 8kB 6.478e+06 6.478e+06 ... 6.468e+06 6.468e+06\n",
       "     spatial_ref  int64 8B 0\n",
       " Attributes:\n",
       "     OVR_RESAMPLING_ALG:  AVERAGE\n",
       "     AREA_OR_POINT:       Area\n",
       "     _FillValue:          0\n",
       "     scale_factor:        1.0\n",
       "     add_offset:          0.0,\n",
       " 'visual': <xarray.DataArray (band: 3, y: 1000, x: 1200)> Size: 4MB\n",
       " [3600000 values with dtype=uint8]\n",
       " Coordinates:\n",
       "   * band         (band) int64 24B 1 2 3\n",
       "   * x            (x) float64 10kB 4.1e+05 4.1e+05 4.1e+05 ... 4.219e+05 4.22e+05\n",
       "   * y            (y) float64 8kB 6.478e+06 6.478e+06 ... 6.468e+06 6.468e+06\n",
       "     spatial_ref  int64 8B 0\n",
       " Attributes:\n",
       "     OVR_RESAMPLING_ALG:  AVERAGE\n",
       "     AREA_OR_POINT:       Area\n",
       "     _FillValue:          0\n",
       "     scale_factor:        1.0\n",
       "     add_offset:          0.0,\n",
       " 'red': <xarray.DataArray (band: 1, y: 1000, x: 1200)> Size: 2MB\n",
       " [1200000 values with dtype=uint16]\n",
       " Coordinates:\n",
       "   * band         (band) int64 8B 1\n",
       "   * x            (x) float64 10kB 4.1e+05 4.1e+05 4.1e+05 ... 4.219e+05 4.22e+05\n",
       "   * y            (y) float64 8kB 6.478e+06 6.478e+06 ... 6.468e+06 6.468e+06\n",
       "     spatial_ref  int64 8B 0\n",
       " Attributes:\n",
       "     OVR_RESAMPLING_ALG:  AVERAGE\n",
       "     AREA_OR_POINT:       Area\n",
       "     _FillValue:          0\n",
       "     scale_factor:        1.0\n",
       "     add_offset:          0.0}"
      ]
     },
     "execution_count": 2,
     "metadata": {},
     "output_type": "execute_result"
    }
   ],
   "source": [
    "# Get the directory again\n",
    "import os\n",
    "\n",
    "base_product_dir = '../workshop_data/S2'\n",
    "\n",
    "# Get a dictionary of images\n",
    "import rioxarray\n",
    "from os.path import join\n",
    "\n",
    "images = {}\n",
    "for fname in os.listdir(base_product_dir):\n",
    "    fpath = join(base_product_dir, fname)\n",
    "    if fname[-3:] == 'txt':\n",
    "        continue\n",
    "    band = fname.split('.')[-2]\n",
    "    images[band] = rioxarray.open_rasterio(fpath)\n",
    "\n",
    "images"
   ]
  },
  {
   "cell_type": "markdown",
   "metadata": {},
   "source": [
    "Let’s also restrict our analysis to the same area defined in the previous episode by clipping the rasters using a bounding box."
   ]
  },
  {
   "cell_type": "code",
   "execution_count": 3,
   "metadata": {},
   "outputs": [],
   "source": [
    "# Load in AOI\n",
    "import geopandas as gpd\n",
    "\n",
    "john_forrest_poly_fname = \"../data/john_forrest_rough.shp\"\n",
    "AOI_4326 =  gpd.read_file(john_forrest_poly_fname)\n",
    "AOI = AOI_4326.to_crs(images['red'].rio.crs)\n",
    "\n",
    "red_clip = images['red'].rio.clip_box(*AOI.total_bounds)\n",
    "nir_clip = images['nir'].rio.clip_box(*AOI.total_bounds)"
   ]
  },
  {
   "cell_type": "markdown",
   "metadata": {},
   "source": [
    "We can now plot the two rasters. Using the `robust=True` option, color values are stretched between the 2nd and 98th percentiles of the data, which results in clearer distinctions between high and low reflectances."
   ]
  },
  {
   "cell_type": "code",
   "execution_count": null,
   "metadata": {},
   "outputs": [],
   "source": [
    "red_clip.plot(robust=True)"
   ]
  },
  {
   "cell_type": "code",
   "execution_count": null,
   "metadata": {},
   "outputs": [],
   "source": [
    "nir_clip.plot(robust=True)"
   ]
  },
  {
   "cell_type": "markdown",
   "metadata": {},
   "source": [
    "# Raster Math \n",
    "We can perform raster calculations by subtracting (or adding, multiplying, etc.) two rasters. In the geospatial world, we call this “raster math”, and typically it refers to operations on rasters that have the same width and height (including nodata pixels). \n",
    "\n",
    "We can check the shapes of the two rasters in the following way."
   ]
  },
  {
   "cell_type": "code",
   "execution_count": null,
   "metadata": {},
   "outputs": [],
   "source": [
    "print(red_clip.shape, nir_clip.shape)"
   ]
  },
  {
   "cell_type": "markdown",
   "metadata": {},
   "source": [
    "Both rasters match, but to build good habits, let's `reproject_match` anyway."
   ]
  },
  {
   "cell_type": "code",
   "execution_count": null,
   "metadata": {},
   "outputs": [],
   "source": [
    "red_clip_matched = red_clip.rio.reproject_match(nir_clip)"
   ]
  },
  {
   "cell_type": "markdown",
   "metadata": {},
   "source": [
    "Let’s now compute the NDVI as a new raster using the formula presented above.   \n",
    "We’ll use `rioxarray` objects so that we can easily plot our result and keep track of the metadata."
   ]
  },
  {
   "cell_type": "code",
   "execution_count": null,
   "metadata": {},
   "outputs": [],
   "source": [
    "ndvi = (nir_clip - red_clip_matched)/ (nir_clip + red_clip_matched)\n",
    "print(ndvi)"
   ]
  },
  {
   "cell_type": "code",
   "execution_count": null,
   "metadata": {},
   "outputs": [],
   "source": [
    "ndvi.plot()"
   ]
  },
  {
   "cell_type": "code",
   "execution_count": null,
   "metadata": {},
   "outputs": [],
   "source": [
    "ndvi.plot.hist()"
   ]
  },
  {
   "cell_type": "markdown",
   "metadata": {},
   "source": [
    "Missing values can be interpolated from the values of neighbouring grid cells using the `.interpolate_na` method. We then save NDVI as a GeoTIFF file."
   ]
  },
  {
   "cell_type": "code",
   "execution_count": null,
   "metadata": {},
   "outputs": [],
   "source": [
    "ndvi_nonan = ndvi.interpolate_na(dim=\"x\")\n",
    "ndvi_nonan.rio.to_raster(join(base_product_dir, \"NDVI.tif\"))"
   ]
  },
  {
   "cell_type": "markdown",
   "metadata": {},
   "source": [
    "# Exercise: Explore NDVI Raster Values\n",
    "\n",
    "It’s often a good idea to explore the range of values in a raster dataset just like we might explore a dataset that we collected in the field. The histogram we just made is a good start but there’s more we can do to improve our understanding of the data.  \n",
    "\n",
    "1. What is the min and maximum value for the NDVI raster (ndvi) that we just created? Are there missing values?\n",
    "2. Plot a histogram with 50 bins instead of 8. What do you notice that wasn’t clear before?\n",
    "3. Plot the ndvi raster using breaks that make sense for the data. (HINT: use the `levels=[bins]` plot parameter)\n"
   ]
  },
  {
   "cell_type": "markdown",
   "metadata": {},
   "source": [
    "Note that, by default, each class includes the left but not the right bound. This is not an issue here, since the computed range of NDVI values is fully contained in the open interval (-1; 1) (see exercise above)."
   ]
  },
  {
   "cell_type": "code",
   "execution_count": null,
   "metadata": {},
   "outputs": [],
   "source": [
    "import numpy as np\n",
    "import xarray\n",
    "\n",
    "# Defines the bins for pixel values\n",
    "class_bins = (-1, 0., 0.2, 0.7, 1)\n",
    "\n",
    "# The numpy.digitize function returns an unlabeled array, in this case, a\n",
    "# classified array without any metadata. That doesn't work--we need the\n",
    "# coordinates and other spatial metadata. We can get around this using\n",
    "# xarray.apply_ufunc, which can run the function across the data array while\n",
    "# preserving metadata.\n",
    "ndvi_classified = xarray.apply_ufunc(\n",
    "    np.digitize,\n",
    "    ndvi_nonan,\n",
    "    class_bins\n",
    ")"
   ]
  },
  {
   "cell_type": "markdown",
   "metadata": {},
   "source": [
    "# Classifying Continuous Rasters in Python \n",
    "Now that we have a sense of the distribution of our NDVI raster, we can reduce the complexity of our map by classifying it. \n",
    "\n",
    "Classification involves assigning each pixel in the raster to a class based on its value. In Python, we can accomplish this using the `numpy.digitize`function.\n",
    "\n",
    "First, we define NDVI classes based on a list of values, as defined in the last exercise: [-1, 0., 0.2, 0.7, 1]. \n",
    "\n",
    "When bins are ordered from low to high, as here, `numpy.digitize` assigns classes like so:\n",
    "\n",
    "\n",
    "![ndvi classes](../notebook_pictures/NDVI-classes.jpg)  \n",
    "> Source: [Carpentries](https://carpentries-incubator.github.io/geospatial-python/09-raster-calculations.html). CC BY 4.0 License"
   ]
  },
  {
   "cell_type": "code",
   "execution_count": null,
   "metadata": {},
   "outputs": [],
   "source": [
    "import numpy as np\n",
    "import xarray\n",
    "\n",
    "# Defines the bins for pixel values\n",
    "class_bins = (-1, 0., 0.2, 0.7, 1)\n",
    "\n",
    "# The numpy.digitize function returns an unlabeled array, in this case, a\n",
    "# classified array without any metadata. That doesn't work--we need the\n",
    "# coordinates and other spatial metadata. We can get around this using\n",
    "# xarray.apply_ufunc, which can run the function across the data array while\n",
    "# preserving metadata.\n",
    "ndvi_classified = xarray.apply_ufunc(\n",
    "    np.digitize,\n",
    "    ndvi_nonan,\n",
    "    class_bins\n",
    ")"
   ]
  },
  {
   "cell_type": "code",
   "execution_count": null,
   "metadata": {},
   "outputs": [],
   "source": [
    "import earthpy.plot as ep\n",
    "import matplotlib.pyplot as plt\n",
    "\n",
    "from matplotlib.colors import ListedColormap\n",
    "\n",
    "# Define color map of the map legend\n",
    "ndvi_colors = [\"blue\", \"gray\", \"green\", \"darkgreen\"]\n",
    "ndvi_cmap = ListedColormap(ndvi_colors)\n",
    "\n",
    "# Define class names for the legend\n",
    "category_names = [\n",
    "    \"Water\",\n",
    "    \"No Vegetation\",\n",
    "    \"Sparse Vegetation\",\n",
    "    \"Dense Vegetation\"\n",
    "]\n",
    "\n",
    "# We need to know in what order the legend items should be arranged\n",
    "category_indices = list(range(len(category_names)))\n",
    "\n",
    "# Make the plot\n",
    "im = ndvi_classified.plot(cmap=ndvi_cmap, add_colorbar=False)\n",
    "plt.title(\"Classified NDVI\")\n",
    "# earthpy helps us by drawing a legend given an existing image plot and legend items, plus indices\n",
    "ep.draw_legend(im_ax=im, classes=category_indices, titles=category_names)\n",
    "\n",
    "# Save the figure\n",
    "plt.savefig(\"NDVI_classified.png\", bbox_inches=\"tight\", dpi=300)"
   ]
  },
  {
   "cell_type": "markdown",
   "metadata": {},
   "source": [
    "\n",
    "# Key Points\n",
    "\n",
    "- Python’s built-in math operators are fast and simple options for raster math using xarray's.\n",
    "- `numpy.digitize` can be used to classify raster values in order to generate a less complicated map.\n",
    "\n"
   ]
  }
 ],
 "metadata": {
  "kernelspec": {
   "display_name": "base",
   "language": "python",
   "name": "python3"
  },
  "language_info": {
   "codemirror_mode": {
    "name": "ipython",
    "version": 3
   },
   "file_extension": ".py",
   "mimetype": "text/x-python",
   "name": "python",
   "nbconvert_exporter": "python",
   "pygments_lexer": "ipython3",
   "version": "3.11.9"
  }
 },
 "nbformat": 4,
 "nbformat_minor": 2
}
