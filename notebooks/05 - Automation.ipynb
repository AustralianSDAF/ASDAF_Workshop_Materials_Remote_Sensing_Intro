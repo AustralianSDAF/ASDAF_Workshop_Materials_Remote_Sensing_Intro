{
 "cells": [
  {
   "cell_type": "markdown",
   "metadata": {},
   "source": [
    "# Automating processing"
   ]
  },
  {
   "cell_type": "markdown",
   "metadata": {},
   "source": [
    "## ❓ Questions\n",
    "- How do I automate my data workflows?\n",
    "\n",
    "\n",
    "## ❗ Objectives\n",
    "- Create a pipeline from download to processing.\n",
    "- Understand available methods of automation.\n"
   ]
  },
  {
   "cell_type": "markdown",
   "metadata": {},
   "source": [
    "# Automating the entire process\n",
    "Previously we've applied single processes to our images.  \n",
    "Part of automation is encapsulating these processes into functions, and encapsualting those functions into larger processes.\n",
    "\n",
    "Let's try to put several of the lessons we've done together into functions in a script that we can call in this notebook."
   ]
  },
  {
   "cell_type": "code",
   "execution_count": null,
   "metadata": {
    "vscode": {
     "languageId": "plaintext"
    }
   },
   "outputs": [],
   "source": []
  },
  {
   "cell_type": "code",
   "execution_count": null,
   "metadata": {
    "vscode": {
     "languageId": "plaintext"
    }
   },
   "outputs": [],
   "source": []
  },
  {
   "cell_type": "code",
   "execution_count": null,
   "metadata": {
    "vscode": {
     "languageId": "plaintext"
    }
   },
   "outputs": [],
   "source": []
  },
  {
   "cell_type": "code",
   "execution_count": null,
   "metadata": {
    "vscode": {
     "languageId": "plaintext"
    }
   },
   "outputs": [],
   "source": []
  },
  {
   "cell_type": "code",
   "execution_count": null,
   "metadata": {
    "vscode": {
     "languageId": "plaintext"
    }
   },
   "outputs": [],
   "source": []
  },
  {
   "cell_type": "markdown",
   "metadata": {},
   "source": [
    "# Automatically Running a script\n",
    "The final part of the puzzle here is no longer activating the script ourselves.  \n",
    "\n",
    "There are many ways to do this with just as many providers, including:  \n",
    "- Pawsey's Nimbus Cloud\n",
    "- ARDC Nectar\n",
    "- AWS EC2\n",
    "- Azure Virtual Machines\n",
    "- Your own Linux machine\n",
    "\n",
    "As Nimbus seems quite popular, we'll focus on tools that can be used from Nimbus, such as `cron`."
   ]
  }
 ],
 "metadata": {
  "language_info": {
   "name": "python"
  }
 },
 "nbformat": 4,
 "nbformat_minor": 2
}
