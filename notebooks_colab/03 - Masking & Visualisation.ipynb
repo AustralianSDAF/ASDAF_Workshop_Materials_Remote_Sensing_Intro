{
 "cells": [
  {
   "cell_type": "markdown",
   "metadata": {},
   "source": [
    "# Masking and Processing"
   ]
  },
  {
   "cell_type": "markdown",
   "metadata": {},
   "source": [
    "## ❓ Questions\n",
    "- How can I crop my raster data to the area of interest?\n",
    "\n",
    "\n",
    "## ❗ Objectives\n",
    "- Crop raster data with a bounding box.\n",
    "- Crop raster data with a polygon.\n",
    "- Match two raster datasets in different CRS.\n",
    "\n",
    "\n",
    "\n"
   ]
  },
  {
   "cell_type": "markdown",
   "metadata": {},
   "source": [
    "# Initial setup for Google Drive\n",
    "Some parameters we'll need throughout the lesson. Please run these cells!"
   ]
  },
  {
   "cell_type": "code",
   "execution_count": null,
   "metadata": {},
   "outputs": [
    {
     "name": "stdout",
     "output_type": "stream",
     "text": [
      "Drive already mounted at /content/drive; to attempt to forcibly remount, call drive.mount(\"/content/drive\", force_remount=True).\n"
     ]
    }
   ],
   "source": [
    "import os\n",
    "from os.path import join\n",
    "\n",
    "from google.colab import drive\n",
    "google_dir = '/content/drive'\n",
    "drive.mount(google_dir)"
   ]
  },
  {
   "cell_type": "code",
   "execution_count": null,
   "metadata": {},
   "outputs": [
    {
     "data": {
      "text/plain": [
       "['Corporate-Powerpoint-Template.pptx',\n",
       " 'Show and Tell.pptx',\n",
       " 'CIC drop in session - Keegan.gdoc',\n",
       " 'Quick_meeting_slides_2021-05-09.pptx',\n",
       " 'asdaf',\n",
       " 'pipe3_20k.mp4',\n",
       " 'chl_7_bin_1_stride_4fps.mkv',\n",
       " 'WAT_Waste_City_of_canning_Project_Lessons_Learnt.xlsx',\n",
       " 'slides',\n",
       " 'WCCC_yolov4-unseen.mp4',\n",
       " 'CIC Carpentries Collaborative Google Doc.gdoc',\n",
       " 'RezBaz 22.gslides',\n",
       " 'S&T',\n",
       " 'ASDAF_BMT_UHI_JIRA_New_Project_Questionnaire.xlsx',\n",
       " 'CHL_Weekly_2018_1440p.mp4',\n",
       " 'Chlor_a_Weekly_2018_1440p.mp4',\n",
       " 'UChl_abs_Weekly_2018_1440p.mp4',\n",
       " 'solo work',\n",
       " 'Untitled form.gform',\n",
       " 'CIDS Computational Resources 2024-03-22.gslides',\n",
       " 'Colab Notebooks',\n",
       " 'CIC_Carpentries_Python-master',\n",
       " 'workshop_google',\n",
       " '202404_Intro_Rrs.gslides']"
      ]
     },
     "metadata": {},
     "output_type": "display_data"
    }
   ],
   "source": [
    "os.listdir(join(google_dir, 'MyDrive'))"
   ]
  },
  {
   "cell_type": "code",
   "execution_count": null,
   "metadata": {},
   "outputs": [],
   "source": [
    "project_dir = join(google_dir, 'MyDrive', \"workshop_google\")\n",
    "storage_location = join(project_dir, \"workshop_data\")\n",
    "\n",
    "os.makedirs(storage_location, exist_ok=True)"
   ]
  },
  {
   "cell_type": "code",
   "execution_count": null,
   "metadata": {},
   "outputs": [
    {
     "name": "stdout",
     "output_type": "stream",
     "text": [
      "data\t\t google_requirements.txt  notebook_pictures  notebooks_colab  workshop_data\n",
      "environment.yml  LICENSE\t\t  notebooks\t     README.md\n"
     ]
    }
   ],
   "source": [
    "!ls {project_dir}"
   ]
  },
  {
   "cell_type": "code",
   "execution_count": null,
   "metadata": {},
   "outputs": [
    {
     "name": "stdout",
     "output_type": "stream",
     "text": [
      "Requirement already satisfied: folium in /usr/local/lib/python3.10/dist-packages (from -r /content/drive/MyDrive/workshop_google/google_requirements.txt (line 1)) (0.14.0)\n",
      "Collecting rioxarray (from -r /content/drive/MyDrive/workshop_google/google_requirements.txt (line 2))\n",
      "  Downloading rioxarray-0.15.5-py3-none-any.whl (60 kB)\n",
      "\u001b[2K     \u001b[90m━━━━━━━━━━━━━━━━━━━━━━━━━━━━━━━━━━━━━━━━\u001b[0m \u001b[32m60.5/60.5 kB\u001b[0m \u001b[31m2.0 MB/s\u001b[0m eta \u001b[36m0:00:00\u001b[0m\n",
      "\u001b[?25hRequirement already satisfied: geopandas in /usr/local/lib/python3.10/dist-packages (from -r /content/drive/MyDrive/workshop_google/google_requirements.txt (line 3)) (0.13.2)\n",
      "Collecting earthpy (from -r /content/drive/MyDrive/workshop_google/google_requirements.txt (line 4))\n",
      "  Downloading earthpy-0.9.4-py3-none-any.whl (1.4 MB)\n",
      "\u001b[2K     \u001b[90m━━━━━━━━━━━━━━━━━━━━━━━━━━━━━━━━━━━━━━━━\u001b[0m \u001b[32m1.4/1.4 MB\u001b[0m \u001b[31m28.8 MB/s\u001b[0m eta \u001b[36m0:00:00\u001b[0m\n",
      "\u001b[?25hRequirement already satisfied: numba in /usr/local/lib/python3.10/dist-packages (from -r /content/drive/MyDrive/workshop_google/google_requirements.txt (line 5)) (0.58.1)\n",
      "Requirement already satisfied: numpy in /usr/local/lib/python3.10/dist-packages (from -r /content/drive/MyDrive/workshop_google/google_requirements.txt (line 6)) (1.25.2)\n",
      "Requirement already satisfied: pandas in /usr/local/lib/python3.10/dist-packages (from -r /content/drive/MyDrive/workshop_google/google_requirements.txt (line 7)) (2.0.3)\n",
      "Requirement already satisfied: matplotlib in /usr/local/lib/python3.10/dist-packages (from -r /content/drive/MyDrive/workshop_google/google_requirements.txt (line 8)) (3.7.1)\n",
      "Requirement already satisfied: xarray in /usr/local/lib/python3.10/dist-packages (from -r /content/drive/MyDrive/workshop_google/google_requirements.txt (line 9)) (2023.7.0)\n",
      "Requirement already satisfied: tqdm in /usr/local/lib/python3.10/dist-packages (from -r /content/drive/MyDrive/workshop_google/google_requirements.txt (line 10)) (4.66.4)\n",
      "Collecting pystac-client (from -r /content/drive/MyDrive/workshop_google/google_requirements.txt (line 11))\n",
      "  Downloading pystac_client-0.8.2-py3-none-any.whl (33 kB)\n",
      "Requirement already satisfied: branca>=0.6.0 in /usr/local/lib/python3.10/dist-packages (from folium->-r /content/drive/MyDrive/workshop_google/google_requirements.txt (line 1)) (0.7.2)\n",
      "Requirement already satisfied: jinja2>=2.9 in /usr/local/lib/python3.10/dist-packages (from folium->-r /content/drive/MyDrive/workshop_google/google_requirements.txt (line 1)) (3.1.4)\n",
      "Requirement already satisfied: requests in /usr/local/lib/python3.10/dist-packages (from folium->-r /content/drive/MyDrive/workshop_google/google_requirements.txt (line 1)) (2.31.0)\n",
      "Requirement already satisfied: packaging in /usr/local/lib/python3.10/dist-packages (from rioxarray->-r /content/drive/MyDrive/workshop_google/google_requirements.txt (line 2)) (24.1)\n",
      "Collecting rasterio>=1.3 (from rioxarray->-r /content/drive/MyDrive/workshop_google/google_requirements.txt (line 2))\n",
      "  Downloading rasterio-1.3.10-cp310-cp310-manylinux2014_x86_64.whl (21.5 MB)\n",
      "\u001b[2K     \u001b[90m━━━━━━━━━━━━━━━━━━━━━━━━━━━━━━━━━━━━━━━━\u001b[0m \u001b[32m21.5/21.5 MB\u001b[0m \u001b[31m36.4 MB/s\u001b[0m eta \u001b[36m0:00:00\u001b[0m\n",
      "\u001b[?25hRequirement already satisfied: pyproj>=3.3 in /usr/local/lib/python3.10/dist-packages (from rioxarray->-r /content/drive/MyDrive/workshop_google/google_requirements.txt (line 2)) (3.6.1)\n",
      "Requirement already satisfied: fiona>=1.8.19 in /usr/local/lib/python3.10/dist-packages (from geopandas->-r /content/drive/MyDrive/workshop_google/google_requirements.txt (line 3)) (1.9.6)\n",
      "Requirement already satisfied: shapely>=1.7.1 in /usr/local/lib/python3.10/dist-packages (from geopandas->-r /content/drive/MyDrive/workshop_google/google_requirements.txt (line 3)) (2.0.4)\n",
      "Requirement already satisfied: scikit-image in /usr/local/lib/python3.10/dist-packages (from earthpy->-r /content/drive/MyDrive/workshop_google/google_requirements.txt (line 4)) (0.19.3)\n",
      "Requirement already satisfied: llvmlite<0.42,>=0.41.0dev0 in /usr/local/lib/python3.10/dist-packages (from numba->-r /content/drive/MyDrive/workshop_google/google_requirements.txt (line 5)) (0.41.1)\n",
      "Requirement already satisfied: python-dateutil>=2.8.2 in /usr/local/lib/python3.10/dist-packages (from pandas->-r /content/drive/MyDrive/workshop_google/google_requirements.txt (line 7)) (2.8.2)\n",
      "Requirement already satisfied: pytz>=2020.1 in /usr/local/lib/python3.10/dist-packages (from pandas->-r /content/drive/MyDrive/workshop_google/google_requirements.txt (line 7)) (2023.4)\n",
      "Requirement already satisfied: tzdata>=2022.1 in /usr/local/lib/python3.10/dist-packages (from pandas->-r /content/drive/MyDrive/workshop_google/google_requirements.txt (line 7)) (2024.1)\n",
      "Requirement already satisfied: contourpy>=1.0.1 in /usr/local/lib/python3.10/dist-packages (from matplotlib->-r /content/drive/MyDrive/workshop_google/google_requirements.txt (line 8)) (1.2.1)\n",
      "Requirement already satisfied: cycler>=0.10 in /usr/local/lib/python3.10/dist-packages (from matplotlib->-r /content/drive/MyDrive/workshop_google/google_requirements.txt (line 8)) (0.12.1)\n",
      "Requirement already satisfied: fonttools>=4.22.0 in /usr/local/lib/python3.10/dist-packages (from matplotlib->-r /content/drive/MyDrive/workshop_google/google_requirements.txt (line 8)) (4.53.0)\n",
      "Requirement already satisfied: kiwisolver>=1.0.1 in /usr/local/lib/python3.10/dist-packages (from matplotlib->-r /content/drive/MyDrive/workshop_google/google_requirements.txt (line 8)) (1.4.5)\n",
      "Requirement already satisfied: pillow>=6.2.0 in /usr/local/lib/python3.10/dist-packages (from matplotlib->-r /content/drive/MyDrive/workshop_google/google_requirements.txt (line 8)) (9.4.0)\n",
      "Requirement already satisfied: pyparsing>=2.3.1 in /usr/local/lib/python3.10/dist-packages (from matplotlib->-r /content/drive/MyDrive/workshop_google/google_requirements.txt (line 8)) (3.1.2)\n",
      "Collecting pystac[validation]>=1.10.0 (from pystac-client->-r /content/drive/MyDrive/workshop_google/google_requirements.txt (line 11))\n",
      "  Downloading pystac-1.10.1-py3-none-any.whl (182 kB)\n",
      "\u001b[2K     \u001b[90m━━━━━━━━━━━━━━━━━━━━━━━━━━━━━━━━━━━━━━━━\u001b[0m \u001b[32m182.9/182.9 kB\u001b[0m \u001b[31m17.3 MB/s\u001b[0m eta \u001b[36m0:00:00\u001b[0m\n",
      "\u001b[?25hRequirement already satisfied: attrs>=19.2.0 in /usr/local/lib/python3.10/dist-packages (from fiona>=1.8.19->geopandas->-r /content/drive/MyDrive/workshop_google/google_requirements.txt (line 3)) (23.2.0)\n",
      "Requirement already satisfied: certifi in /usr/local/lib/python3.10/dist-packages (from fiona>=1.8.19->geopandas->-r /content/drive/MyDrive/workshop_google/google_requirements.txt (line 3)) (2024.6.2)\n",
      "Requirement already satisfied: click~=8.0 in /usr/local/lib/python3.10/dist-packages (from fiona>=1.8.19->geopandas->-r /content/drive/MyDrive/workshop_google/google_requirements.txt (line 3)) (8.1.7)\n",
      "Requirement already satisfied: click-plugins>=1.0 in /usr/local/lib/python3.10/dist-packages (from fiona>=1.8.19->geopandas->-r /content/drive/MyDrive/workshop_google/google_requirements.txt (line 3)) (1.1.1)\n",
      "Requirement already satisfied: cligj>=0.5 in /usr/local/lib/python3.10/dist-packages (from fiona>=1.8.19->geopandas->-r /content/drive/MyDrive/workshop_google/google_requirements.txt (line 3)) (0.7.2)\n",
      "Requirement already satisfied: six in /usr/local/lib/python3.10/dist-packages (from fiona>=1.8.19->geopandas->-r /content/drive/MyDrive/workshop_google/google_requirements.txt (line 3)) (1.16.0)\n",
      "Requirement already satisfied: MarkupSafe>=2.0 in /usr/local/lib/python3.10/dist-packages (from jinja2>=2.9->folium->-r /content/drive/MyDrive/workshop_google/google_requirements.txt (line 1)) (2.1.5)\n",
      "Requirement already satisfied: jsonschema~=4.18 in /usr/local/lib/python3.10/dist-packages (from pystac[validation]>=1.10.0->pystac-client->-r /content/drive/MyDrive/workshop_google/google_requirements.txt (line 11)) (4.19.2)\n",
      "Collecting affine (from rasterio>=1.3->rioxarray->-r /content/drive/MyDrive/workshop_google/google_requirements.txt (line 2))\n",
      "  Downloading affine-2.4.0-py3-none-any.whl (15 kB)\n",
      "Collecting snuggs>=1.4.1 (from rasterio>=1.3->rioxarray->-r /content/drive/MyDrive/workshop_google/google_requirements.txt (line 2))\n",
      "  Downloading snuggs-1.4.7-py3-none-any.whl (5.4 kB)\n",
      "Requirement already satisfied: setuptools in /usr/local/lib/python3.10/dist-packages (from rasterio>=1.3->rioxarray->-r /content/drive/MyDrive/workshop_google/google_requirements.txt (line 2)) (67.7.2)\n",
      "Requirement already satisfied: charset-normalizer<4,>=2 in /usr/local/lib/python3.10/dist-packages (from requests->folium->-r /content/drive/MyDrive/workshop_google/google_requirements.txt (line 1)) (3.3.2)\n",
      "Requirement already satisfied: idna<4,>=2.5 in /usr/local/lib/python3.10/dist-packages (from requests->folium->-r /content/drive/MyDrive/workshop_google/google_requirements.txt (line 1)) (3.7)\n",
      "Requirement already satisfied: urllib3<3,>=1.21.1 in /usr/local/lib/python3.10/dist-packages (from requests->folium->-r /content/drive/MyDrive/workshop_google/google_requirements.txt (line 1)) (2.0.7)\n",
      "Requirement already satisfied: scipy>=1.4.1 in /usr/local/lib/python3.10/dist-packages (from scikit-image->earthpy->-r /content/drive/MyDrive/workshop_google/google_requirements.txt (line 4)) (1.11.4)\n",
      "Requirement already satisfied: networkx>=2.2 in /usr/local/lib/python3.10/dist-packages (from scikit-image->earthpy->-r /content/drive/MyDrive/workshop_google/google_requirements.txt (line 4)) (3.3)\n",
      "Requirement already satisfied: imageio>=2.4.1 in /usr/local/lib/python3.10/dist-packages (from scikit-image->earthpy->-r /content/drive/MyDrive/workshop_google/google_requirements.txt (line 4)) (2.31.6)\n",
      "Requirement already satisfied: tifffile>=2019.7.26 in /usr/local/lib/python3.10/dist-packages (from scikit-image->earthpy->-r /content/drive/MyDrive/workshop_google/google_requirements.txt (line 4)) (2024.5.22)\n",
      "Requirement already satisfied: PyWavelets>=1.1.1 in /usr/local/lib/python3.10/dist-packages (from scikit-image->earthpy->-r /content/drive/MyDrive/workshop_google/google_requirements.txt (line 4)) (1.6.0)\n",
      "Requirement already satisfied: jsonschema-specifications>=2023.03.6 in /usr/local/lib/python3.10/dist-packages (from jsonschema~=4.18->pystac[validation]>=1.10.0->pystac-client->-r /content/drive/MyDrive/workshop_google/google_requirements.txt (line 11)) (2023.12.1)\n",
      "Requirement already satisfied: referencing>=0.28.4 in /usr/local/lib/python3.10/dist-packages (from jsonschema~=4.18->pystac[validation]>=1.10.0->pystac-client->-r /content/drive/MyDrive/workshop_google/google_requirements.txt (line 11)) (0.35.1)\n",
      "Requirement already satisfied: rpds-py>=0.7.1 in /usr/local/lib/python3.10/dist-packages (from jsonschema~=4.18->pystac[validation]>=1.10.0->pystac-client->-r /content/drive/MyDrive/workshop_google/google_requirements.txt (line 11)) (0.18.1)\n",
      "Installing collected packages: snuggs, affine, rasterio, pystac, rioxarray, earthpy, pystac-client\n",
      "Successfully installed affine-2.4.0 earthpy-0.9.4 pystac-1.10.1 pystac-client-0.8.2 rasterio-1.3.10 rioxarray-0.15.5 snuggs-1.4.7\n"
     ]
    }
   ],
   "source": [
    "!pip install -r {project_dir}/google_requirements.txt"
   ]
  },
  {
   "cell_type": "markdown",
   "metadata": {},
   "source": [
    "# Visualisation\n",
    "\n",
    "## Finding the files\n",
    "Before we can load the data files into Python, we first need to navigate to them on our computer. \n",
    "\n",
    "For Sentinel 2 files, these come in the \"SAFE\" standard."
   ]
  },
  {
   "cell_type": "code",
   "execution_count": null,
   "metadata": {},
   "outputs": [],
   "source": [
    "# Get the directory again\n",
    "import os\n",
    "\n",
    "product_dir_textfile = \"product_dir.txt\"\n",
    "\n",
    "with open(product_dir_textfile, 'r') as f:\n",
    "    base_product_dir = f.readline()\n",
    "\n",
    "base_product_dir"
   ]
  },
  {
   "cell_type": "code",
   "execution_count": null,
   "metadata": {},
   "outputs": [],
   "source": [
    "from os.path import join\n",
    "\n",
    "product_dir = join(base_product_dir, 'GRANULE')\n",
    "L2_dirname = os.listdir(product_dir)[0]\n",
    "product_dir = join(product_dir, L2_dirname)\n",
    "product_dir = join(product_dir, 'IMG_DATA', 'R60m')\n",
    "os.listdir(product_dir)"
   ]
  },
  {
   "cell_type": "code",
   "execution_count": null,
   "metadata": {},
   "outputs": [],
   "source": [
    "# Get a dictionary of filenames\n",
    "image_paths = {}\n",
    "for fname in os.listdir(product_dir):\n",
    "    fpath = join(product_dir, fname)\n",
    "    file_band = fname.split('_')[2]\n",
    "    image_paths[file_band] = fpath\n",
    "\n",
    "image_paths"
   ]
  },
  {
   "cell_type": "markdown",
   "metadata": {},
   "source": [
    "# Sentinel 2 Data\n",
    "\n",
    "![Common bands](../notebook_pictures/dmidS2LS7Comparison.png)  \n",
    "*Comparison of Landsat 7 and 8 bands with Sentinel-2 (USGS Public Domain Image)*"
   ]
  },
  {
   "cell_type": "markdown",
   "metadata": {},
   "source": [
    "## What's in a raster?"
   ]
  },
  {
   "cell_type": "code",
   "execution_count": null,
   "metadata": {},
   "outputs": [],
   "source": [
    "image_paths"
   ]
  },
  {
   "cell_type": "code",
   "execution_count": null,
   "metadata": {},
   "outputs": [],
   "source": [
    "import rioxarray\n",
    "\n",
    "\n",
    "raster_s2_tci = rioxarray.open_rasterio(image_paths['TCI'])"
   ]
  },
  {
   "cell_type": "code",
   "execution_count": null,
   "metadata": {},
   "outputs": [],
   "source": [
    "# Check out some attributes\n",
    "raster_s2_tci"
   ]
  },
  {
   "cell_type": "code",
   "execution_count": null,
   "metadata": {},
   "outputs": [],
   "source": [
    "# save portion of an image to disk\n",
    "subset_tci = raster_s2_tci[:, 100:500, 100:500]\n",
    "subset_tci"
   ]
  },
  {
   "cell_type": "code",
   "execution_count": null,
   "metadata": {},
   "outputs": [],
   "source": [
    "# Write to disk and check it out!\n",
    "subset_tci.rio.to_raster('test.tif')"
   ]
  },
  {
   "cell_type": "markdown",
   "metadata": {},
   "source": [
    "# Loading in vector data"
   ]
  },
  {
   "cell_type": "code",
   "execution_count": null,
   "metadata": {},
   "outputs": [],
   "source": [
    "# Load in AOI\n",
    "import geopandas as gpd\n",
    "\n",
    "john_forrest_poly_fname = \"../data/john_forrest_rough.shp\"\n",
    "AOI_4326 =  gpd.read_file(john_forrest_poly_fname)"
   ]
  },
  {
   "cell_type": "code",
   "execution_count": null,
   "metadata": {},
   "outputs": [],
   "source": [
    "# Check out parameters of the polygon(s) we loaded\n",
    "AOI_4326.crs"
   ]
  },
  {
   "cell_type": "code",
   "execution_count": null,
   "metadata": {},
   "outputs": [],
   "source": [
    "# Make sure they're both in the same CRS\n",
    "# Only run this cell once!\n",
    "AOI = AOI_4326.to_crs(raster_s2_tci.rio.crs)"
   ]
  },
  {
   "cell_type": "markdown",
   "metadata": {},
   "source": [
    "# Crop raster data witha  bounding box\n",
    "The `clip_box` function allows one to crop a raster by the min/max of the x and y coordinates.   \n",
    "Note that we are cropping the original image raster now (`raster_s2_tci`), and not the roughly subset image `subset_tci`."
   ]
  },
  {
   "cell_type": "code",
   "execution_count": null,
   "metadata": {},
   "outputs": [],
   "source": [
    "raster_clip_box = raster_s2_tci.rio.clip_box(*AOI.total_bounds)"
   ]
  },
  {
   "cell_type": "code",
   "execution_count": null,
   "metadata": {},
   "outputs": [],
   "source": [
    "raster_clip_box.plot.imshow(figsize=(8,8))"
   ]
  },
  {
   "cell_type": "markdown",
   "metadata": {},
   "source": [
    "# Precise raster data cropping with polygons\n",
    "We have a cropped image around the polygon. To further analyse the image, one may want to crop the image to the exact polygon boundaries.   \n",
    "This can be done with the clip function!"
   ]
  },
  {
   "cell_type": "code",
   "execution_count": null,
   "metadata": {},
   "outputs": [],
   "source": [
    "raster_clip_JF = raster_clip_box.rio.clip(AOI['geometry'])"
   ]
  },
  {
   "cell_type": "code",
   "execution_count": null,
   "metadata": {},
   "outputs": [],
   "source": [
    "raster_clip_JF.plot.imshow(figsize=(8,8))"
   ]
  },
  {
   "cell_type": "markdown",
   "metadata": {},
   "source": [
    "## Cropping raster data using the `reproject_match()` method\n",
    "So far we have learned how to crop raster images with vector data. We can also crop a raster with another raster data.  \n",
    "To do this, we will use the `reproject_match` function. As indicated by its name, it performs reprojection and clipping in one go.  \n",
    "\n",
    "`reproject_match` is an incredibly useful function.   \n",
    "In addition to clipping and reprojecting, it will also ensure that pixels in each image match up with each other, allowing easy comparison between even disparate datasets.   \n",
    "For example, it will allow combining reprojecting Landsat 8 imagery to Sentinel 2 for comparison of metrics (reflectance, NDVI, etc)"
   ]
  },
  {
   "cell_type": "code",
   "execution_count": null,
   "metadata": {},
   "outputs": [],
   "source": [
    "# First, artificially change the data to show the utility of reproject_match\n",
    "fake_raster = raster_s2_tci.rio.reproject(\"EPSG:4326\")\n",
    "fake_raster.plot.imshow()"
   ]
  },
  {
   "cell_type": "code",
   "execution_count": null,
   "metadata": {},
   "outputs": [],
   "source": [
    "# Now lets reproject match\n",
    "fake_raster_clip = fake_raster.rio.reproject_match(raster_clip_JF)\n",
    "fake_raster_clip.plot.imshow(figsize=(8,8))"
   ]
  },
  {
   "cell_type": "markdown",
   "metadata": {},
   "source": [
    "We can also use this function to expand and image."
   ]
  },
  {
   "cell_type": "code",
   "execution_count": null,
   "metadata": {},
   "outputs": [],
   "source": [
    "# Now lets reproject match\n",
    "\n",
    "# Set nodata properly for int8\n",
    "raster_clip_JF.data[raster_clip_JF.data == 0] = 255 \n",
    "\n",
    "fake_reproject_match = raster_clip_JF.rio.reproject_match(fake_raster)\n",
    "fake_reproject_match.plot.imshow(figsize=(8,8))"
   ]
  },
  {
   "cell_type": "markdown",
   "metadata": {},
   "source": [
    "In one line `reproject_match` does a lot of helpful things:\n",
    "\n",
    "1. It reprojects (both with a CRS and aligning offset pixels).\n",
    "2. It matches the extent using nodata values or by clipping the data.\n",
    "3. It sets nodata values. This means we can run calculations on those two images.\n"
   ]
  },
  {
   "cell_type": "markdown",
   "metadata": {},
   "source": [
    "# 📢 Key Points\n",
    "\n",
    "- Use `clip_box` to crop a raster with a bounding box.\n",
    "- Use `clip` to crop a raster with a given polygon.\n",
    "- For efficiency, its usually recommended to `clip_box` then `clip`.\n",
    "- Use `reproject_match` to match two raster datasets (e.g. for comparison)."
   ]
  }
 ],
 "metadata": {
  "kernelspec": {
   "display_name": "base",
   "language": "python",
   "name": "python3"
  },
  "language_info": {
   "codemirror_mode": {
    "name": "ipython",
    "version": 3
   },
   "file_extension": ".py",
   "mimetype": "text/x-python",
   "name": "python",
   "nbconvert_exporter": "python",
   "pygments_lexer": "ipython3",
   "version": "3.11.0"
  }
 },
 "nbformat": 4,
 "nbformat_minor": 2
}
