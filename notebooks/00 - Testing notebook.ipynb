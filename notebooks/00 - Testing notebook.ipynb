{
 "cells": [
  {
   "cell_type": "markdown",
   "metadata": {},
   "source": [
    "# 00 - Pre-Workshop Ntebook\n",
    "This notebook is designed for two reasons:\n",
    " - To make sure your enviornment works. \n",
    " - As a breif refresher to basic Python concepts.\n",
    " Please click on the text in the cell below to activate it, then <u>**hold shift and press enter**</u> to run the cell (or click the \"▶️\" symbol that comes up on the left of the cell when it's active)"
   ]
  },
  {
   "cell_type": "code",
   "execution_count": 1,
   "metadata": {},
   "outputs": [
    {
     "name": "stdout",
     "output_type": "stream",
     "text": [
      "numpy version: 1.26.4\n",
      "numba version: 0.59.1\n",
      "pandas version: 2.2.2\n",
      "rioxarray version: 0.15.1\n",
      "xarray version: 2024.2.0\n"
     ]
    }
   ],
   "source": [
    "import numpy\n",
    "import numba\n",
    "import pandas\n",
    "import rioxarray\n",
    "import xarray\n",
    "\n",
    "for package in [numpy, numba, pandas, rioxarray, xarray]:\n",
    "    print(f\"{package.__name__} version: {package.__version__}\")"
   ]
  },
  {
   "cell_type": "markdown",
   "metadata": {},
   "source": [
    "The output of this cell should looks something like this:\n",
    "```\n",
    "numpy version: 1.26.4\n",
    "numba version: 0.59.1\n",
    "pandas version: 2.2.2\n",
    "rioxarray version: 0.15.1\n",
    "xarray version: 2024.2.0\n",
    "```\n",
    "As long as the first two numbers match, there shouldnt be any issues. Small differences in the second number should also be fine. Google colab will likely have very different versions"
   ]
  },
  {
   "cell_type": "markdown",
   "metadata": {},
   "source": [
    "# Google Colab only\n",
    "If you're running on google colab, the below two cells are for you!  \n",
    "If you're not, it will just give you an error, which is expected and fine"
   ]
  },
  {
   "cell_type": "code",
   "execution_count": null,
   "metadata": {},
   "outputs": [],
   "source": [
    "from google.colab import drive\n",
    "drive.mount('/content/drive')"
   ]
  },
  {
   "cell_type": "code",
   "execution_count": null,
   "metadata": {},
   "outputs": [],
   "source": [
    "# Cells starting with \"!\" are not python, but system calls. On google colab, it is a calls the shell (i.e. it's unix based)\n",
    "!ls /content/drive/MyDrive"
   ]
  },
  {
   "cell_type": "markdown",
   "metadata": {},
   "source": [
    "---\n",
    "\n",
    "On Google Collab, the first cell will 'mount' your Google Drive storage folder to the directory on the cloud machine \"/content/drive\" into a folder called \"MyDrive\"  \n",
    "The next cell runs the unix command `ls`, \"List directory contents\", on your MyDrive folder, which should list anything you have in your Google Drive"
   ]
  },
  {
   "cell_type": "markdown",
   "metadata": {},
   "source": []
  }
 ],
 "metadata": {
  "kernelspec": {
   "display_name": "base",
   "language": "python",
   "name": "python3"
  },
  "language_info": {
   "codemirror_mode": {
    "name": "ipython",
    "version": 3
   },
   "file_extension": ".py",
   "mimetype": "text/x-python",
   "name": "python",
   "nbconvert_exporter": "python",
   "pygments_lexer": "ipython3",
   "version": "3.11.9"
  }
 },
 "nbformat": 4,
 "nbformat_minor": 2
}
