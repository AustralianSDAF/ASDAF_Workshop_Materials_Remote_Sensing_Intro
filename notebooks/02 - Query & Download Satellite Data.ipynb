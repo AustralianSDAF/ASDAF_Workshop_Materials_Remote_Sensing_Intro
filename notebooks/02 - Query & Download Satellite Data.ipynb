{
 "cells": [
  {
   "cell_type": "markdown",
   "metadata": {},
   "source": [
    "# Querying Satellite Data\n",
    "This notebook uses content from the [Geospatial Carpentries](https://carpentries-incubator.github.io/geospatial-python/)\n",
    "\n",
    "## ❓ Questions\n",
    "-  Where can I find open-access satellite data?\n",
    "-  How do I search for satellite imagery?\n",
    "-  How do I fetch remote raster datasets using Python?\n",
    "\n",
    "\n",
    "## ❗ Objectives\n",
    "-  Search public STAC repositories of satellite imagery using Python.\n",
    "-  Inspect a search result’s metadata.\n",
    "-  Download (a subset of) the assets available for a satellite scene.\n",
    "-  Open satellite imagery as raster data and save it to disk."
   ]
  },
  {
   "cell_type": "markdown",
   "metadata": {},
   "source": [
    "---\n",
    "\n",
    "# Introduction\n",
    "A number of satellites take snapshots of the Earth’s surface from space. The images recorded by these remote sensors represent a very precious data source for any activity that involves monitoring changes on Earth. \n",
    "\n",
    "Satellite imagery is typically provided in the form of geo-spatial raster data, with the measurements in each grid cell (“pixel”) being associated to accurate geographic coordinate information.\n",
    "\n",
    "In this lesson we will explore how to access open satellite data using Python. In particular, we will consider the Sentinel-2 data collections hosted at SARA and AWS. This dataset consists of multi-band optical images acquired by the two satellites of the Sentinel-2 mission and it is continuously updated with new images."
   ]
  },
  {
   "cell_type": "markdown",
   "metadata": {},
   "source": [
    "## API's\n",
    "An API is an Application Programming Interface.   \n",
    "\n",
    "It is a way of having one application talk (interface) with another application in a pre-defined way. For what we're doing, these will be using web addresses and JSON data, and will be handled by our library, `pystac-client`.   \n",
    "\n",
    "We will:\n",
    "1. First initialise `pystac-client`.\n",
    "2. Give it the information it needs.\n",
    "3. Ask it to send send the request.\n",
    "4. Investigate the results\n",
    "5. Download some of the results\n",
    "\n",
    "A useful resource will be the [pystac-client documentation](https://pystac-client.readthedocs.io/en/stable/quickstart.html).\n"
   ]
  },
  {
   "cell_type": "markdown",
   "metadata": {},
   "source": [
    "# Initial setup\n",
    "Some parameters we'll need throughout the lesson.  \n",
    "> **GOOGLE COLAB**  \n",
    "> If you're on google colab, the variable in this cell will already have been set in the top-cells, so just comment it out below with a `#` like so:\n",
    "> ```py\n",
    "> # storage_location = '../workshop_data'\n",
    "> ```\n",
    "> Alternatively delete the cell, or just dont run it!\n",
    "\n",
    "If you're not on clab, run the cell by holding `Shift` then pressing `Enter`!"
   ]
  },
  {
   "cell_type": "code",
   "execution_count": null,
   "metadata": {},
   "outputs": [],
   "source": [
    "# If you're on google colab, DONT RUN THIS CELL!\n",
    "storage_location = '../workshop_data'"
   ]
  },
  {
   "cell_type": "markdown",
   "metadata": {},
   "source": [
    "# Initialising PySTAC\n",
    "The version of pystac below should print out to 0.8.2"
   ]
  },
  {
   "cell_type": "code",
   "execution_count": null,
   "metadata": {},
   "outputs": [],
   "source": [
    "from pystac_client import Client\n",
    "import pystac_client\n",
    "\n",
    "print(pystac_client.__version__)"
   ]
  },
  {
   "cell_type": "markdown",
   "metadata": {},
   "source": [
    "To use pystac_client, we need to inialise an API. We do so by defining a base url below.  \n",
    "\n"
   ]
  },
  {
   "cell_type": "code",
   "execution_count": null,
   "metadata": {},
   "outputs": [],
   "source": [
    "api_url = \"https://earth-search.aws.element84.com/v1\"\n",
    "client = Client.open(api_url)"
   ]
  },
  {
   "cell_type": "markdown",
   "metadata": {},
   "source": [
    "In the following, we ask for scenes belonging to the sentinel-2-l2a collection. This dataset includes Sentinel-2 data products pre-processed at level 2A (bottom-of-atmosphere reflectance) and saved in Cloud Optimized GeoTIFF (COG) format:"
   ]
  },
  {
   "cell_type": "code",
   "execution_count": null,
   "metadata": {},
   "outputs": [],
   "source": [
    "collection = \"sentinel-2-l2a\"  # Sentinel-2, Level 2A, Cloud Optimized GeoTiffs (COGs)"
   ]
  },
  {
   "cell_type": "markdown",
   "metadata": {},
   "source": [
    "We also ask for scenes intersecting a geometry defined using the shapely library (in this case, a point):"
   ]
  },
  {
   "cell_type": "code",
   "execution_count": null,
   "metadata": {},
   "outputs": [],
   "source": [
    "from shapely.geometry import Point\n",
    "point = Point(116.06, -31.87)"
   ]
  },
  {
   "cell_type": "markdown",
   "metadata": {},
   "source": [
    "Note: at this stage, we are only dealing with metadata, so no image is going to be downloaded yet. But even metadata can be quite bulky if a large number of scenes match our search! For this reason, we limit the search result to 10 items:"
   ]
  },
  {
   "cell_type": "code",
   "execution_count": null,
   "metadata": {},
   "outputs": [],
   "source": [
    "search = client.search(\n",
    "    collections=[collection],\n",
    "    intersects=point,\n",
    "    max_items=10,\n",
    "    datetime=[\"2023-08-18\", \"2023-10-10\"]\n",
    ")"
   ]
  },
  {
   "cell_type": "markdown",
   "metadata": {},
   "source": [
    "We submit the query and find out how many scenes match our search criteria (please note that this output can be different as more data is added to the catalog):"
   ]
  },
  {
   "cell_type": "code",
   "execution_count": null,
   "metadata": {},
   "outputs": [],
   "source": [
    "print(search.matched())"
   ]
  },
  {
   "cell_type": "markdown",
   "metadata": {},
   "source": [
    "Finally, we retrieve the metadata of the search results:"
   ]
  },
  {
   "cell_type": "code",
   "execution_count": null,
   "metadata": {},
   "outputs": [],
   "source": [
    "items = search.item_collection()"
   ]
  },
  {
   "cell_type": "markdown",
   "metadata": {},
   "source": [
    "The variable items is an ItemCollection object. We can check its size by:"
   ]
  },
  {
   "cell_type": "code",
   "execution_count": null,
   "metadata": {},
   "outputs": [],
   "source": [
    "print(len(items))"
   ]
  },
  {
   "cell_type": "markdown",
   "metadata": {},
   "source": [
    "which is consistent with the maximum number of items that we have set in the search criteria. We can iterate over the returned items and print these to show their IDs:"
   ]
  },
  {
   "cell_type": "code",
   "execution_count": null,
   "metadata": {},
   "outputs": [],
   "source": [
    "for item in items:\n",
    "    print(item)\n",
    "    print(item.assets[\"thumbnail\"].href)"
   ]
  },
  {
   "cell_type": "markdown",
   "metadata": {},
   "source": [
    "Select a good image with little cloud cover by changing the `chosen_index` variable in the cell below\n",
    "> **Refresher:** Negative index numbers look backwards, so `-1` is the last entry, and `-2` the second last, etc"
   ]
  },
  {
   "cell_type": "code",
   "execution_count": null,
   "metadata": {},
   "outputs": [],
   "source": [
    "from pprint import pprint\n",
    "chosen_index = -1\n",
    "item = items[chosen_index]\n",
    "print(item.datetime)\n",
    "pprint(item.geometry)\n",
    "pprint(item.properties)"
   ]
  },
  {
   "cell_type": "markdown",
   "metadata": {},
   "source": [
    "# ✏ Exercise: Search satellite scenes using metadata filters\n",
    "\n",
    "\n",
    "Search for all the available Sentinel-2 scenes in the sentinel-2-l2a collection that satisfy the following criteria: - intersect a provided bounding box (use ±0.01 deg in lat/lon from the previously defined point); - have been recorded between 20 March 2020 and 30 March 2020; - have a cloud coverage smaller than 10% (hint: use the query input argument of client.search).\n",
    "\n",
    "How many scenes are available? Save the search results in GeoJSON format.\n",
    "\n",
    "Hint: Buffer the previous point, and use the `bbox` search parameters\n"
   ]
  },
  {
   "cell_type": "code",
   "execution_count": null,
   "metadata": {},
   "outputs": [],
   "source": []
  },
  {
   "cell_type": "code",
   "execution_count": null,
   "metadata": {},
   "outputs": [],
   "source": []
  },
  {
   "cell_type": "markdown",
   "metadata": {},
   "source": [
    "# Access the assets\n",
    "So far we have only discussed metadata - but how can one get to the actual images of a satellite scene (the “assets” in the STAC nomenclature)? These can be reached via links that are made available through the item’s attribute assets."
   ]
  },
  {
   "cell_type": "code",
   "execution_count": null,
   "metadata": {},
   "outputs": [],
   "source": [
    "assets = items[chosen_index].assets  # first item's asset dictionary\n",
    "print(assets.keys())"
   ]
  },
  {
   "cell_type": "markdown",
   "metadata": {},
   "source": [
    "We can print a minimal description of the available assets:"
   ]
  },
  {
   "cell_type": "code",
   "execution_count": null,
   "metadata": {},
   "outputs": [],
   "source": [
    "for key, asset in assets.items():\n",
    "    print(f\"{key}: {asset.title}\")"
   ]
  },
  {
   "cell_type": "code",
   "execution_count": null,
   "metadata": {},
   "outputs": [],
   "source": [
    "print(assets[\"thumbnail\"].href)"
   ]
  },
  {
   "cell_type": "markdown",
   "metadata": {},
   "source": [
    "Remote raster data can be directly opened via the rioxarray library. We will learn more about this library in the next episodes."
   ]
  },
  {
   "cell_type": "code",
   "execution_count": null,
   "metadata": {},
   "outputs": [],
   "source": []
  },
  {
   "cell_type": "code",
   "execution_count": null,
   "metadata": {},
   "outputs": [],
   "source": [
    "import rioxarray\n",
    "nir_href = assets[\"nir\"].href\n",
    "nir = rioxarray.open_rasterio(nir_href)\n",
    "print(nir)"
   ]
  },
  {
   "cell_type": "markdown",
   "metadata": {},
   "source": [
    "We can then save the data to disk:"
   ]
  },
  {
   "cell_type": "code",
   "execution_count": null,
   "metadata": {},
   "outputs": [],
   "source": [
    "# save whole image to disk\n",
    "import os \n",
    "\n",
    "nir_fpath = os.path.join(storage_location, \"S2\", \"nir.tif\")\n",
    "os.makedirs(os.path.dirname(nir_fpath), exist_ok=True)\n",
    "\n",
    "# nir.rio.to_raster(nir_fpath)"
   ]
  },
  {
   "cell_type": "markdown",
   "metadata": {},
   "source": []
  },
  {
   "cell_type": "markdown",
   "metadata": {},
   "source": [
    "Since that might take a while, given there are over 10000 x 10000 = a hundred million pixels in the 10 meter NIR band, you can take a smaller subset before downloading it. Becuase the raster is a COG, we can download just what we need!\n",
    "\n",
    "Here, we specify that we want to download the first (and only) band in the tif file, and a slice of the width and height dimensions."
   ]
  },
  {
   "cell_type": "code",
   "execution_count": null,
   "metadata": {},
   "outputs": [],
   "source": [
    "nir[0,2200:3200,1000:2200].rio.to_raster(nir_fpath)"
   ]
  },
  {
   "cell_type": "markdown",
   "metadata": {},
   "source": [
    "The difference is 155 Megabytes for the large image vs about 4 Megabytes for the subset."
   ]
  },
  {
   "cell_type": "markdown",
   "metadata": {},
   "source": [
    "# Other bands\n",
    "While we're at it, let's also download some other useful bands"
   ]
  },
  {
   "cell_type": "code",
   "execution_count": null,
   "metadata": {},
   "outputs": [],
   "source": [
    "band_name = \"red\"\n",
    "band_href = assets[band_name].href\n",
    "band_xr = rioxarray.open_rasterio(band_href)\n",
    "\n",
    "band_fpath = os.path.join(storage_location, \"S2\", f\"{band_name}.tif\")\n",
    "band_xr[0, 2200:3200, 1000:2200].rio.to_raster(band_fpath)"
   ]
  },
  {
   "cell_type": "code",
   "execution_count": null,
   "metadata": {},
   "outputs": [],
   "source": [
    "band_name = \"visual\"\n",
    "band_href = assets[band_name].href\n",
    "band_xr = rioxarray.open_rasterio(band_href)\n",
    "\n",
    "band_fpath = os.path.join(storage_location, \"S2\", f\"{band_name}.tif\")\n",
    "band_xr[:, 2200:3200, 1000:2200].rio.to_raster(band_fpath)"
   ]
  },
  {
   "cell_type": "code",
   "execution_count": null,
   "metadata": {},
   "outputs": [],
   "source": [
    "band_xr[:, 2200:3200, 1000:2200].plot.imshow()"
   ]
  },
  {
   "cell_type": "code",
   "execution_count": null,
   "metadata": {},
   "outputs": [],
   "source": []
  },
  {
   "cell_type": "markdown",
   "metadata": {},
   "source": [
    "# Public catalogs, protected data\n",
    "\n",
    "Publicly accessible catalogs and STAC endpoints do not necessarily imply publicly accessible data. Data providers, in fact, may limit data access to specific infrastructures and/or require authentication. For instance, the NASA CMR STAC endpoint considered in the last exercise offers publicly accessible metadata for the HLS collection, but most of the linked assets are available only for registered users (the thumbnail is publicly accessible).\n",
    "\n",
    "The authentication procedure for datasets with restricted access might differ depending on the data provider. For the NASA CMR, follow these steps in order to access data using Python:\n",
    "\n",
    "- Create a NASA Earthdata login account [here](https://urs.earthdata.nasa.gov/);\n",
    "- Set up a netrc file with your credentials, e.g. by using this [script](https://git.earthdata.nasa.gov/projects/LPDUR/repos/daac_data_download_python/browse/EarthdataLoginSetup.py);\n",
    "- Define the following environment variables:\n",
    "```\n",
    "import os\n",
    "os.environ[\"GDAL_HTTP_COOKIEFILE\"] = \"./cookies.txt\"\n",
    "os.environ[\"GDAL_HTTP_COOKIEJAR\"] = \"./cookies.txt\"\n",
    "```\n"
   ]
  },
  {
   "cell_type": "code",
   "execution_count": null,
   "metadata": {},
   "outputs": [],
   "source": []
  },
  {
   "cell_type": "code",
   "execution_count": null,
   "metadata": {},
   "outputs": [],
   "source": []
  },
  {
   "cell_type": "markdown",
   "metadata": {},
   "source": [
    "\n",
    "> **NOTE FOR ADVANCED USAGE:** \n",
    "> \n",
    "> While we use AWS earth-search in this lesson, there are many other cog-compliant URLS.    \n",
    "> Quite a few are provided by Geoscience-Australia's DEA for their sandbox environment (but are accessible outside of it). These API urls can be found at:  \n",
    "> https://explorer.sandbox.dea.ga.gov.au/products  \n",
    "> Just note that not all parameters will always be shared amongst API's, and you may need to do filtering yourself\n",
    "> I beleive currently they are set to owner-pays for data usage, and that they make no claims this will be permanent. Before relying on these API's for uptime-critical applications, please check any relevant information.    \n",
    "> Status and uptime for these DEA URLS can be found [here](https://monitoring.dea.ga.gov.au/)"
   ]
  },
  {
   "cell_type": "markdown",
   "metadata": {},
   "source": [
    "# Other options\n",
    "Another valid choice for downloading satellite data using python is [eodag](https://eodag.readthedocs.io/en/stable/). \n",
    "\n",
    "PySTAC takes a bit more knowhow of API's to use, but gives you more freedom as well.  \n",
    "PySTAC also supports COGs, which are currently only supported by the bleeding edge `eodag-cube` library rather than `eodag` itself.  \n",
    "SARA and NCI (the locations we'd get the satellite data from for eodag) supply Sentinel-2 data as zip-files rather than COGs."
   ]
  }
 ],
 "metadata": {
  "kernelspec": {
   "display_name": "base",
   "language": "python",
   "name": "python3"
  },
  "language_info": {
   "codemirror_mode": {
    "name": "ipython",
    "version": 3
   },
   "file_extension": ".py",
   "mimetype": "text/x-python",
   "name": "python",
   "nbconvert_exporter": "python",
   "pygments_lexer": "ipython3",
   "version": "3.11.9"
  }
 },
 "nbformat": 4,
 "nbformat_minor": 2
}
